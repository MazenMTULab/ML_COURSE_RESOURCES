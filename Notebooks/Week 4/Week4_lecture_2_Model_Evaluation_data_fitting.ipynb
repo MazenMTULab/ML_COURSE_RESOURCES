{
  "cells": [
    {
      "cell_type": "markdown",
      "id": "b66e91c2",
      "metadata": {
        "id": "b66e91c2"
      },
      "source": [
        "# Lecture 5: Model Evaluation and Types of data fitting\n",
        "\n",
        "MTU Spring 2025\n",
        "\n",
        "Instructor: Amna Mazen"
      ]
    },
    {
      "cell_type": "markdown",
      "id": "c339d820",
      "metadata": {
        "id": "c339d820"
      },
      "source": [
        "### Learning outcomes\n",
        "\n",
        "From this lecture, students are expected to be able to:\n",
        "\n",
        "- Explain why accuracy is not always the best metric in ML.\n",
        "- Explain components of a confusion matrix.\n",
        "- Define precision, recall, and f1-score and use them to evaluate different classifiers.\n",
        "- Broadly explain macro-average, weighted average.\n"
      ]
    },
    {
      "cell_type": "markdown",
      "id": "7ae88457",
      "metadata": {
        "id": "7ae88457"
      },
      "source": [
        "### Imports"
      ]
    },
    {
      "cell_type": "code",
      "execution_count": null,
      "id": "66017dc6",
      "metadata": {
        "id": "66017dc6"
      },
      "outputs": [],
      "source": [
        "import os\n",
        "import sys\n",
        "\n",
        "sys.path.append(\"code/.\")\n",
        "\n",
        "import IPython\n",
        "import matplotlib.pyplot as plt\n",
        "#import mglearn\n",
        "import numpy as np\n",
        "import pandas as pd\n",
        "from IPython.display import HTML, display\n",
        "#from plotting_functions import *\n",
        "from sklearn.dummy import DummyClassifier\n",
        "from sklearn.linear_model import LogisticRegression\n",
        "from sklearn.model_selection import cross_val_score, cross_validate, train_test_split\n",
        "from sklearn.pipeline import Pipeline, make_pipeline\n",
        "from sklearn.impute import SimpleImputer\n",
        "from sklearn.preprocessing import OneHotEncoder, OrdinalEncoder, StandardScaler\n",
        "from sklearn.dummy import DummyRegressor\n",
        "from sklearn.linear_model import LinearRegression\n",
        "from sklearn.preprocessing import StandardScaler\n",
        "from sklearn.metrics import make_scorer, mean_squared_error, r2_score\n",
        "\n",
        "\n",
        "#from utils import *\n",
        "\n",
        "%matplotlib inline\n",
        "pd.set_option(\"display.max_colwidth\", 200)\n",
        "\n",
        "from IPython.display import Image"
      ]
    },
    {
      "cell_type": "code",
      "execution_count": null,
      "id": "b7451d6c",
      "metadata": {
        "id": "b7451d6c"
      },
      "outputs": [],
      "source": [
        "# Changing global matplotlib settings for confusion matrix.\n",
        "plt.rcParams[\"xtick.labelsize\"] = 18\n",
        "plt.rcParams[\"ytick.labelsize\"] = 18"
      ]
    },
    {
      "cell_type": "markdown",
      "id": "70fe8d43",
      "metadata": {
        "id": "70fe8d43"
      },
      "source": [
        "## Evaluation metrics for binary classification: Motivation"
      ]
    },
    {
      "cell_type": "markdown",
      "id": "942ab633",
      "metadata": {
        "id": "942ab633"
      },
      "source": [
        " Let's classify fraudulent and non-fraudulent transactions using Kaggle's [Credit Card Fraud Detection](https://www.kaggle.com/mlg-ulb/creditcardfraud) data set."
      ]
    },
    {
      "cell_type": "code",
      "execution_count": null,
      "id": "cdad076b",
      "metadata": {
        "id": "cdad076b",
        "outputId": "c8e161dd-0601-4d86-ae03-8dcb47507763",
        "colab": {
          "base_uri": "https://localhost:8080/",
          "height": 256
        }
      },
      "outputs": [
        {
          "output_type": "execute_result",
          "data": {
            "text/plain": [
              "            Time        V1        V2        V3        V4        V5        V6  \\\n",
              "64454    51150.0 -3.538816  3.481893 -1.827130 -0.573050  2.644106 -0.340988   \n",
              "37906    39163.0 -0.363913  0.853399  1.648195  1.118934  0.100882  0.423852   \n",
              "79378    57994.0  1.193021 -0.136714  0.622612  0.780864 -0.823511 -0.706444   \n",
              "245686  152859.0  1.604032 -0.808208 -1.594982  0.200475  0.502985  0.832370   \n",
              "60943    49575.0 -2.669614 -2.734385  0.662450 -0.059077  3.346850 -2.549682   \n",
              "\n",
              "              V7        V8        V9  ...       V21       V22       V23  \\\n",
              "64454   2.102135 -2.939006  2.578654  ...  0.530978 -0.860677 -0.201810   \n",
              "37906   0.472790 -0.972440  0.033833  ...  0.687055 -0.094586  0.121531   \n",
              "79378  -0.206073 -0.016918  0.781531  ... -0.310405 -0.842028  0.085477   \n",
              "245686 -0.034071  0.234040  0.550616  ...  0.519029  1.429217 -0.139322   \n",
              "60943  -1.430571 -0.118450  0.469383  ... -0.228329 -0.370643 -0.211544   \n",
              "\n",
              "             V24       V25       V26       V27       V28  Amount  Class  \n",
              "64454  -1.719747  0.729143 -0.547993 -0.023636 -0.454966    1.00      0  \n",
              "37906   0.146830 -0.944092 -0.558564 -0.186814 -0.257103   18.49      0  \n",
              "79378   0.366005  0.254443  0.290002 -0.036764  0.015039   23.74      0  \n",
              "245686 -1.293663  0.037785  0.061206  0.005387 -0.057296  156.52      0  \n",
              "60943  -0.300837 -1.174590  0.573818  0.388023  0.161782   57.50      0  \n",
              "\n",
              "[5 rows x 31 columns]"
            ],
            "text/html": [
              "\n",
              "  <div id=\"df-64c990aa-d0cc-4ed0-806f-f04cda73b946\" class=\"colab-df-container\">\n",
              "    <div>\n",
              "<style scoped>\n",
              "    .dataframe tbody tr th:only-of-type {\n",
              "        vertical-align: middle;\n",
              "    }\n",
              "\n",
              "    .dataframe tbody tr th {\n",
              "        vertical-align: top;\n",
              "    }\n",
              "\n",
              "    .dataframe thead th {\n",
              "        text-align: right;\n",
              "    }\n",
              "</style>\n",
              "<table border=\"1\" class=\"dataframe\">\n",
              "  <thead>\n",
              "    <tr style=\"text-align: right;\">\n",
              "      <th></th>\n",
              "      <th>Time</th>\n",
              "      <th>V1</th>\n",
              "      <th>V2</th>\n",
              "      <th>V3</th>\n",
              "      <th>V4</th>\n",
              "      <th>V5</th>\n",
              "      <th>V6</th>\n",
              "      <th>V7</th>\n",
              "      <th>V8</th>\n",
              "      <th>V9</th>\n",
              "      <th>...</th>\n",
              "      <th>V21</th>\n",
              "      <th>V22</th>\n",
              "      <th>V23</th>\n",
              "      <th>V24</th>\n",
              "      <th>V25</th>\n",
              "      <th>V26</th>\n",
              "      <th>V27</th>\n",
              "      <th>V28</th>\n",
              "      <th>Amount</th>\n",
              "      <th>Class</th>\n",
              "    </tr>\n",
              "  </thead>\n",
              "  <tbody>\n",
              "    <tr>\n",
              "      <th>64454</th>\n",
              "      <td>51150.0</td>\n",
              "      <td>-3.538816</td>\n",
              "      <td>3.481893</td>\n",
              "      <td>-1.827130</td>\n",
              "      <td>-0.573050</td>\n",
              "      <td>2.644106</td>\n",
              "      <td>-0.340988</td>\n",
              "      <td>2.102135</td>\n",
              "      <td>-2.939006</td>\n",
              "      <td>2.578654</td>\n",
              "      <td>...</td>\n",
              "      <td>0.530978</td>\n",
              "      <td>-0.860677</td>\n",
              "      <td>-0.201810</td>\n",
              "      <td>-1.719747</td>\n",
              "      <td>0.729143</td>\n",
              "      <td>-0.547993</td>\n",
              "      <td>-0.023636</td>\n",
              "      <td>-0.454966</td>\n",
              "      <td>1.00</td>\n",
              "      <td>0</td>\n",
              "    </tr>\n",
              "    <tr>\n",
              "      <th>37906</th>\n",
              "      <td>39163.0</td>\n",
              "      <td>-0.363913</td>\n",
              "      <td>0.853399</td>\n",
              "      <td>1.648195</td>\n",
              "      <td>1.118934</td>\n",
              "      <td>0.100882</td>\n",
              "      <td>0.423852</td>\n",
              "      <td>0.472790</td>\n",
              "      <td>-0.972440</td>\n",
              "      <td>0.033833</td>\n",
              "      <td>...</td>\n",
              "      <td>0.687055</td>\n",
              "      <td>-0.094586</td>\n",
              "      <td>0.121531</td>\n",
              "      <td>0.146830</td>\n",
              "      <td>-0.944092</td>\n",
              "      <td>-0.558564</td>\n",
              "      <td>-0.186814</td>\n",
              "      <td>-0.257103</td>\n",
              "      <td>18.49</td>\n",
              "      <td>0</td>\n",
              "    </tr>\n",
              "    <tr>\n",
              "      <th>79378</th>\n",
              "      <td>57994.0</td>\n",
              "      <td>1.193021</td>\n",
              "      <td>-0.136714</td>\n",
              "      <td>0.622612</td>\n",
              "      <td>0.780864</td>\n",
              "      <td>-0.823511</td>\n",
              "      <td>-0.706444</td>\n",
              "      <td>-0.206073</td>\n",
              "      <td>-0.016918</td>\n",
              "      <td>0.781531</td>\n",
              "      <td>...</td>\n",
              "      <td>-0.310405</td>\n",
              "      <td>-0.842028</td>\n",
              "      <td>0.085477</td>\n",
              "      <td>0.366005</td>\n",
              "      <td>0.254443</td>\n",
              "      <td>0.290002</td>\n",
              "      <td>-0.036764</td>\n",
              "      <td>0.015039</td>\n",
              "      <td>23.74</td>\n",
              "      <td>0</td>\n",
              "    </tr>\n",
              "    <tr>\n",
              "      <th>245686</th>\n",
              "      <td>152859.0</td>\n",
              "      <td>1.604032</td>\n",
              "      <td>-0.808208</td>\n",
              "      <td>-1.594982</td>\n",
              "      <td>0.200475</td>\n",
              "      <td>0.502985</td>\n",
              "      <td>0.832370</td>\n",
              "      <td>-0.034071</td>\n",
              "      <td>0.234040</td>\n",
              "      <td>0.550616</td>\n",
              "      <td>...</td>\n",
              "      <td>0.519029</td>\n",
              "      <td>1.429217</td>\n",
              "      <td>-0.139322</td>\n",
              "      <td>-1.293663</td>\n",
              "      <td>0.037785</td>\n",
              "      <td>0.061206</td>\n",
              "      <td>0.005387</td>\n",
              "      <td>-0.057296</td>\n",
              "      <td>156.52</td>\n",
              "      <td>0</td>\n",
              "    </tr>\n",
              "    <tr>\n",
              "      <th>60943</th>\n",
              "      <td>49575.0</td>\n",
              "      <td>-2.669614</td>\n",
              "      <td>-2.734385</td>\n",
              "      <td>0.662450</td>\n",
              "      <td>-0.059077</td>\n",
              "      <td>3.346850</td>\n",
              "      <td>-2.549682</td>\n",
              "      <td>-1.430571</td>\n",
              "      <td>-0.118450</td>\n",
              "      <td>0.469383</td>\n",
              "      <td>...</td>\n",
              "      <td>-0.228329</td>\n",
              "      <td>-0.370643</td>\n",
              "      <td>-0.211544</td>\n",
              "      <td>-0.300837</td>\n",
              "      <td>-1.174590</td>\n",
              "      <td>0.573818</td>\n",
              "      <td>0.388023</td>\n",
              "      <td>0.161782</td>\n",
              "      <td>57.50</td>\n",
              "      <td>0</td>\n",
              "    </tr>\n",
              "  </tbody>\n",
              "</table>\n",
              "<p>5 rows × 31 columns</p>\n",
              "</div>\n",
              "    <div class=\"colab-df-buttons\">\n",
              "\n",
              "  <div class=\"colab-df-container\">\n",
              "    <button class=\"colab-df-convert\" onclick=\"convertToInteractive('df-64c990aa-d0cc-4ed0-806f-f04cda73b946')\"\n",
              "            title=\"Convert this dataframe to an interactive table.\"\n",
              "            style=\"display:none;\">\n",
              "\n",
              "  <svg xmlns=\"http://www.w3.org/2000/svg\" height=\"24px\" viewBox=\"0 -960 960 960\">\n",
              "    <path d=\"M120-120v-720h720v720H120Zm60-500h600v-160H180v160Zm220 220h160v-160H400v160Zm0 220h160v-160H400v160ZM180-400h160v-160H180v160Zm440 0h160v-160H620v160ZM180-180h160v-160H180v160Zm440 0h160v-160H620v160Z\"/>\n",
              "  </svg>\n",
              "    </button>\n",
              "\n",
              "  <style>\n",
              "    .colab-df-container {\n",
              "      display:flex;\n",
              "      gap: 12px;\n",
              "    }\n",
              "\n",
              "    .colab-df-convert {\n",
              "      background-color: #E8F0FE;\n",
              "      border: none;\n",
              "      border-radius: 50%;\n",
              "      cursor: pointer;\n",
              "      display: none;\n",
              "      fill: #1967D2;\n",
              "      height: 32px;\n",
              "      padding: 0 0 0 0;\n",
              "      width: 32px;\n",
              "    }\n",
              "\n",
              "    .colab-df-convert:hover {\n",
              "      background-color: #E2EBFA;\n",
              "      box-shadow: 0px 1px 2px rgba(60, 64, 67, 0.3), 0px 1px 3px 1px rgba(60, 64, 67, 0.15);\n",
              "      fill: #174EA6;\n",
              "    }\n",
              "\n",
              "    .colab-df-buttons div {\n",
              "      margin-bottom: 4px;\n",
              "    }\n",
              "\n",
              "    [theme=dark] .colab-df-convert {\n",
              "      background-color: #3B4455;\n",
              "      fill: #D2E3FC;\n",
              "    }\n",
              "\n",
              "    [theme=dark] .colab-df-convert:hover {\n",
              "      background-color: #434B5C;\n",
              "      box-shadow: 0px 1px 3px 1px rgba(0, 0, 0, 0.15);\n",
              "      filter: drop-shadow(0px 1px 2px rgba(0, 0, 0, 0.3));\n",
              "      fill: #FFFFFF;\n",
              "    }\n",
              "  </style>\n",
              "\n",
              "    <script>\n",
              "      const buttonEl =\n",
              "        document.querySelector('#df-64c990aa-d0cc-4ed0-806f-f04cda73b946 button.colab-df-convert');\n",
              "      buttonEl.style.display =\n",
              "        google.colab.kernel.accessAllowed ? 'block' : 'none';\n",
              "\n",
              "      async function convertToInteractive(key) {\n",
              "        const element = document.querySelector('#df-64c990aa-d0cc-4ed0-806f-f04cda73b946');\n",
              "        const dataTable =\n",
              "          await google.colab.kernel.invokeFunction('convertToInteractive',\n",
              "                                                    [key], {});\n",
              "        if (!dataTable) return;\n",
              "\n",
              "        const docLinkHtml = 'Like what you see? Visit the ' +\n",
              "          '<a target=\"_blank\" href=https://colab.research.google.com/notebooks/data_table.ipynb>data table notebook</a>'\n",
              "          + ' to learn more about interactive tables.';\n",
              "        element.innerHTML = '';\n",
              "        dataTable['output_type'] = 'display_data';\n",
              "        await google.colab.output.renderOutput(dataTable, element);\n",
              "        const docLink = document.createElement('div');\n",
              "        docLink.innerHTML = docLinkHtml;\n",
              "        element.appendChild(docLink);\n",
              "      }\n",
              "    </script>\n",
              "  </div>\n",
              "\n",
              "\n",
              "<div id=\"df-82e03705-ee8c-492b-9d63-ac19e7484fa5\">\n",
              "  <button class=\"colab-df-quickchart\" onclick=\"quickchart('df-82e03705-ee8c-492b-9d63-ac19e7484fa5')\"\n",
              "            title=\"Suggest charts\"\n",
              "            style=\"display:none;\">\n",
              "\n",
              "<svg xmlns=\"http://www.w3.org/2000/svg\" height=\"24px\"viewBox=\"0 0 24 24\"\n",
              "     width=\"24px\">\n",
              "    <g>\n",
              "        <path d=\"M19 3H5c-1.1 0-2 .9-2 2v14c0 1.1.9 2 2 2h14c1.1 0 2-.9 2-2V5c0-1.1-.9-2-2-2zM9 17H7v-7h2v7zm4 0h-2V7h2v10zm4 0h-2v-4h2v4z\"/>\n",
              "    </g>\n",
              "</svg>\n",
              "  </button>\n",
              "\n",
              "<style>\n",
              "  .colab-df-quickchart {\n",
              "      --bg-color: #E8F0FE;\n",
              "      --fill-color: #1967D2;\n",
              "      --hover-bg-color: #E2EBFA;\n",
              "      --hover-fill-color: #174EA6;\n",
              "      --disabled-fill-color: #AAA;\n",
              "      --disabled-bg-color: #DDD;\n",
              "  }\n",
              "\n",
              "  [theme=dark] .colab-df-quickchart {\n",
              "      --bg-color: #3B4455;\n",
              "      --fill-color: #D2E3FC;\n",
              "      --hover-bg-color: #434B5C;\n",
              "      --hover-fill-color: #FFFFFF;\n",
              "      --disabled-bg-color: #3B4455;\n",
              "      --disabled-fill-color: #666;\n",
              "  }\n",
              "\n",
              "  .colab-df-quickchart {\n",
              "    background-color: var(--bg-color);\n",
              "    border: none;\n",
              "    border-radius: 50%;\n",
              "    cursor: pointer;\n",
              "    display: none;\n",
              "    fill: var(--fill-color);\n",
              "    height: 32px;\n",
              "    padding: 0;\n",
              "    width: 32px;\n",
              "  }\n",
              "\n",
              "  .colab-df-quickchart:hover {\n",
              "    background-color: var(--hover-bg-color);\n",
              "    box-shadow: 0 1px 2px rgba(60, 64, 67, 0.3), 0 1px 3px 1px rgba(60, 64, 67, 0.15);\n",
              "    fill: var(--button-hover-fill-color);\n",
              "  }\n",
              "\n",
              "  .colab-df-quickchart-complete:disabled,\n",
              "  .colab-df-quickchart-complete:disabled:hover {\n",
              "    background-color: var(--disabled-bg-color);\n",
              "    fill: var(--disabled-fill-color);\n",
              "    box-shadow: none;\n",
              "  }\n",
              "\n",
              "  .colab-df-spinner {\n",
              "    border: 2px solid var(--fill-color);\n",
              "    border-color: transparent;\n",
              "    border-bottom-color: var(--fill-color);\n",
              "    animation:\n",
              "      spin 1s steps(1) infinite;\n",
              "  }\n",
              "\n",
              "  @keyframes spin {\n",
              "    0% {\n",
              "      border-color: transparent;\n",
              "      border-bottom-color: var(--fill-color);\n",
              "      border-left-color: var(--fill-color);\n",
              "    }\n",
              "    20% {\n",
              "      border-color: transparent;\n",
              "      border-left-color: var(--fill-color);\n",
              "      border-top-color: var(--fill-color);\n",
              "    }\n",
              "    30% {\n",
              "      border-color: transparent;\n",
              "      border-left-color: var(--fill-color);\n",
              "      border-top-color: var(--fill-color);\n",
              "      border-right-color: var(--fill-color);\n",
              "    }\n",
              "    40% {\n",
              "      border-color: transparent;\n",
              "      border-right-color: var(--fill-color);\n",
              "      border-top-color: var(--fill-color);\n",
              "    }\n",
              "    60% {\n",
              "      border-color: transparent;\n",
              "      border-right-color: var(--fill-color);\n",
              "    }\n",
              "    80% {\n",
              "      border-color: transparent;\n",
              "      border-right-color: var(--fill-color);\n",
              "      border-bottom-color: var(--fill-color);\n",
              "    }\n",
              "    90% {\n",
              "      border-color: transparent;\n",
              "      border-bottom-color: var(--fill-color);\n",
              "    }\n",
              "  }\n",
              "</style>\n",
              "\n",
              "  <script>\n",
              "    async function quickchart(key) {\n",
              "      const quickchartButtonEl =\n",
              "        document.querySelector('#' + key + ' button');\n",
              "      quickchartButtonEl.disabled = true;  // To prevent multiple clicks.\n",
              "      quickchartButtonEl.classList.add('colab-df-spinner');\n",
              "      try {\n",
              "        const charts = await google.colab.kernel.invokeFunction(\n",
              "            'suggestCharts', [key], {});\n",
              "      } catch (error) {\n",
              "        console.error('Error during call to suggestCharts:', error);\n",
              "      }\n",
              "      quickchartButtonEl.classList.remove('colab-df-spinner');\n",
              "      quickchartButtonEl.classList.add('colab-df-quickchart-complete');\n",
              "    }\n",
              "    (() => {\n",
              "      let quickchartButtonEl =\n",
              "        document.querySelector('#df-82e03705-ee8c-492b-9d63-ac19e7484fa5 button');\n",
              "      quickchartButtonEl.style.display =\n",
              "        google.colab.kernel.accessAllowed ? 'block' : 'none';\n",
              "    })();\n",
              "  </script>\n",
              "</div>\n",
              "\n",
              "    </div>\n",
              "  </div>\n"
            ],
            "application/vnd.google.colaboratory.intrinsic+json": {
              "type": "dataframe",
              "variable_name": "train_df"
            }
          },
          "metadata": {},
          "execution_count": 15
        }
      ],
      "source": [
        "cc_df = pd.read_csv(\"/content/creditcard.csv\", encoding=\"latin-1\")\n",
        "cc_df=cc_df.dropna(axis=0)\n",
        "train_df, test_df = train_test_split(cc_df, test_size=0.3, random_state=111)\n",
        "train_df.head()"
      ]
    },
    {
      "cell_type": "code",
      "execution_count": null,
      "id": "02f9cab6",
      "metadata": {
        "id": "02f9cab6"
      },
      "outputs": [],
      "source": []
    },
    {
      "cell_type": "markdown",
      "source": [
        "### Dataset preprocessing\n"
      ],
      "metadata": {
        "id": "cmqNA2-j61gq"
      },
      "id": "cmqNA2-j61gq"
    },
    {
      "cell_type": "code",
      "execution_count": null,
      "id": "150ce45f",
      "metadata": {
        "id": "150ce45f",
        "outputId": "1f37ee7a-7a6f-437e-f872-5398d5c334d1",
        "colab": {
          "base_uri": "https://localhost:8080/"
        }
      },
      "outputs": [
        {
          "output_type": "execute_result",
          "data": {
            "text/plain": [
              "(199364, 31)"
            ]
          },
          "metadata": {},
          "execution_count": 16
        }
      ],
      "source": [
        "train_df.shape"
      ]
    },
    {
      "cell_type": "markdown",
      "id": "bde9b6f9",
      "metadata": {
        "id": "bde9b6f9"
      },
      "source": [
        "- Good size dataset\n",
        "- For confidentially reasons, it only provides transformed features with PCA, which is a popular dimensionality reduction technique."
      ]
    },
    {
      "cell_type": "code",
      "execution_count": null,
      "id": "6ae97d31",
      "metadata": {
        "id": "6ae97d31"
      },
      "outputs": [],
      "source": []
    },
    {
      "cell_type": "markdown",
      "id": "486f1244",
      "metadata": {
        "id": "486f1244"
      },
      "source": [
        "- We do not have categorical features. All features are numeric.\n",
        "- We have to be careful about the `Time` and `Amount` features.\n",
        "- We could scale `Amount`.\n",
        "- Do we want to scale time?\n",
        "    - In this lecture, we'll just drop the Time feature.\n",
        "    - We'll learn about time series briefly later in the course."
      ]
    },
    {
      "cell_type": "markdown",
      "id": "0f2b2413",
      "metadata": {
        "id": "0f2b2413"
      },
      "source": [
        "Let's separate `X` and `y` for train and test splits."
      ]
    },
    {
      "cell_type": "code",
      "execution_count": null,
      "id": "0ea33585",
      "metadata": {
        "id": "0ea33585"
      },
      "outputs": [],
      "source": [
        "X_train_big, y_train_big = train_df.drop(columns=[\"Class\", \"Time\"]), train_df[\"Class\"]\n",
        "X_test, y_test = test_df.drop(columns=[\"Class\", \"Time\"]), test_df[\"Class\"]"
      ]
    },
    {
      "cell_type": "code",
      "execution_count": null,
      "id": "7c3196af",
      "metadata": {
        "id": "7c3196af"
      },
      "outputs": [],
      "source": []
    },
    {
      "cell_type": "markdown",
      "id": "80ce6795",
      "metadata": {
        "id": "80ce6795"
      },
      "source": [
        "- It's easier to demonstrate evaluation metrics using an explicit validation set instead of using cross-validation.\n",
        "- So let's create a validation set.\n",
        "- Our data is large enough so it shouldn't be a problem."
      ]
    },
    {
      "cell_type": "code",
      "execution_count": null,
      "id": "0d5e5b28",
      "metadata": {
        "id": "0d5e5b28"
      },
      "outputs": [],
      "source": [
        "X_train, X_valid, y_train, y_valid = train_test_split(\n",
        "    X_train_big, y_train_big, test_size=0.3, random_state=123\n",
        ")"
      ]
    },
    {
      "cell_type": "code",
      "execution_count": null,
      "id": "11fc1bc3",
      "metadata": {
        "id": "11fc1bc3"
      },
      "outputs": [],
      "source": []
    },
    {
      "cell_type": "markdown",
      "id": "11fa2be1",
      "metadata": {
        "id": "11fa2be1"
      },
      "source": [
        "#### Baseline"
      ]
    },
    {
      "cell_type": "code",
      "execution_count": null,
      "id": "05354621",
      "metadata": {
        "id": "05354621"
      },
      "outputs": [],
      "source": []
    },
    {
      "cell_type": "code",
      "execution_count": null,
      "id": "61da808d",
      "metadata": {
        "id": "61da808d",
        "outputId": "ac47b5ce-b99b-4e00-daaa-d5dad5d7e4c0",
        "colab": {
          "base_uri": "https://localhost:8080/",
          "height": 210
        }
      },
      "outputs": [
        {
          "output_type": "execute_result",
          "data": {
            "text/plain": [
              "fit_time       0.018061\n",
              "score_time     0.002517\n",
              "test_score     0.998302\n",
              "train_score    0.998302\n",
              "dtype: float64"
            ],
            "text/html": [
              "<div>\n",
              "<style scoped>\n",
              "    .dataframe tbody tr th:only-of-type {\n",
              "        vertical-align: middle;\n",
              "    }\n",
              "\n",
              "    .dataframe tbody tr th {\n",
              "        vertical-align: top;\n",
              "    }\n",
              "\n",
              "    .dataframe thead th {\n",
              "        text-align: right;\n",
              "    }\n",
              "</style>\n",
              "<table border=\"1\" class=\"dataframe\">\n",
              "  <thead>\n",
              "    <tr style=\"text-align: right;\">\n",
              "      <th></th>\n",
              "      <th>0</th>\n",
              "    </tr>\n",
              "  </thead>\n",
              "  <tbody>\n",
              "    <tr>\n",
              "      <th>fit_time</th>\n",
              "      <td>0.018061</td>\n",
              "    </tr>\n",
              "    <tr>\n",
              "      <th>score_time</th>\n",
              "      <td>0.002517</td>\n",
              "    </tr>\n",
              "    <tr>\n",
              "      <th>test_score</th>\n",
              "      <td>0.998302</td>\n",
              "    </tr>\n",
              "    <tr>\n",
              "      <th>train_score</th>\n",
              "      <td>0.998302</td>\n",
              "    </tr>\n",
              "  </tbody>\n",
              "</table>\n",
              "</div><br><label><b>dtype:</b> float64</label>"
            ]
          },
          "metadata": {},
          "execution_count": 21
        }
      ],
      "source": [
        "dummy = DummyClassifier()\n",
        "pd.DataFrame(cross_validate(dummy, X_train, y_train, return_train_score=True)).mean()"
      ]
    },
    {
      "cell_type": "code",
      "execution_count": null,
      "id": "900e2e9b",
      "metadata": {
        "id": "900e2e9b"
      },
      "outputs": [],
      "source": []
    },
    {
      "cell_type": "markdown",
      "id": "2fdf85aa",
      "metadata": {
        "id": "2fdf85aa"
      },
      "source": [
        "#### Observations\n",
        "\n",
        "- `DummyClassifier` is getting 0.998 cross-validation accuracy!!\n",
        "- Should we be happy with this accuracy and deploy this `DummyClassifier` model for fraud detection?"
      ]
    },
    {
      "cell_type": "code",
      "execution_count": null,
      "id": "52d87e83",
      "metadata": {
        "id": "52d87e83"
      },
      "outputs": [],
      "source": []
    },
    {
      "cell_type": "markdown",
      "id": "974bb633",
      "metadata": {
        "id": "974bb633"
      },
      "source": [
        "What's the class distribution?"
      ]
    },
    {
      "cell_type": "code",
      "execution_count": null,
      "id": "0feb16e3",
      "metadata": {
        "id": "0feb16e3",
        "outputId": "43853b08-1a5f-45ad-c18a-ed3bf48dc261",
        "colab": {
          "base_uri": "https://localhost:8080/",
          "height": 178
        }
      },
      "outputs": [
        {
          "output_type": "execute_result",
          "data": {
            "text/plain": [
              "Class\n",
              "0    0.9983\n",
              "1    0.0017\n",
              "Name: proportion, dtype: float64"
            ],
            "text/html": [
              "<div>\n",
              "<style scoped>\n",
              "    .dataframe tbody tr th:only-of-type {\n",
              "        vertical-align: middle;\n",
              "    }\n",
              "\n",
              "    .dataframe tbody tr th {\n",
              "        vertical-align: top;\n",
              "    }\n",
              "\n",
              "    .dataframe thead th {\n",
              "        text-align: right;\n",
              "    }\n",
              "</style>\n",
              "<table border=\"1\" class=\"dataframe\">\n",
              "  <thead>\n",
              "    <tr style=\"text-align: right;\">\n",
              "      <th></th>\n",
              "      <th>proportion</th>\n",
              "    </tr>\n",
              "    <tr>\n",
              "      <th>Class</th>\n",
              "      <th></th>\n",
              "    </tr>\n",
              "  </thead>\n",
              "  <tbody>\n",
              "    <tr>\n",
              "      <th>0</th>\n",
              "      <td>0.9983</td>\n",
              "    </tr>\n",
              "    <tr>\n",
              "      <th>1</th>\n",
              "      <td>0.0017</td>\n",
              "    </tr>\n",
              "  </tbody>\n",
              "</table>\n",
              "</div><br><label><b>dtype:</b> float64</label>"
            ]
          },
          "metadata": {},
          "execution_count": 22
        }
      ],
      "source": [
        "train_df[\"Class\"].value_counts(normalize=True)"
      ]
    },
    {
      "cell_type": "code",
      "execution_count": null,
      "id": "ca311808",
      "metadata": {
        "id": "ca311808"
      },
      "outputs": [],
      "source": []
    },
    {
      "cell_type": "markdown",
      "id": "e030814e",
      "metadata": {
        "id": "e030814e"
      },
      "source": [
        "- We have class imbalance.\n",
        "- We have MANY non-fraud transactions and only a handful of fraud transactions.\n",
        "- So in the training set, `most_frequent` strategy is labeling 199,025 (99.83%) instances correctly and only 339 (0.17%) instances incorrectly.\n",
        "- Is this what we want?\n",
        "- The \"fraud\" class is the important class that we want to spot."
      ]
    },
    {
      "cell_type": "code",
      "execution_count": null,
      "id": "68496918",
      "metadata": {
        "id": "68496918"
      },
      "outputs": [],
      "source": []
    },
    {
      "cell_type": "markdown",
      "id": "aa1c15b5",
      "metadata": {
        "id": "aa1c15b5"
      },
      "source": [
        "Let's scale the features and try `LogisticRegression`.   "
      ]
    },
    {
      "cell_type": "code",
      "execution_count": null,
      "id": "5096e8f6",
      "metadata": {
        "id": "5096e8f6",
        "outputId": "ae3e5358-0e8f-46bf-e0cf-dce2a20c9c66",
        "colab": {
          "base_uri": "https://localhost:8080/",
          "height": 210
        }
      },
      "outputs": [
        {
          "output_type": "execute_result",
          "data": {
            "text/plain": [
              "fit_time       0.398167\n",
              "score_time     0.011006\n",
              "test_score     0.999183\n",
              "train_score    0.999221\n",
              "dtype: float64"
            ],
            "text/html": [
              "<div>\n",
              "<style scoped>\n",
              "    .dataframe tbody tr th:only-of-type {\n",
              "        vertical-align: middle;\n",
              "    }\n",
              "\n",
              "    .dataframe tbody tr th {\n",
              "        vertical-align: top;\n",
              "    }\n",
              "\n",
              "    .dataframe thead th {\n",
              "        text-align: right;\n",
              "    }\n",
              "</style>\n",
              "<table border=\"1\" class=\"dataframe\">\n",
              "  <thead>\n",
              "    <tr style=\"text-align: right;\">\n",
              "      <th></th>\n",
              "      <th>0</th>\n",
              "    </tr>\n",
              "  </thead>\n",
              "  <tbody>\n",
              "    <tr>\n",
              "      <th>fit_time</th>\n",
              "      <td>0.398167</td>\n",
              "    </tr>\n",
              "    <tr>\n",
              "      <th>score_time</th>\n",
              "      <td>0.011006</td>\n",
              "    </tr>\n",
              "    <tr>\n",
              "      <th>test_score</th>\n",
              "      <td>0.999183</td>\n",
              "    </tr>\n",
              "    <tr>\n",
              "      <th>train_score</th>\n",
              "      <td>0.999221</td>\n",
              "    </tr>\n",
              "  </tbody>\n",
              "</table>\n",
              "</div><br><label><b>dtype:</b> float64</label>"
            ]
          },
          "metadata": {},
          "execution_count": 23
        }
      ],
      "source": [
        "pipe = make_pipeline(StandardScaler(), LogisticRegression())\n",
        "pd.DataFrame(cross_validate(pipe, X_train, y_train, return_train_score=True)).mean()"
      ]
    },
    {
      "cell_type": "code",
      "execution_count": null,
      "id": "d01809a2",
      "metadata": {
        "id": "d01809a2"
      },
      "outputs": [],
      "source": []
    },
    {
      "cell_type": "markdown",
      "id": "76e3c442",
      "metadata": {
        "id": "76e3c442"
      },
      "source": [
        "- We are getting a slightly better score with logistic regression.  \n",
        "- What score should be considered an acceptable score here?\n",
        "- Are we actually spotting any \"fraud\" transactions?"
      ]
    },
    {
      "cell_type": "code",
      "execution_count": null,
      "id": "c8064b79",
      "metadata": {
        "id": "c8064b79"
      },
      "outputs": [],
      "source": []
    },
    {
      "cell_type": "markdown",
      "id": "ac8b4425",
      "metadata": {
        "id": "ac8b4425"
      },
      "source": [
        "- `.score` by default returns accuracy which is\n",
        "$$\\frac{\\text{correct predictions}}{\\text{total examples}}$$\n",
        "- Is accuracy a good metric here?\n",
        "- Is there anything more informative than accuracy that we can use here?\n",
        "\n",
        "Let's dig a little deeper."
      ]
    },
    {
      "cell_type": "code",
      "execution_count": null,
      "id": "df5a5ec9",
      "metadata": {
        "id": "df5a5ec9"
      },
      "outputs": [],
      "source": []
    },
    {
      "cell_type": "markdown",
      "id": "1d58b0a5",
      "metadata": {
        "id": "1d58b0a5"
      },
      "source": [
        "## Confusion matrix"
      ]
    },
    {
      "cell_type": "code",
      "execution_count": null,
      "id": "2a9e47a6",
      "metadata": {
        "id": "2a9e47a6"
      },
      "outputs": [],
      "source": []
    },
    {
      "cell_type": "markdown",
      "id": "f35bde2e",
      "metadata": {
        "id": "f35bde2e"
      },
      "source": [
        "One way to get a better understanding of the errors is by looking at\n",
        "- false positives (type I errors), where the model incorrectly spots examples as fraud\n",
        "- false negatives (type II errors), where it's missing to spot fraud examples"
      ]
    },
    {
      "cell_type": "code",
      "execution_count": null,
      "id": "86c0f253",
      "metadata": {
        "id": "86c0f253"
      },
      "outputs": [],
      "source": []
    },
    {
      "cell_type": "markdown",
      "id": "de16d34d",
      "metadata": {
        "id": "de16d34d"
      },
      "source": [
        "You can get a numpy array of confusion matrix as follows:"
      ]
    },
    {
      "cell_type": "code",
      "execution_count": null,
      "id": "e2b6c6cc",
      "metadata": {
        "id": "e2b6c6cc",
        "outputId": "c0d1c836-27e3-45be-c2da-f85599f4081e"
      },
      "outputs": [
        {
          "name": "stdout",
          "output_type": "stream",
          "text": [
            "Confusion matrix for fraud data set\n",
            "[[59700     8]\n",
            " [   38    64]]\n"
          ]
        }
      ],
      "source": [
        "from sklearn.metrics import confusion_matrix\n",
        "\n",
        "predictions = pipe.predict(X_valid)\n",
        "TN, FP, FN, TP = confusion_matrix(y_valid, predictions).ravel()\n",
        "print(\"Confusion matrix for fraud data set\")\n",
        "print(disp.confusion_matrix)"
      ]
    },
    {
      "cell_type": "code",
      "execution_count": null,
      "id": "54d41faa",
      "metadata": {
        "id": "54d41faa",
        "outputId": "a10438ae-a8c8-4c86-b156-b6cb0fc899ff",
        "colab": {
          "base_uri": "https://localhost:8080/",
          "height": 459
        }
      },
      "outputs": [
        {
          "output_type": "display_data",
          "data": {
            "text/plain": [
              "<Figure size 640x480 with 1 Axes>"
            ],
            "image/png": "[encoded data removed]"
          },
          "metadata": {}
        }
      ],
      "source": [
        "from sklearn.metrics import ConfusionMatrixDisplay\n",
        "\n",
        "pipe.fit(X_train, y_train)\n",
        "disp = ConfusionMatrixDisplay.from_estimator(\n",
        "    pipe,\n",
        "    X_valid,\n",
        "    y_valid,\n",
        "    display_labels=[\"Non fraud\", \"fraud\"],\n",
        "    values_format=\"d\",\n",
        "    cmap=plt.cm.Blues,\n",
        "    colorbar=False,\n",
        ");"
      ]
    },
    {
      "cell_type": "code",
      "execution_count": null,
      "id": "c9281494",
      "metadata": {
        "id": "c9281494"
      },
      "outputs": [],
      "source": []
    },
    {
      "cell_type": "markdown",
      "id": "9f8a92db",
      "metadata": {
        "id": "9f8a92db"
      },
      "source": [
        "![image.png](attachment:image.png)"
      ]
    },
    {
      "cell_type": "markdown",
      "id": "13a50791",
      "metadata": {
        "id": "13a50791"
      },
      "source": [
        "- Perfect prediction has all values down the diagonal\n",
        "- Off diagonal entries can often tell us about what is being mis-predicted"
      ]
    },
    {
      "cell_type": "code",
      "execution_count": null,
      "id": "83e86dfc",
      "metadata": {
        "id": "83e86dfc"
      },
      "outputs": [],
      "source": []
    },
    {
      "cell_type": "markdown",
      "id": "2d5edbd1",
      "metadata": {
        "id": "2d5edbd1"
      },
      "source": [
        "### What is \"positive\" and \"negative\"?\n",
        "\n",
        "- Two kinds of binary classification problems\n",
        "    - Distinguishing between two classes\n",
        "    - Spotting a class (spot fraud transaction, spot spam, spot disease)\n",
        "- In case of spotting problems, the thing that we are interested in spotting is considered \"positive\".\n",
        "- Above we wanted to spot fraudulent transactions and so they are \"positive\"."
      ]
    },
    {
      "cell_type": "code",
      "execution_count": null,
      "id": "5bc97130",
      "metadata": {
        "id": "5bc97130"
      },
      "outputs": [],
      "source": []
    },
    {
      "cell_type": "code",
      "execution_count": null,
      "id": "9299d483",
      "metadata": {
        "id": "9299d483"
      },
      "outputs": [],
      "source": []
    },
    {
      "cell_type": "markdown",
      "id": "0e80a29e",
      "metadata": {
        "id": "0e80a29e"
      },
      "source": [
        "### Confusion matrix with cross-validation"
      ]
    },
    {
      "cell_type": "markdown",
      "id": "7828aef4",
      "metadata": {
        "id": "7828aef4"
      },
      "source": [
        "- You can also calculate confusion matrix with cross-validation using the `cross_val_predict` method.  \n",
        "- But then you cannot conveniently use `plot_confusion_matrix`."
      ]
    },
    {
      "cell_type": "code",
      "execution_count": null,
      "id": "b9686ff6",
      "metadata": {
        "id": "b9686ff6",
        "outputId": "6feca869-004d-4944-ec7c-2a55887ca4e6"
      },
      "outputs": [
        {
          "data": {
            "text/plain": [
              "array([[139296,     21],\n",
              "       [    94,    143]], dtype=int64)"
            ]
          },
          "execution_count": 16,
          "metadata": {},
          "output_type": "execute_result"
        }
      ],
      "source": [
        "from sklearn.model_selection import cross_val_predict\n",
        "\n",
        "confusion_matrix(y_train, cross_val_predict(pipe, X_train, y_train))"
      ]
    },
    {
      "cell_type": "code",
      "execution_count": null,
      "id": "fb50f441",
      "metadata": {
        "id": "fb50f441"
      },
      "outputs": [],
      "source": []
    },
    {
      "cell_type": "markdown",
      "id": "035196f1",
      "metadata": {
        "id": "035196f1"
      },
      "source": [
        "## Precision, recall, f1 score"
      ]
    },
    {
      "cell_type": "markdown",
      "id": "a006f953",
      "metadata": {
        "id": "a006f953"
      },
      "source": [
        "- We have been using `.score` to assess our models, which returns accuracy by default.\n",
        "- Accuracy is misleading when we have class imbalance.\n",
        "- We need other metrics to assess our models."
      ]
    },
    {
      "cell_type": "markdown",
      "id": "f3ce852d",
      "metadata": {
        "id": "f3ce852d"
      },
      "source": [
        "- We'll discuss three commonly used metrics which are based on confusion matrix:\n",
        "    - precision\n",
        "    - recall\n",
        "    - f1 score\n",
        "- Note that these metrics will only help us assessing our model.  \n",
        "- Later we'll talk about a few ways to address class imbalance problem."
      ]
    },
    {
      "cell_type": "code",
      "execution_count": null,
      "id": "8e54d67d",
      "metadata": {
        "id": "8e54d67d"
      },
      "outputs": [],
      "source": []
    },
    {
      "cell_type": "code",
      "execution_count": null,
      "id": "d1ca799c",
      "metadata": {
        "id": "d1ca799c",
        "outputId": "c6bab547-b94e-48a0-9cef-2fcd9e78ba0b"
      },
      "outputs": [
        {
          "name": "stdout",
          "output_type": "stream",
          "text": [
            "[[59700     8]\n",
            " [   38    64]]\n"
          ]
        }
      ],
      "source": [
        "from sklearn.metrics import confusion_matrix\n",
        "\n",
        "pipe_lr = make_pipeline(StandardScaler(), LogisticRegression())\n",
        "pipe_lr.fit(X_train, y_train)\n",
        "predictions = pipe_lr.predict(X_valid)\n",
        "TN, FP, FN, TP = confusion_matrix(y_valid, predictions).ravel()\n",
        "print(disp.confusion_matrix)"
      ]
    },
    {
      "cell_type": "code",
      "execution_count": null,
      "id": "e3df9e41",
      "metadata": {
        "id": "e3df9e41"
      },
      "outputs": [],
      "source": []
    },
    {
      "cell_type": "markdown",
      "source": [
        "### Manual Calculation"
      ],
      "metadata": {
        "id": "DOaCpGw08-4l"
      },
      "id": "DOaCpGw08-4l"
    },
    {
      "cell_type": "markdown",
      "id": "4cee0c3d",
      "metadata": {
        "id": "4cee0c3d"
      },
      "source": [
        "#### Precision\n",
        "\n",
        "Among the positive examples you identified, how many were actually positive?\n",
        "\n",
        "$$ precision = \\frac{TP}{TP+FP}$$"
      ]
    },
    {
      "cell_type": "code",
      "execution_count": null,
      "id": "323abc5d",
      "metadata": {
        "id": "323abc5d",
        "outputId": "19f24cbf-bc46-4090-a11d-3c31fbcd3da7"
      },
      "outputs": [
        {
          "name": "stdout",
          "output_type": "stream",
          "text": [
            "TP = 64.0000, FP = 8.0000\n",
            "Precision: 0.8889\n"
          ]
        }
      ],
      "source": [
        "print(\"TP = %0.4f, FP = %0.4f\" % (TP, FP))\n",
        "precision = TP / (TP + FP)\n",
        "print(\"Precision: %0.4f\" % (precision))"
      ]
    },
    {
      "cell_type": "markdown",
      "id": "dded4d8d",
      "metadata": {
        "id": "dded4d8d"
      },
      "source": [
        "#### Recall\n",
        "\n",
        "Among all positive examples, how many did you identify?\n",
        "$$ recall = \\frac{TP}{TP+FN} = \\frac{TP}{\\#positives} $$"
      ]
    },
    {
      "cell_type": "code",
      "execution_count": null,
      "id": "c77ebcb0",
      "metadata": {
        "id": "c77ebcb0",
        "outputId": "5227fba5-2f26-4525-9f05-c996576e2707"
      },
      "outputs": [
        {
          "name": "stdout",
          "output_type": "stream",
          "text": [
            "TP = 64.0000, FN = 38.0000\n",
            "Recall: 0.6275\n"
          ]
        }
      ],
      "source": [
        "print(\"TP = %0.4f, FN = %0.4f\" % (TP, FN))\n",
        "recall = TP / (TP + FN)\n",
        "print(\"Recall: %0.4f\" % (recall))"
      ]
    },
    {
      "cell_type": "code",
      "execution_count": null,
      "id": "4df930c2",
      "metadata": {
        "id": "4df930c2"
      },
      "outputs": [],
      "source": []
    },
    {
      "cell_type": "markdown",
      "id": "e812ab14",
      "metadata": {
        "id": "e812ab14"
      },
      "source": [
        "#### F1-score\n",
        "\n",
        "- F1-score combines precision and recall to give one score, which could be used in hyperparameter optimization, for instance.\n",
        "- F1-score is a harmonic mean of precision and recall.\n",
        "\n",
        "\n",
        "$$ f1 = 2 \\times \\frac{ precision \\times recall}{precision + recall}$$\n"
      ]
    },
    {
      "cell_type": "code",
      "execution_count": null,
      "id": "ab4104db",
      "metadata": {
        "id": "ab4104db",
        "outputId": "7c028fb1-b8fb-40ca-b3c3-f4fc7f36c1f5"
      },
      "outputs": [
        {
          "name": "stdout",
          "output_type": "stream",
          "text": [
            "precision: 0.8889\n",
            "recall: 0.6275\n",
            "f1: 0.7356\n"
          ]
        }
      ],
      "source": [
        "print(\"precision: %0.4f\" % (precision))\n",
        "print(\"recall: %0.4f\" % (recall))\n",
        "f1_score = (2 * precision * recall) / (precision + recall)\n",
        "print(\"f1: %0.4f\" % (f1_score))"
      ]
    },
    {
      "cell_type": "code",
      "execution_count": null,
      "id": "242b475f",
      "metadata": {
        "id": "242b475f"
      },
      "outputs": [],
      "source": []
    },
    {
      "cell_type": "markdown",
      "id": "86e5e14c",
      "metadata": {
        "id": "86e5e14c"
      },
      "source": [
        "Let's look at all metrics at once on our dataset."
      ]
    },
    {
      "cell_type": "code",
      "execution_count": null,
      "id": "c428b216",
      "metadata": {
        "id": "c428b216",
        "outputId": "c337673f-c78d-4838-e7ee-16223ca3d98c"
      },
      "outputs": [
        {
          "data": {
            "text/html": [
              "<div>\n",
              "<style scoped>\n",
              "    .dataframe tbody tr th:only-of-type {\n",
              "        vertical-align: middle;\n",
              "    }\n",
              "\n",
              "    .dataframe tbody tr th {\n",
              "        vertical-align: top;\n",
              "    }\n",
              "\n",
              "    .dataframe thead th {\n",
              "        text-align: right;\n",
              "    }\n",
              "</style>\n",
              "<table border=\"1\" class=\"dataframe\">\n",
              "  <thead>\n",
              "    <tr style=\"text-align: right;\">\n",
              "      <th></th>\n",
              "      <th>calculation</th>\n",
              "      <th>accuracy</th>\n",
              "      <th>error</th>\n",
              "      <th>precision</th>\n",
              "      <th>recall</th>\n",
              "      <th>f1 score</th>\n",
              "    </tr>\n",
              "  </thead>\n",
              "  <tbody>\n",
              "    <tr>\n",
              "      <th>0</th>\n",
              "      <td>manual</td>\n",
              "      <td>0.999231</td>\n",
              "      <td>0.000769</td>\n",
              "      <td>0.888889</td>\n",
              "      <td>0.627451</td>\n",
              "      <td>0.735632</td>\n",
              "    </tr>\n",
              "  </tbody>\n",
              "</table>\n",
              "</div>"
            ],
            "text/plain": [
              "  calculation  accuracy     error  precision    recall  f1 score\n",
              "0      manual  0.999231  0.000769   0.888889  0.627451  0.735632"
            ]
          },
          "execution_count": 23,
          "metadata": {},
          "output_type": "execute_result"
        }
      ],
      "source": [
        "## Calculate evaluation metrics by ourselves\n",
        "data = {\n",
        "    \"calculation\": [],\n",
        "    \"accuracy\": [],\n",
        "    \"error\": [],\n",
        "    \"precision\": [],\n",
        "    \"recall\": [],\n",
        "    \"f1 score\": [],\n",
        "}\n",
        "data[\"calculation\"].append(\"manual\")\n",
        "data[\"accuracy\"].append((TP + TN) / (TN + FP + FN + TP))\n",
        "data[\"error\"].append((FP + FN) / (TN + FP + FN + TP))\n",
        "data[\"precision\"].append(precision)  # TP / (TP + FP)\n",
        "data[\"recall\"].append(recall)  # TP / (TP + FN)\n",
        "data[\"f1 score\"].append(f1_score)  # (2 * precision * recall) / (precision + recall)\n",
        "df = pd.DataFrame(data)\n",
        "df"
      ]
    },
    {
      "cell_type": "code",
      "execution_count": null,
      "id": "531ec952",
      "metadata": {
        "id": "531ec952"
      },
      "outputs": [],
      "source": []
    },
    {
      "cell_type": "markdown",
      "id": "cf2c0d86",
      "metadata": {
        "id": "cf2c0d86"
      },
      "source": [
        " ### [Using `scikit-learn` Functions](https://scikit-learn.org/stable/modules/classes.html#module-sklearn.metrics)."
      ]
    },
    {
      "cell_type": "code",
      "execution_count": null,
      "id": "3a29167c",
      "metadata": {
        "id": "3a29167c",
        "outputId": "75ba3171-1157-4041-b5a5-66e68e4b7400"
      },
      "outputs": [
        {
          "data": {
            "text/html": [
              "<div>\n",
              "<style scoped>\n",
              "    .dataframe tbody tr th:only-of-type {\n",
              "        vertical-align: middle;\n",
              "    }\n",
              "\n",
              "    .dataframe tbody tr th {\n",
              "        vertical-align: top;\n",
              "    }\n",
              "\n",
              "    .dataframe thead th {\n",
              "        text-align: right;\n",
              "    }\n",
              "</style>\n",
              "<table border=\"1\" class=\"dataframe\">\n",
              "  <thead>\n",
              "    <tr style=\"text-align: right;\">\n",
              "      <th></th>\n",
              "      <th>accuracy</th>\n",
              "      <th>error</th>\n",
              "      <th>precision</th>\n",
              "      <th>recall</th>\n",
              "      <th>f1 score</th>\n",
              "    </tr>\n",
              "    <tr>\n",
              "      <th>calculation</th>\n",
              "      <th></th>\n",
              "      <th></th>\n",
              "      <th></th>\n",
              "      <th></th>\n",
              "      <th></th>\n",
              "    </tr>\n",
              "  </thead>\n",
              "  <tbody>\n",
              "    <tr>\n",
              "      <th>manual</th>\n",
              "      <td>0.999231</td>\n",
              "      <td>0.000769</td>\n",
              "      <td>0.888889</td>\n",
              "      <td>0.627451</td>\n",
              "      <td>0.735632</td>\n",
              "    </tr>\n",
              "    <tr>\n",
              "      <th>sklearn</th>\n",
              "      <td>0.999231</td>\n",
              "      <td>0.000769</td>\n",
              "      <td>0.888889</td>\n",
              "      <td>0.627451</td>\n",
              "      <td>0.735632</td>\n",
              "    </tr>\n",
              "  </tbody>\n",
              "</table>\n",
              "</div>"
            ],
            "text/plain": [
              "             accuracy     error  precision    recall  f1 score\n",
              "calculation                                                   \n",
              "manual       0.999231  0.000769   0.888889  0.627451  0.735632\n",
              "sklearn      0.999231  0.000769   0.888889  0.627451  0.735632"
            ]
          },
          "execution_count": 24,
          "metadata": {},
          "output_type": "execute_result"
        }
      ],
      "source": [
        "from sklearn.metrics import accuracy_score, f1_score, precision_score, recall_score\n",
        "\n",
        "data[\"accuracy\"].append(accuracy_score(y_valid, pipe_lr.predict(X_valid)))\n",
        "data[\"error\"].append(1 - accuracy_score(y_valid, pipe_lr.predict(X_valid)))\n",
        "data[\"precision\"].append(\n",
        "    precision_score(y_valid, pipe_lr.predict(X_valid), zero_division=1)\n",
        ")\n",
        "data[\"recall\"].append(recall_score(y_valid, pipe_lr.predict(X_valid)))\n",
        "data[\"f1 score\"].append(f1_score(y_valid, pipe_lr.predict(X_valid)))\n",
        "data[\"calculation\"].append(\"sklearn\")\n",
        "df = pd.DataFrame(data)\n",
        "df.set_index([\"calculation\"])"
      ]
    },
    {
      "cell_type": "code",
      "execution_count": null,
      "id": "ad1edd4e",
      "metadata": {
        "id": "ad1edd4e"
      },
      "outputs": [],
      "source": []
    },
    {
      "cell_type": "markdown",
      "id": "cc90b062",
      "metadata": {
        "id": "cc90b062"
      },
      "source": [
        "### Classification report"
      ]
    },
    {
      "cell_type": "markdown",
      "id": "44ab3c2c",
      "metadata": {
        "id": "44ab3c2c"
      },
      "source": [
        "- There is a convenient function called `classification_report` in `sklearn` which gives this info."
      ]
    },
    {
      "cell_type": "code",
      "execution_count": null,
      "id": "fa453ff3",
      "metadata": {
        "id": "fa453ff3",
        "outputId": "ca050859-ade8-46bc-8291-817e7488f449"
      },
      "outputs": [
        {
          "data": {
            "text/plain": [
              "array([0, 1], dtype=int64)"
            ]
          },
          "execution_count": 25,
          "metadata": {},
          "output_type": "execute_result"
        }
      ],
      "source": [
        "pipe_lr.classes_"
      ]
    },
    {
      "cell_type": "code",
      "execution_count": null,
      "id": "4cc8ab42",
      "metadata": {
        "id": "4cc8ab42",
        "outputId": "23333ec2-73c9-4eaf-c2da-7f617c55af25"
      },
      "outputs": [
        {
          "name": "stdout",
          "output_type": "stream",
          "text": [
            "              precision    recall  f1-score   support\n",
            "\n",
            "   non-fraud       1.00      1.00      1.00     59708\n",
            "       fraud       0.89      0.63      0.74       102\n",
            "\n",
            "    accuracy                           1.00     59810\n",
            "   macro avg       0.94      0.81      0.87     59810\n",
            "weighted avg       1.00      1.00      1.00     59810\n",
            "\n"
          ]
        }
      ],
      "source": [
        "from sklearn.metrics import classification_report\n",
        "\n",
        "print(\n",
        "    classification_report(\n",
        "        y_valid, pipe_lr.predict(X_valid), target_names=[\"non-fraud\", \"fraud\"]\n",
        "    )\n",
        ")"
      ]
    },
    {
      "cell_type": "markdown",
      "source": [
        "### 🎯 Class Activity: Think-Pair-Share (TPS)\n",
        "Discuss with a partner: What do \"Macro Average\" and \"Weighted Average\" represent in the classification report generated by Scikit-Learn?"
      ],
      "metadata": {
        "id": "8aNuIARZ9m2s"
      },
      "id": "8aNuIARZ9m2s"
    },
    {
      "cell_type": "markdown",
      "id": "19174f93",
      "metadata": {
        "id": "19174f93"
      },
      "source": [
        "### Insights:"
      ]
    },
    {
      "cell_type": "markdown",
      "id": "53fe037e",
      "metadata": {
        "id": "53fe037e"
      },
      "source": [
        "- Accuracy is misleading when you have class imbalance.\n",
        "- A confusion matrix provides a way to break down errors made by our model.\n",
        "- We looked at three metrics based on confusion matrix:\n",
        "    - precision, recall, f1-score."
      ]
    },
    {
      "cell_type": "markdown",
      "id": "1dd0351a",
      "metadata": {
        "id": "1dd0351a"
      },
      "source": [
        "- Note that what you consider \"positive\" (fraud in our case) is important when calculating precision, recall, and f1-score.\n",
        "- If you flip what is considered positive or negative, we'll end up with different TP, FP, TN, FN, and hence different precision, recall, and f1-scores."
      ]
    },
    {
      "cell_type": "code",
      "execution_count": null,
      "id": "97884084",
      "metadata": {
        "id": "97884084"
      },
      "outputs": [],
      "source": []
    },
    {
      "cell_type": "markdown",
      "metadata": {
        "id": "cb301556"
      },
      "source": [
        "## Regression Evaluation metrics"
      ],
      "id": "cb301556"
    },
    {
      "cell_type": "markdown",
      "metadata": {
        "id": "b7d75574"
      },
      "source": [
        "- We aren't doing classification anymore, so we can't just check for equality:"
      ],
      "id": "b7d75574"
    },
    {
      "cell_type": "markdown",
      "metadata": {
        "id": "49798030"
      },
      "source": [
        "### Dataset\n",
        "\n",
        "In this lecture, we'll be using [Kaggle House Prices dataset](https://www.kaggle.com/c/home-data-for-ml-course/). As usual, to run this notebook you'll need to download the data. For this dataset, train and test have already been separated. We'll be working with the train portion in this lecture."
      ],
      "id": "49798030"
    },
    {
      "cell_type": "code",
      "execution_count": null,
      "metadata": {
        "id": "d3f48160",
        "outputId": "0c55fb3d-7213-411c-b678-5e73734a8e78"
      },
      "outputs": [
        {
          "data": {
            "text/html": [
              "<div>\n",
              "<style scoped>\n",
              "    .dataframe tbody tr th:only-of-type {\n",
              "        vertical-align: middle;\n",
              "    }\n",
              "\n",
              "    .dataframe tbody tr th {\n",
              "        vertical-align: top;\n",
              "    }\n",
              "\n",
              "    .dataframe thead th {\n",
              "        text-align: right;\n",
              "    }\n",
              "</style>\n",
              "<table border=\"1\" class=\"dataframe\">\n",
              "  <thead>\n",
              "    <tr style=\"text-align: right;\">\n",
              "      <th></th>\n",
              "      <th>Id</th>\n",
              "      <th>MSSubClass</th>\n",
              "      <th>MSZoning</th>\n",
              "      <th>LotFrontage</th>\n",
              "      <th>LotArea</th>\n",
              "      <th>Street</th>\n",
              "      <th>Alley</th>\n",
              "      <th>LotShape</th>\n",
              "      <th>LandContour</th>\n",
              "      <th>Utilities</th>\n",
              "      <th>...</th>\n",
              "      <th>PoolArea</th>\n",
              "      <th>PoolQC</th>\n",
              "      <th>Fence</th>\n",
              "      <th>MiscFeature</th>\n",
              "      <th>MiscVal</th>\n",
              "      <th>MoSold</th>\n",
              "      <th>YrSold</th>\n",
              "      <th>SaleType</th>\n",
              "      <th>SaleCondition</th>\n",
              "      <th>SalePrice</th>\n",
              "    </tr>\n",
              "  </thead>\n",
              "  <tbody>\n",
              "    <tr>\n",
              "      <th>302</th>\n",
              "      <td>303</td>\n",
              "      <td>20</td>\n",
              "      <td>RL</td>\n",
              "      <td>118.0</td>\n",
              "      <td>13704</td>\n",
              "      <td>Pave</td>\n",
              "      <td>NaN</td>\n",
              "      <td>IR1</td>\n",
              "      <td>Lvl</td>\n",
              "      <td>AllPub</td>\n",
              "      <td>...</td>\n",
              "      <td>0</td>\n",
              "      <td>NaN</td>\n",
              "      <td>NaN</td>\n",
              "      <td>NaN</td>\n",
              "      <td>0</td>\n",
              "      <td>1</td>\n",
              "      <td>2006</td>\n",
              "      <td>WD</td>\n",
              "      <td>Normal</td>\n",
              "      <td>205000</td>\n",
              "    </tr>\n",
              "    <tr>\n",
              "      <th>767</th>\n",
              "      <td>768</td>\n",
              "      <td>50</td>\n",
              "      <td>RL</td>\n",
              "      <td>75.0</td>\n",
              "      <td>12508</td>\n",
              "      <td>Pave</td>\n",
              "      <td>NaN</td>\n",
              "      <td>IR1</td>\n",
              "      <td>Lvl</td>\n",
              "      <td>AllPub</td>\n",
              "      <td>...</td>\n",
              "      <td>0</td>\n",
              "      <td>NaN</td>\n",
              "      <td>NaN</td>\n",
              "      <td>Shed</td>\n",
              "      <td>1300</td>\n",
              "      <td>7</td>\n",
              "      <td>2008</td>\n",
              "      <td>WD</td>\n",
              "      <td>Normal</td>\n",
              "      <td>160000</td>\n",
              "    </tr>\n",
              "    <tr>\n",
              "      <th>429</th>\n",
              "      <td>430</td>\n",
              "      <td>20</td>\n",
              "      <td>RL</td>\n",
              "      <td>130.0</td>\n",
              "      <td>11457</td>\n",
              "      <td>Pave</td>\n",
              "      <td>NaN</td>\n",
              "      <td>IR1</td>\n",
              "      <td>Lvl</td>\n",
              "      <td>AllPub</td>\n",
              "      <td>...</td>\n",
              "      <td>0</td>\n",
              "      <td>NaN</td>\n",
              "      <td>NaN</td>\n",
              "      <td>NaN</td>\n",
              "      <td>0</td>\n",
              "      <td>3</td>\n",
              "      <td>2009</td>\n",
              "      <td>WD</td>\n",
              "      <td>Normal</td>\n",
              "      <td>175000</td>\n",
              "    </tr>\n",
              "    <tr>\n",
              "      <th>1139</th>\n",
              "      <td>1140</td>\n",
              "      <td>30</td>\n",
              "      <td>RL</td>\n",
              "      <td>98.0</td>\n",
              "      <td>8731</td>\n",
              "      <td>Pave</td>\n",
              "      <td>NaN</td>\n",
              "      <td>IR1</td>\n",
              "      <td>Lvl</td>\n",
              "      <td>AllPub</td>\n",
              "      <td>...</td>\n",
              "      <td>0</td>\n",
              "      <td>NaN</td>\n",
              "      <td>NaN</td>\n",
              "      <td>NaN</td>\n",
              "      <td>0</td>\n",
              "      <td>5</td>\n",
              "      <td>2007</td>\n",
              "      <td>WD</td>\n",
              "      <td>Normal</td>\n",
              "      <td>144000</td>\n",
              "    </tr>\n",
              "    <tr>\n",
              "      <th>558</th>\n",
              "      <td>559</td>\n",
              "      <td>60</td>\n",
              "      <td>RL</td>\n",
              "      <td>57.0</td>\n",
              "      <td>21872</td>\n",
              "      <td>Pave</td>\n",
              "      <td>NaN</td>\n",
              "      <td>IR2</td>\n",
              "      <td>HLS</td>\n",
              "      <td>AllPub</td>\n",
              "      <td>...</td>\n",
              "      <td>0</td>\n",
              "      <td>NaN</td>\n",
              "      <td>NaN</td>\n",
              "      <td>NaN</td>\n",
              "      <td>0</td>\n",
              "      <td>8</td>\n",
              "      <td>2008</td>\n",
              "      <td>WD</td>\n",
              "      <td>Normal</td>\n",
              "      <td>175000</td>\n",
              "    </tr>\n",
              "  </tbody>\n",
              "</table>\n",
              "<p>5 rows × 81 columns</p>\n",
              "</div>"
            ],
            "text/plain": [
              "        Id  MSSubClass MSZoning  LotFrontage  LotArea Street Alley LotShape  \\\n",
              "302    303          20       RL        118.0    13704   Pave   NaN      IR1   \n",
              "767    768          50       RL         75.0    12508   Pave   NaN      IR1   \n",
              "429    430          20       RL        130.0    11457   Pave   NaN      IR1   \n",
              "1139  1140          30       RL         98.0     8731   Pave   NaN      IR1   \n",
              "558    559          60       RL         57.0    21872   Pave   NaN      IR2   \n",
              "\n",
              "     LandContour Utilities  ... PoolArea PoolQC Fence MiscFeature MiscVal  \\\n",
              "302          Lvl    AllPub  ...        0    NaN   NaN         NaN       0   \n",
              "767          Lvl    AllPub  ...        0    NaN   NaN        Shed    1300   \n",
              "429          Lvl    AllPub  ...        0    NaN   NaN         NaN       0   \n",
              "1139         Lvl    AllPub  ...        0    NaN   NaN         NaN       0   \n",
              "558          HLS    AllPub  ...        0    NaN   NaN         NaN       0   \n",
              "\n",
              "     MoSold YrSold  SaleType  SaleCondition  SalePrice  \n",
              "302       1   2006        WD         Normal     205000  \n",
              "767       7   2008        WD         Normal     160000  \n",
              "429       3   2009        WD         Normal     175000  \n",
              "1139      5   2007        WD         Normal     144000  \n",
              "558       8   2008        WD         Normal     175000  \n",
              "\n",
              "[5 rows x 81 columns]"
            ]
          },
          "execution_count": 29,
          "metadata": {},
          "output_type": "execute_result"
        }
      ],
      "source": [
        "df = pd.read_csv(\"data/housing-kaggle/train.csv\")\n",
        "train_df, test_df = train_test_split(df, test_size=0.10, random_state=123)\n",
        "train_df.head()"
      ],
      "id": "d3f48160"
    },
    {
      "cell_type": "markdown",
      "metadata": {
        "id": "48727a43"
      },
      "source": [
        "- The supervised machine learning problem is predicting housing price given features associated with properties.\n",
        "- Here, the target is `SalePrice`, which is continuous. So it's a **regression problem** (as opposed to classification)."
      ],
      "id": "48727a43"
    },
    {
      "cell_type": "markdown",
      "source": [
        "### Preprocessing Steps"
      ],
      "metadata": {
        "id": "xcYF-bRYh_jr"
      },
      "id": "xcYF-bRYh_jr"
    },
    {
      "cell_type": "code",
      "execution_count": null,
      "metadata": {
        "id": "07272d4e",
        "outputId": "4dffddb7-21e1-4ceb-8dba-7468475a8d02"
      },
      "outputs": [
        {
          "data": {
            "text/plain": [
              "(1314, 81)"
            ]
          },
          "execution_count": 30,
          "metadata": {},
          "output_type": "execute_result"
        }
      ],
      "source": [
        "train_df.shape"
      ],
      "id": "07272d4e"
    },
    {
      "cell_type": "code",
      "execution_count": null,
      "metadata": {
        "id": "99e09387"
      },
      "outputs": [],
      "source": [],
      "id": "99e09387"
    },
    {
      "cell_type": "markdown",
      "metadata": {
        "id": "0ef1373e"
      },
      "source": [
        "#### Let's separate `X` and `y`"
      ],
      "id": "0ef1373e"
    },
    {
      "cell_type": "code",
      "execution_count": null,
      "metadata": {
        "id": "8bc968bc"
      },
      "outputs": [],
      "source": [
        "X_train = train_df.drop(columns=[\"SalePrice\"])\n",
        "y_train = train_df[\"SalePrice\"]\n",
        "\n",
        "X_test = test_df.drop(columns=[\"SalePrice\"])\n",
        "y_test = test_df[\"SalePrice\"]"
      ],
      "id": "8bc968bc"
    },
    {
      "cell_type": "markdown",
      "metadata": {
        "id": "532408e5"
      },
      "source": [
        "#### EDA\n"
      ],
      "id": "532408e5"
    },
    {
      "cell_type": "code",
      "execution_count": null,
      "metadata": {
        "id": "198f937a",
        "outputId": "aa6c8335-216d-4bd5-b5c3-5a746f359d47"
      },
      "outputs": [
        {
          "data": {
            "text/html": [
              "<div>\n",
              "<style scoped>\n",
              "    .dataframe tbody tr th:only-of-type {\n",
              "        vertical-align: middle;\n",
              "    }\n",
              "\n",
              "    .dataframe tbody tr th {\n",
              "        vertical-align: top;\n",
              "    }\n",
              "\n",
              "    .dataframe thead th {\n",
              "        text-align: right;\n",
              "    }\n",
              "</style>\n",
              "<table border=\"1\" class=\"dataframe\">\n",
              "  <thead>\n",
              "    <tr style=\"text-align: right;\">\n",
              "      <th></th>\n",
              "      <th>Id</th>\n",
              "      <th>MSSubClass</th>\n",
              "      <th>LotFrontage</th>\n",
              "      <th>LotArea</th>\n",
              "      <th>OverallQual</th>\n",
              "      <th>OverallCond</th>\n",
              "      <th>YearBuilt</th>\n",
              "      <th>YearRemodAdd</th>\n",
              "      <th>MasVnrArea</th>\n",
              "      <th>BsmtFinSF1</th>\n",
              "      <th>...</th>\n",
              "      <th>WoodDeckSF</th>\n",
              "      <th>OpenPorchSF</th>\n",
              "      <th>EnclosedPorch</th>\n",
              "      <th>3SsnPorch</th>\n",
              "      <th>ScreenPorch</th>\n",
              "      <th>PoolArea</th>\n",
              "      <th>MiscVal</th>\n",
              "      <th>MoSold</th>\n",
              "      <th>YrSold</th>\n",
              "      <th>SalePrice</th>\n",
              "    </tr>\n",
              "  </thead>\n",
              "  <tbody>\n",
              "    <tr>\n",
              "      <th>count</th>\n",
              "      <td>1314.000000</td>\n",
              "      <td>1314.000000</td>\n",
              "      <td>1089.000000</td>\n",
              "      <td>1314.000000</td>\n",
              "      <td>1314.000000</td>\n",
              "      <td>1314.000000</td>\n",
              "      <td>1314.000000</td>\n",
              "      <td>1314.000000</td>\n",
              "      <td>1307.000000</td>\n",
              "      <td>1314.000000</td>\n",
              "      <td>...</td>\n",
              "      <td>1314.000000</td>\n",
              "      <td>1314.000000</td>\n",
              "      <td>1314.000000</td>\n",
              "      <td>1314.000000</td>\n",
              "      <td>1314.000000</td>\n",
              "      <td>1314.000000</td>\n",
              "      <td>1314.000000</td>\n",
              "      <td>1314.000000</td>\n",
              "      <td>1314.000000</td>\n",
              "      <td>1314.000000</td>\n",
              "    </tr>\n",
              "    <tr>\n",
              "      <th>mean</th>\n",
              "      <td>734.182648</td>\n",
              "      <td>56.472603</td>\n",
              "      <td>69.641873</td>\n",
              "      <td>10273.261035</td>\n",
              "      <td>6.076104</td>\n",
              "      <td>5.570015</td>\n",
              "      <td>1970.995434</td>\n",
              "      <td>1984.659056</td>\n",
              "      <td>102.514155</td>\n",
              "      <td>441.425419</td>\n",
              "      <td>...</td>\n",
              "      <td>94.281583</td>\n",
              "      <td>45.765601</td>\n",
              "      <td>21.726788</td>\n",
              "      <td>3.624049</td>\n",
              "      <td>13.987062</td>\n",
              "      <td>3.065449</td>\n",
              "      <td>46.951294</td>\n",
              "      <td>6.302131</td>\n",
              "      <td>2007.840183</td>\n",
              "      <td>179802.147641</td>\n",
              "    </tr>\n",
              "    <tr>\n",
              "      <th>std</th>\n",
              "      <td>422.224662</td>\n",
              "      <td>42.036646</td>\n",
              "      <td>23.031794</td>\n",
              "      <td>8997.895541</td>\n",
              "      <td>1.392612</td>\n",
              "      <td>1.112848</td>\n",
              "      <td>30.198127</td>\n",
              "      <td>20.639754</td>\n",
              "      <td>178.301563</td>\n",
              "      <td>459.276687</td>\n",
              "      <td>...</td>\n",
              "      <td>125.436492</td>\n",
              "      <td>65.757545</td>\n",
              "      <td>60.766423</td>\n",
              "      <td>30.320430</td>\n",
              "      <td>53.854129</td>\n",
              "      <td>42.341109</td>\n",
              "      <td>522.283421</td>\n",
              "      <td>2.698206</td>\n",
              "      <td>1.332824</td>\n",
              "      <td>79041.260572</td>\n",
              "    </tr>\n",
              "    <tr>\n",
              "      <th>min</th>\n",
              "      <td>1.000000</td>\n",
              "      <td>20.000000</td>\n",
              "      <td>21.000000</td>\n",
              "      <td>1300.000000</td>\n",
              "      <td>1.000000</td>\n",
              "      <td>1.000000</td>\n",
              "      <td>1872.000000</td>\n",
              "      <td>1950.000000</td>\n",
              "      <td>0.000000</td>\n",
              "      <td>0.000000</td>\n",
              "      <td>...</td>\n",
              "      <td>0.000000</td>\n",
              "      <td>0.000000</td>\n",
              "      <td>0.000000</td>\n",
              "      <td>0.000000</td>\n",
              "      <td>0.000000</td>\n",
              "      <td>0.000000</td>\n",
              "      <td>0.000000</td>\n",
              "      <td>1.000000</td>\n",
              "      <td>2006.000000</td>\n",
              "      <td>34900.000000</td>\n",
              "    </tr>\n",
              "    <tr>\n",
              "      <th>25%</th>\n",
              "      <td>369.250000</td>\n",
              "      <td>20.000000</td>\n",
              "      <td>59.000000</td>\n",
              "      <td>7500.000000</td>\n",
              "      <td>5.000000</td>\n",
              "      <td>5.000000</td>\n",
              "      <td>1953.000000</td>\n",
              "      <td>1966.250000</td>\n",
              "      <td>0.000000</td>\n",
              "      <td>0.000000</td>\n",
              "      <td>...</td>\n",
              "      <td>0.000000</td>\n",
              "      <td>0.000000</td>\n",
              "      <td>0.000000</td>\n",
              "      <td>0.000000</td>\n",
              "      <td>0.000000</td>\n",
              "      <td>0.000000</td>\n",
              "      <td>0.000000</td>\n",
              "      <td>5.000000</td>\n",
              "      <td>2007.000000</td>\n",
              "      <td>129600.000000</td>\n",
              "    </tr>\n",
              "    <tr>\n",
              "      <th>50%</th>\n",
              "      <td>735.500000</td>\n",
              "      <td>50.000000</td>\n",
              "      <td>69.000000</td>\n",
              "      <td>9391.000000</td>\n",
              "      <td>6.000000</td>\n",
              "      <td>5.000000</td>\n",
              "      <td>1972.000000</td>\n",
              "      <td>1993.000000</td>\n",
              "      <td>0.000000</td>\n",
              "      <td>376.000000</td>\n",
              "      <td>...</td>\n",
              "      <td>0.000000</td>\n",
              "      <td>24.000000</td>\n",
              "      <td>0.000000</td>\n",
              "      <td>0.000000</td>\n",
              "      <td>0.000000</td>\n",
              "      <td>0.000000</td>\n",
              "      <td>0.000000</td>\n",
              "      <td>6.000000</td>\n",
              "      <td>2008.000000</td>\n",
              "      <td>162000.000000</td>\n",
              "    </tr>\n",
              "    <tr>\n",
              "      <th>75%</th>\n",
              "      <td>1099.750000</td>\n",
              "      <td>70.000000</td>\n",
              "      <td>80.000000</td>\n",
              "      <td>11509.000000</td>\n",
              "      <td>7.000000</td>\n",
              "      <td>6.000000</td>\n",
              "      <td>2000.000000</td>\n",
              "      <td>2004.000000</td>\n",
              "      <td>165.500000</td>\n",
              "      <td>704.750000</td>\n",
              "      <td>...</td>\n",
              "      <td>168.000000</td>\n",
              "      <td>66.750000</td>\n",
              "      <td>0.000000</td>\n",
              "      <td>0.000000</td>\n",
              "      <td>0.000000</td>\n",
              "      <td>0.000000</td>\n",
              "      <td>0.000000</td>\n",
              "      <td>8.000000</td>\n",
              "      <td>2009.000000</td>\n",
              "      <td>212975.000000</td>\n",
              "    </tr>\n",
              "    <tr>\n",
              "      <th>max</th>\n",
              "      <td>1460.000000</td>\n",
              "      <td>190.000000</td>\n",
              "      <td>313.000000</td>\n",
              "      <td>215245.000000</td>\n",
              "      <td>10.000000</td>\n",
              "      <td>9.000000</td>\n",
              "      <td>2010.000000</td>\n",
              "      <td>2010.000000</td>\n",
              "      <td>1378.000000</td>\n",
              "      <td>5644.000000</td>\n",
              "      <td>...</td>\n",
              "      <td>857.000000</td>\n",
              "      <td>547.000000</td>\n",
              "      <td>552.000000</td>\n",
              "      <td>508.000000</td>\n",
              "      <td>480.000000</td>\n",
              "      <td>738.000000</td>\n",
              "      <td>15500.000000</td>\n",
              "      <td>12.000000</td>\n",
              "      <td>2010.000000</td>\n",
              "      <td>755000.000000</td>\n",
              "    </tr>\n",
              "  </tbody>\n",
              "</table>\n",
              "<p>8 rows × 38 columns</p>\n",
              "</div>"
            ],
            "text/plain": [
              "                Id   MSSubClass  LotFrontage        LotArea  OverallQual  \\\n",
              "count  1314.000000  1314.000000  1089.000000    1314.000000  1314.000000   \n",
              "mean    734.182648    56.472603    69.641873   10273.261035     6.076104   \n",
              "std     422.224662    42.036646    23.031794    8997.895541     1.392612   \n",
              "min       1.000000    20.000000    21.000000    1300.000000     1.000000   \n",
              "25%     369.250000    20.000000    59.000000    7500.000000     5.000000   \n",
              "50%     735.500000    50.000000    69.000000    9391.000000     6.000000   \n",
              "75%    1099.750000    70.000000    80.000000   11509.000000     7.000000   \n",
              "max    1460.000000   190.000000   313.000000  215245.000000    10.000000   \n",
              "\n",
              "       OverallCond    YearBuilt  YearRemodAdd   MasVnrArea   BsmtFinSF1  ...  \\\n",
              "count  1314.000000  1314.000000   1314.000000  1307.000000  1314.000000  ...   \n",
              "mean      5.570015  1970.995434   1984.659056   102.514155   441.425419  ...   \n",
              "std       1.112848    30.198127     20.639754   178.301563   459.276687  ...   \n",
              "min       1.000000  1872.000000   1950.000000     0.000000     0.000000  ...   \n",
              "25%       5.000000  1953.000000   1966.250000     0.000000     0.000000  ...   \n",
              "50%       5.000000  1972.000000   1993.000000     0.000000   376.000000  ...   \n",
              "75%       6.000000  2000.000000   2004.000000   165.500000   704.750000  ...   \n",
              "max       9.000000  2010.000000   2010.000000  1378.000000  5644.000000  ...   \n",
              "\n",
              "        WoodDeckSF  OpenPorchSF  EnclosedPorch    3SsnPorch  ScreenPorch  \\\n",
              "count  1314.000000  1314.000000    1314.000000  1314.000000  1314.000000   \n",
              "mean     94.281583    45.765601      21.726788     3.624049    13.987062   \n",
              "std     125.436492    65.757545      60.766423    30.320430    53.854129   \n",
              "min       0.000000     0.000000       0.000000     0.000000     0.000000   \n",
              "25%       0.000000     0.000000       0.000000     0.000000     0.000000   \n",
              "50%       0.000000    24.000000       0.000000     0.000000     0.000000   \n",
              "75%     168.000000    66.750000       0.000000     0.000000     0.000000   \n",
              "max     857.000000   547.000000     552.000000   508.000000   480.000000   \n",
              "\n",
              "          PoolArea       MiscVal       MoSold       YrSold      SalePrice  \n",
              "count  1314.000000   1314.000000  1314.000000  1314.000000    1314.000000  \n",
              "mean      3.065449     46.951294     6.302131  2007.840183  179802.147641  \n",
              "std      42.341109    522.283421     2.698206     1.332824   79041.260572  \n",
              "min       0.000000      0.000000     1.000000  2006.000000   34900.000000  \n",
              "25%       0.000000      0.000000     5.000000  2007.000000  129600.000000  \n",
              "50%       0.000000      0.000000     6.000000  2008.000000  162000.000000  \n",
              "75%       0.000000      0.000000     8.000000  2009.000000  212975.000000  \n",
              "max     738.000000  15500.000000    12.000000  2010.000000  755000.000000  \n",
              "\n",
              "[8 rows x 38 columns]"
            ]
          },
          "execution_count": 32,
          "metadata": {},
          "output_type": "execute_result"
        }
      ],
      "source": [
        "train_df.describe()"
      ],
      "id": "198f937a"
    },
    {
      "cell_type": "code",
      "execution_count": null,
      "metadata": {
        "id": "b11cb28f",
        "outputId": "d235b64d-ae63-4cd2-b59f-043cae658fdf"
      },
      "outputs": [
        {
          "name": "stdout",
          "output_type": "stream",
          "text": [
            "<class 'pandas.core.frame.DataFrame'>\n",
            "Int64Index: 1314 entries, 302 to 1389\n",
            "Data columns (total 81 columns):\n",
            " #   Column         Non-Null Count  Dtype  \n",
            "---  ------         --------------  -----  \n",
            " 0   Id             1314 non-null   int64  \n",
            " 1   MSSubClass     1314 non-null   int64  \n",
            " 2   MSZoning       1314 non-null   object \n",
            " 3   LotFrontage    1089 non-null   float64\n",
            " 4   LotArea        1314 non-null   int64  \n",
            " 5   Street         1314 non-null   object \n",
            " 6   Alley          81 non-null     object \n",
            " 7   LotShape       1314 non-null   object \n",
            " 8   LandContour    1314 non-null   object \n",
            " 9   Utilities      1314 non-null   object \n",
            " 10  LotConfig      1314 non-null   object \n",
            " 11  LandSlope      1314 non-null   object \n",
            " 12  Neighborhood   1314 non-null   object \n",
            " 13  Condition1     1314 non-null   object \n",
            " 14  Condition2     1314 non-null   object \n",
            " 15  BldgType       1314 non-null   object \n",
            " 16  HouseStyle     1314 non-null   object \n",
            " 17  OverallQual    1314 non-null   int64  \n",
            " 18  OverallCond    1314 non-null   int64  \n",
            " 19  YearBuilt      1314 non-null   int64  \n",
            " 20  YearRemodAdd   1314 non-null   int64  \n",
            " 21  RoofStyle      1314 non-null   object \n",
            " 22  RoofMatl       1314 non-null   object \n",
            " 23  Exterior1st    1314 non-null   object \n",
            " 24  Exterior2nd    1314 non-null   object \n",
            " 25  MasVnrType     1307 non-null   object \n",
            " 26  MasVnrArea     1307 non-null   float64\n",
            " 27  ExterQual      1314 non-null   object \n",
            " 28  ExterCond      1314 non-null   object \n",
            " 29  Foundation     1314 non-null   object \n",
            " 30  BsmtQual       1280 non-null   object \n",
            " 31  BsmtCond       1280 non-null   object \n",
            " 32  BsmtExposure   1279 non-null   object \n",
            " 33  BsmtFinType1   1280 non-null   object \n",
            " 34  BsmtFinSF1     1314 non-null   int64  \n",
            " 35  BsmtFinType2   1280 non-null   object \n",
            " 36  BsmtFinSF2     1314 non-null   int64  \n",
            " 37  BsmtUnfSF      1314 non-null   int64  \n",
            " 38  TotalBsmtSF    1314 non-null   int64  \n",
            " 39  Heating        1314 non-null   object \n",
            " 40  HeatingQC      1314 non-null   object \n",
            " 41  CentralAir     1314 non-null   object \n",
            " 42  Electrical     1313 non-null   object \n",
            " 43  1stFlrSF       1314 non-null   int64  \n",
            " 44  2ndFlrSF       1314 non-null   int64  \n",
            " 45  LowQualFinSF   1314 non-null   int64  \n",
            " 46  GrLivArea      1314 non-null   int64  \n",
            " 47  BsmtFullBath   1314 non-null   int64  \n",
            " 48  BsmtHalfBath   1314 non-null   int64  \n",
            " 49  FullBath       1314 non-null   int64  \n",
            " 50  HalfBath       1314 non-null   int64  \n",
            " 51  BedroomAbvGr   1314 non-null   int64  \n",
            " 52  KitchenAbvGr   1314 non-null   int64  \n",
            " 53  KitchenQual    1314 non-null   object \n",
            " 54  TotRmsAbvGrd   1314 non-null   int64  \n",
            " 55  Functional     1314 non-null   object \n",
            " 56  Fireplaces     1314 non-null   int64  \n",
            " 57  FireplaceQu    687 non-null    object \n",
            " 58  GarageType     1241 non-null   object \n",
            " 59  GarageYrBlt    1241 non-null   float64\n",
            " 60  GarageFinish   1241 non-null   object \n",
            " 61  GarageCars     1314 non-null   int64  \n",
            " 62  GarageArea     1314 non-null   int64  \n",
            " 63  GarageQual     1241 non-null   object \n",
            " 64  GarageCond     1241 non-null   object \n",
            " 65  PavedDrive     1314 non-null   object \n",
            " 66  WoodDeckSF     1314 non-null   int64  \n",
            " 67  OpenPorchSF    1314 non-null   int64  \n",
            " 68  EnclosedPorch  1314 non-null   int64  \n",
            " 69  3SsnPorch      1314 non-null   int64  \n",
            " 70  ScreenPorch    1314 non-null   int64  \n",
            " 71  PoolArea       1314 non-null   int64  \n",
            " 72  PoolQC         7 non-null      object \n",
            " 73  Fence          259 non-null    object \n",
            " 74  MiscFeature    50 non-null     object \n",
            " 75  MiscVal        1314 non-null   int64  \n",
            " 76  MoSold         1314 non-null   int64  \n",
            " 77  YrSold         1314 non-null   int64  \n",
            " 78  SaleType       1314 non-null   object \n",
            " 79  SaleCondition  1314 non-null   object \n",
            " 80  SalePrice      1314 non-null   int64  \n",
            "dtypes: float64(3), int64(35), object(43)\n",
            "memory usage: 841.8+ KB\n"
          ]
        }
      ],
      "source": [
        "train_df.info()"
      ],
      "id": "b11cb28f"
    },
    {
      "cell_type": "code",
      "execution_count": null,
      "metadata": {
        "id": "ea76cf7c"
      },
      "outputs": [],
      "source": [],
      "id": "ea76cf7c"
    },
    {
      "cell_type": "markdown",
      "metadata": {
        "id": "81efc7c1"
      },
      "source": [
        "#### Feature types\n",
        "\n",
        "- We have mixed feature types and a bunch of missing values.\n",
        "- Now, let's identify feature types and transformations."
      ],
      "id": "81efc7c1"
    },
    {
      "cell_type": "markdown",
      "metadata": {
        "id": "24994d32"
      },
      "source": [
        "- Let's get the numeric-looking columns."
      ],
      "id": "24994d32"
    },
    {
      "cell_type": "code",
      "execution_count": null,
      "metadata": {
        "id": "6f2b8070",
        "outputId": "4610c79b-d434-4bac-b282-64989ccadb91"
      },
      "outputs": [
        {
          "name": "stdout",
          "output_type": "stream",
          "text": [
            "['Id', 'MSSubClass', 'LotFrontage', 'LotArea', 'OverallQual', 'OverallCond', 'YearBuilt', 'YearRemodAdd', 'MasVnrArea', 'BsmtFinSF1', 'BsmtFinSF2', 'BsmtUnfSF', 'TotalBsmtSF', '1stFlrSF', '2ndFlrSF', 'LowQualFinSF', 'GrLivArea', 'BsmtFullBath', 'BsmtHalfBath', 'FullBath', 'HalfBath', 'BedroomAbvGr', 'KitchenAbvGr', 'TotRmsAbvGrd', 'Fireplaces', 'GarageYrBlt', 'GarageCars', 'GarageArea', 'WoodDeckSF', 'OpenPorchSF', 'EnclosedPorch', '3SsnPorch', 'ScreenPorch', 'PoolArea', 'MiscVal', 'MoSold', 'YrSold']\n"
          ]
        }
      ],
      "source": [
        "numeric_looking_columns = X_train.select_dtypes(include=np.number).columns.tolist()\n",
        "print(numeric_looking_columns)"
      ],
      "id": "6f2b8070"
    },
    {
      "cell_type": "code",
      "execution_count": null,
      "metadata": {
        "id": "6216d7c7"
      },
      "outputs": [],
      "source": [],
      "id": "6216d7c7"
    },
    {
      "cell_type": "markdown",
      "metadata": {
        "id": "68c16709"
      },
      "source": [
        "Not all numeric looking columns are necessarily numeric."
      ],
      "id": "68c16709"
    },
    {
      "cell_type": "code",
      "execution_count": null,
      "metadata": {
        "id": "49a3ad1f",
        "outputId": "f8e652a0-850e-4fbc-96df-07421d390929"
      },
      "outputs": [
        {
          "data": {
            "text/plain": [
              "array([ 20,  50,  30,  60, 160,  85,  90, 120, 180,  80,  70,  75, 190,\n",
              "        45,  40], dtype=int64)"
            ]
          },
          "execution_count": 35,
          "metadata": {},
          "output_type": "execute_result"
        }
      ],
      "source": [
        "train_df[\"MSSubClass\"].unique()"
      ],
      "id": "49a3ad1f"
    },
    {
      "cell_type": "code",
      "execution_count": null,
      "metadata": {
        "id": "450b5296"
      },
      "outputs": [],
      "source": [],
      "id": "450b5296"
    },
    {
      "cell_type": "markdown",
      "metadata": {
        "id": "e222891b"
      },
      "source": [
        "MSSubClass: Identifies the type of dwelling involved in the sale.\n",
        "\n",
        "        20\t1-STORY 1946 & NEWER ALL STYLES\n",
        "        30\t1-STORY 1945 & OLDER\n",
        "        40\t1-STORY W/FINISHED ATTIC ALL AGES\n",
        "        45\t1-1/2 STORY - UNFINISHED ALL AGES\n",
        "        50\t1-1/2 STORY FINISHED ALL AGES\n",
        "        60\t2-STORY 1946 & NEWER\n",
        "        70\t2-STORY 1945 & OLDER\n",
        "        75\t2-1/2 STORY ALL AGES\n",
        "        80\tSPLIT OR MULTI-LEVEL\n",
        "        85\tSPLIT FOYER\n",
        "        90\tDUPLEX - ALL STYLES AND AGES\n",
        "       120\t1-STORY PUD (Planned Unit Development) - 1946 & NEWER\n",
        "       150\t1-1/2 STORY PUD - ALL AGES\n",
        "       160\t2-STORY PUD - 1946 & NEWER\n",
        "       180\tPUD - MULTILEVEL - INCL SPLIT LEV/FOYER\n",
        "       190\t2 FAMILY CONVERSION - ALL STYLES AND AGES"
      ],
      "id": "e222891b"
    },
    {
      "cell_type": "code",
      "execution_count": null,
      "metadata": {
        "id": "c9a4777f"
      },
      "outputs": [],
      "source": [],
      "id": "c9a4777f"
    },
    {
      "cell_type": "markdown",
      "metadata": {
        "id": "83e88124"
      },
      "source": [
        "Also, month sold is more of a categorical feature than a numeric feature."
      ],
      "id": "83e88124"
    },
    {
      "cell_type": "code",
      "execution_count": null,
      "metadata": {
        "id": "9c8805b1",
        "outputId": "721911e1-6b38-4ef4-ab5b-7e9320b9df4e"
      },
      "outputs": [
        {
          "data": {
            "text/plain": [
              "array([ 1,  7,  3,  5,  8, 10,  6,  9, 12,  2,  4, 11], dtype=int64)"
            ]
          },
          "execution_count": 36,
          "metadata": {},
          "output_type": "execute_result"
        }
      ],
      "source": [
        "train_df[\"MoSold\"].unique() # Month Sold"
      ],
      "id": "9c8805b1"
    },
    {
      "cell_type": "code",
      "execution_count": null,
      "metadata": {
        "id": "a07a0bf5"
      },
      "outputs": [],
      "source": [],
      "id": "a07a0bf5"
    },
    {
      "cell_type": "code",
      "execution_count": null,
      "metadata": {
        "id": "c8021e00"
      },
      "outputs": [],
      "source": [
        "drop_features = [\"Id\"]\n",
        "numeric_features = [\n",
        "    \"BedroomAbvGr\",\n",
        "    \"KitchenAbvGr\",\n",
        "    \"LotFrontage\",\n",
        "    \"LotArea\",\n",
        "    \"OverallQual\",\n",
        "    \"OverallCond\",\n",
        "    \"YearBuilt\",\n",
        "    \"YearRemodAdd\",\n",
        "    \"MasVnrArea\",\n",
        "    \"BsmtFinSF1\",\n",
        "    \"BsmtFinSF2\",\n",
        "    \"BsmtUnfSF\",\n",
        "    \"TotalBsmtSF\",\n",
        "    \"1stFlrSF\",\n",
        "    \"2ndFlrSF\",\n",
        "    \"LowQualFinSF\",\n",
        "    \"GrLivArea\",\n",
        "    \"BsmtFullBath\",\n",
        "    \"BsmtHalfBath\",\n",
        "    \"FullBath\",\n",
        "    \"HalfBath\",\n",
        "    \"TotRmsAbvGrd\",\n",
        "    \"Fireplaces\",\n",
        "    \"GarageYrBlt\",\n",
        "    \"GarageCars\",\n",
        "    \"GarageArea\",\n",
        "    \"WoodDeckSF\",\n",
        "    \"OpenPorchSF\",\n",
        "    \"EnclosedPorch\",\n",
        "    \"3SsnPorch\",\n",
        "    \"ScreenPorch\",\n",
        "    \"PoolArea\",\n",
        "    \"MiscVal\",\n",
        "    \"YrSold\",\n",
        "]"
      ],
      "id": "c8021e00"
    },
    {
      "cell_type": "code",
      "execution_count": null,
      "metadata": {
        "id": "3eed4997",
        "outputId": "755e2577-69ca-4654-f9d2-e4ea5529c9a7"
      },
      "outputs": [
        {
          "data": {
            "text/plain": [
              "{'MSSubClass', 'MoSold'}"
            ]
          },
          "execution_count": 38,
          "metadata": {},
          "output_type": "execute_result"
        }
      ],
      "source": [
        "set(numeric_looking_columns) - set(numeric_features) - set(drop_features)"
      ],
      "id": "3eed4997"
    },
    {
      "cell_type": "markdown",
      "metadata": {
        "id": "379ee462"
      },
      "source": [
        "We'll treat the above numeric-looking features as categorical features."
      ],
      "id": "379ee462"
    },
    {
      "cell_type": "markdown",
      "metadata": {
        "id": "1ab598fb"
      },
      "source": [
        "- There are a bunch of ordinal features in this dataset.\n",
        "- Ordinal features with the same scale\n",
        "    - Poor (Po), Fair (Fa), Typical (TA), Good (Gd), Excellent (Ex)\n",
        "    - These we'll be calling `ordinal_features_reg`.\n",
        "- Ordinal features with different scales\n",
        "    - These we'll be calling `ordinal_features_oth`."
      ],
      "id": "1ab598fb"
    },
    {
      "cell_type": "code",
      "execution_count": null,
      "metadata": {
        "id": "ed1eb6aa"
      },
      "outputs": [],
      "source": [],
      "id": "ed1eb6aa"
    },
    {
      "cell_type": "code",
      "execution_count": null,
      "metadata": {
        "id": "0589431a",
        "outputId": "6027a13e-26a9-4c8b-e440-e8708f53ccb4"
      },
      "outputs": [
        {
          "data": {
            "text/plain": [
              "[['Po', 'Fa', 'TA', 'Gd', 'Ex'],\n",
              " ['Po', 'Fa', 'TA', 'Gd', 'Ex'],\n",
              " ['Po', 'Fa', 'TA', 'Gd', 'Ex'],\n",
              " ['Po', 'Fa', 'TA', 'Gd', 'Ex'],\n",
              " ['Po', 'Fa', 'TA', 'Gd', 'Ex'],\n",
              " ['Po', 'Fa', 'TA', 'Gd', 'Ex'],\n",
              " ['Po', 'Fa', 'TA', 'Gd', 'Ex'],\n",
              " ['Po', 'Fa', 'TA', 'Gd', 'Ex'],\n",
              " ['Po', 'Fa', 'TA', 'Gd', 'Ex'],\n",
              " ['Po', 'Fa', 'TA', 'Gd', 'Ex']]"
            ]
          },
          "execution_count": 39,
          "metadata": {},
          "output_type": "execute_result"
        }
      ],
      "source": [
        "ordinal_features_reg = [\n",
        "    \"ExterQual\",\n",
        "    \"ExterCond\",\n",
        "    \"BsmtQual\",\n",
        "    \"BsmtCond\",\n",
        "    \"HeatingQC\",\n",
        "    \"KitchenQual\",\n",
        "    \"FireplaceQu\",\n",
        "    \"GarageQual\",\n",
        "    \"GarageCond\",\n",
        "    \"PoolQC\",\n",
        "]\n",
        "ordering = [\n",
        "    \"Po\",\n",
        "    \"Fa\",\n",
        "    \"TA\",\n",
        "    \"Gd\",\n",
        "    \"Ex\",\n",
        "]  # if N/A it will just impute something, per below\n",
        "ordering_ordinal_reg = [ordering] * len(ordinal_features_reg)\n",
        "ordering_ordinal_reg"
      ],
      "id": "0589431a"
    },
    {
      "cell_type": "code",
      "execution_count": null,
      "metadata": {
        "id": "09ab4846"
      },
      "outputs": [],
      "source": [],
      "id": "09ab4846"
    },
    {
      "cell_type": "markdown",
      "metadata": {
        "id": "80ea06bc"
      },
      "source": [
        "We'll pass the above as categories in our `OrdinalEncoder`."
      ],
      "id": "80ea06bc"
    },
    {
      "cell_type": "code",
      "execution_count": null,
      "metadata": {
        "id": "94166426"
      },
      "outputs": [],
      "source": [],
      "id": "94166426"
    },
    {
      "cell_type": "markdown",
      "metadata": {
        "id": "612467da"
      },
      "source": [
        "- There are a bunch more ordinal features using different scales.\n",
        "  - These we'll be calling `ordinal_features_oth`.\n",
        "  - We are encoding them separately."
      ],
      "id": "612467da"
    },
    {
      "cell_type": "code",
      "execution_count": null,
      "metadata": {
        "id": "abb0ee8f"
      },
      "outputs": [],
      "source": [
        "ordinal_features_oth = [\n",
        "    \"BsmtExposure\",\n",
        "    \"BsmtFinType1\",\n",
        "    \"BsmtFinType2\",\n",
        "    \"Functional\",\n",
        "    \"Fence\",\n",
        "]\n",
        "ordering_ordinal_oth = [\n",
        "    ['NA', 'No', 'Mn', 'Av', 'Gd'],\n",
        "    ['NA', 'Unf', 'LwQ', 'Rec', 'BLQ', 'ALQ', 'GLQ'],\n",
        "    ['NA', 'Unf', 'LwQ', 'Rec', 'BLQ', 'ALQ', 'GLQ'],\n",
        "    ['Sal','Sev','Maj2','Maj1','Mod','Min2','Min1','Typ'],\n",
        "    ['NA', 'MnWw', 'GdWo', 'MnPrv', 'GdPrv']\n",
        "]"
      ],
      "id": "abb0ee8f"
    },
    {
      "cell_type": "code",
      "execution_count": null,
      "metadata": {
        "id": "850c85e5"
      },
      "outputs": [],
      "source": [],
      "id": "850c85e5"
    },
    {
      "cell_type": "markdown",
      "metadata": {
        "id": "419177cc"
      },
      "source": [
        "The remaining features are categorical features."
      ],
      "id": "419177cc"
    },
    {
      "cell_type": "code",
      "execution_count": null,
      "metadata": {
        "id": "83eee9e1",
        "outputId": "2594c36c-288d-4d01-f352-810d191a6a74"
      },
      "outputs": [
        {
          "data": {
            "text/plain": [
              "['Heating',\n",
              " 'CentralAir',\n",
              " 'MoSold',\n",
              " 'LotShape',\n",
              " 'RoofStyle',\n",
              " 'SaleCondition',\n",
              " 'Street',\n",
              " 'Exterior2nd',\n",
              " 'LandSlope',\n",
              " 'LotConfig',\n",
              " 'MSSubClass',\n",
              " 'Alley',\n",
              " 'RoofMatl',\n",
              " 'Foundation',\n",
              " 'Utilities',\n",
              " 'MSZoning',\n",
              " 'Condition1',\n",
              " 'Condition2',\n",
              " 'Exterior1st',\n",
              " 'Neighborhood',\n",
              " 'SaleType',\n",
              " 'MiscFeature',\n",
              " 'HouseStyle',\n",
              " 'MasVnrType',\n",
              " 'GarageFinish',\n",
              " 'PavedDrive',\n",
              " 'Electrical',\n",
              " 'GarageType',\n",
              " 'LandContour',\n",
              " 'BldgType']"
            ]
          },
          "execution_count": 41,
          "metadata": {},
          "output_type": "execute_result"
        }
      ],
      "source": [
        "categorical_features = list(\n",
        "    set(X_train.columns)\n",
        "    - set(numeric_features)\n",
        "    - set(ordinal_features_reg)\n",
        "    - set(ordinal_features_oth)\n",
        "    - set(drop_features)\n",
        ")\n",
        "categorical_features"
      ],
      "id": "83eee9e1"
    },
    {
      "cell_type": "code",
      "execution_count": null,
      "metadata": {
        "id": "670b22c4"
      },
      "outputs": [],
      "source": [],
      "id": "670b22c4"
    },
    {
      "cell_type": "markdown",
      "metadata": {
        "id": "745ccf7a"
      },
      "source": [
        "- We are not doing it here but we can engineer our own features too.\n",
        "- Would price per square foot be a good feature to add in here?"
      ],
      "id": "745ccf7a"
    },
    {
      "cell_type": "code",
      "execution_count": null,
      "metadata": {
        "id": "b03d8c86"
      },
      "outputs": [],
      "source": [],
      "id": "b03d8c86"
    },
    {
      "cell_type": "markdown",
      "metadata": {
        "id": "2bb4a3f7"
      },
      "source": [
        "#### Applying feature transformations\n",
        "\n",
        "- Since we have mixed feature types, let's use `ColumnTransformer` to apply different transformations on different features types.  "
      ],
      "id": "2bb4a3f7"
    },
    {
      "cell_type": "code",
      "execution_count": null,
      "metadata": {
        "id": "ab1f76b2"
      },
      "outputs": [],
      "source": [
        "from sklearn.compose import ColumnTransformer, make_column_transformer\n",
        "\n",
        "numeric_transformer = make_pipeline(SimpleImputer(strategy=\"median\"), StandardScaler())\n",
        "ordinal_transformer_reg = make_pipeline(\n",
        "    SimpleImputer(strategy=\"most_frequent\"),\n",
        "    OrdinalEncoder(categories=ordering_ordinal_reg),\n",
        ")\n",
        "\n",
        "ordinal_transformer_oth = make_pipeline(\n",
        "    SimpleImputer(strategy=\"most_frequent\"),\n",
        "    OrdinalEncoder(categories=ordering_ordinal_oth),\n",
        ")\n",
        "\n",
        "categorical_transformer = make_pipeline(\n",
        "    SimpleImputer(strategy=\"constant\", fill_value=\"missing\"),\n",
        "    OneHotEncoder(handle_unknown=\"ignore\", sparse=False),\n",
        ")\n",
        "\n",
        "preprocessor = make_column_transformer(\n",
        "    (\"drop\", drop_features),\n",
        "    (numeric_transformer, numeric_features),\n",
        "    (ordinal_transformer_reg, ordinal_features_reg),\n",
        "    (ordinal_transformer_oth, ordinal_features_oth),\n",
        "    (categorical_transformer, categorical_features),\n",
        ")"
      ],
      "id": "ab1f76b2"
    },
    {
      "cell_type": "code",
      "execution_count": null,
      "metadata": {
        "id": "51cf5bfc",
        "outputId": "2605b31e-5a8e-4c15-d887-89a72b786dcb"
      },
      "outputs": [
        {
          "name": "stderr",
          "output_type": "stream",
          "text": [
            "C:\\Users\\sanjay\\anaconda3\\envs\\pytorch_cuda\\lib\\site-packages\\sklearn\\preprocessing\\_encoders.py:868: FutureWarning: `sparse` was renamed to `sparse_output` in version 1.2 and will be removed in 1.4. `sparse_output` is ignored unless you leave `sparse` to its default value.\n",
            "  warnings.warn(\n"
          ]
        },
        {
          "data": {
            "text/plain": [
              "{'drop': 'drop',\n",
              " 'pipeline-1': Pipeline(steps=[('simpleimputer', SimpleImputer(strategy='median')),\n",
              "                 ('standardscaler', StandardScaler())]),\n",
              " 'pipeline-2': Pipeline(steps=[('simpleimputer', SimpleImputer(strategy='most_frequent')),\n",
              "                 ('ordinalencoder',\n",
              "                  OrdinalEncoder(categories=[['Po', 'Fa', 'TA', 'Gd', 'Ex'],\n",
              "                                             ['Po', 'Fa', 'TA', 'Gd', 'Ex'],\n",
              "                                             ['Po', 'Fa', 'TA', 'Gd', 'Ex'],\n",
              "                                             ['Po', 'Fa', 'TA', 'Gd', 'Ex'],\n",
              "                                             ['Po', 'Fa', 'TA', 'Gd', 'Ex'],\n",
              "                                             ['Po', 'Fa', 'TA', 'Gd', 'Ex'],\n",
              "                                             ['Po', 'Fa', 'TA', 'Gd', 'Ex'],\n",
              "                                             ['Po', 'Fa', 'TA', 'Gd', 'Ex'],\n",
              "                                             ['Po', 'Fa', 'TA', 'Gd', 'Ex'],\n",
              "                                             ['Po', 'Fa', 'TA', 'Gd', 'Ex']]))]),\n",
              " 'pipeline-3': Pipeline(steps=[('simpleimputer', SimpleImputer(strategy='most_frequent')),\n",
              "                 ('ordinalencoder',\n",
              "                  OrdinalEncoder(categories=[['NA', 'No', 'Mn', 'Av', 'Gd'],\n",
              "                                             ['NA', 'Unf', 'LwQ', 'Rec', 'BLQ',\n",
              "                                              'ALQ', 'GLQ'],\n",
              "                                             ['NA', 'Unf', 'LwQ', 'Rec', 'BLQ',\n",
              "                                              'ALQ', 'GLQ'],\n",
              "                                             ['Sal', 'Sev', 'Maj2', 'Maj1',\n",
              "                                              'Mod', 'Min2', 'Min1', 'Typ'],\n",
              "                                             ['NA', 'MnWw', 'GdWo', 'MnPrv',\n",
              "                                              'GdPrv']]))]),\n",
              " 'pipeline-4': Pipeline(steps=[('simpleimputer',\n",
              "                  SimpleImputer(fill_value='missing', strategy='constant')),\n",
              "                 ('onehotencoder',\n",
              "                  OneHotEncoder(handle_unknown='ignore', sparse=False,\n",
              "                                sparse_output=False))])}"
            ]
          },
          "execution_count": 47,
          "metadata": {},
          "output_type": "execute_result"
        }
      ],
      "source": [
        "preprocessor.fit(X_train) # Calling fit to examine all the transformers.\n",
        "preprocessor.named_transformers_"
      ],
      "id": "51cf5bfc"
    },
    {
      "cell_type": "code",
      "execution_count": null,
      "metadata": {
        "id": "436956d0"
      },
      "outputs": [],
      "source": [
        "ohe_columns = list(\n",
        "    preprocessor.named_transformers_[\"pipeline-4\"]\n",
        "    .named_steps[\"onehotencoder\"]\n",
        "    .get_feature_names_out(categorical_features)\n",
        ")\n",
        "new_columns = numeric_features + ordinal_features_reg + ordinal_features_oth + ohe_columns"
      ],
      "id": "436956d0"
    },
    {
      "cell_type": "code",
      "execution_count": null,
      "metadata": {
        "id": "8f8e75f0",
        "outputId": "6112d158-939e-4fd4-edf2-4aab294cebe4"
      },
      "outputs": [
        {
          "data": {
            "text/html": [
              "<div>\n",
              "<style scoped>\n",
              "    .dataframe tbody tr th:only-of-type {\n",
              "        vertical-align: middle;\n",
              "    }\n",
              "\n",
              "    .dataframe tbody tr th {\n",
              "        vertical-align: top;\n",
              "    }\n",
              "\n",
              "    .dataframe thead th {\n",
              "        text-align: right;\n",
              "    }\n",
              "</style>\n",
              "<table border=\"1\" class=\"dataframe\">\n",
              "  <thead>\n",
              "    <tr style=\"text-align: right;\">\n",
              "      <th></th>\n",
              "      <th>BedroomAbvGr</th>\n",
              "      <th>KitchenAbvGr</th>\n",
              "      <th>LotFrontage</th>\n",
              "      <th>LotArea</th>\n",
              "      <th>OverallQual</th>\n",
              "      <th>OverallCond</th>\n",
              "      <th>YearBuilt</th>\n",
              "      <th>YearRemodAdd</th>\n",
              "      <th>MasVnrArea</th>\n",
              "      <th>BsmtFinSF1</th>\n",
              "      <th>...</th>\n",
              "      <th>GarageType_missing</th>\n",
              "      <th>LandContour_Bnk</th>\n",
              "      <th>LandContour_HLS</th>\n",
              "      <th>LandContour_Low</th>\n",
              "      <th>LandContour_Lvl</th>\n",
              "      <th>BldgType_1Fam</th>\n",
              "      <th>BldgType_2fmCon</th>\n",
              "      <th>BldgType_Duplex</th>\n",
              "      <th>BldgType_Twnhs</th>\n",
              "      <th>BldgType_TwnhsE</th>\n",
              "    </tr>\n",
              "  </thead>\n",
              "  <tbody>\n",
              "    <tr>\n",
              "      <th>302</th>\n",
              "      <td>0.154795</td>\n",
              "      <td>-0.222647</td>\n",
              "      <td>2.312501</td>\n",
              "      <td>0.381428</td>\n",
              "      <td>0.663680</td>\n",
              "      <td>-0.512408</td>\n",
              "      <td>0.993969</td>\n",
              "      <td>0.840492</td>\n",
              "      <td>0.269972</td>\n",
              "      <td>-0.961498</td>\n",
              "      <td>...</td>\n",
              "      <td>0.0</td>\n",
              "      <td>0.0</td>\n",
              "      <td>0.0</td>\n",
              "      <td>0.0</td>\n",
              "      <td>1.0</td>\n",
              "      <td>1.0</td>\n",
              "      <td>0.0</td>\n",
              "      <td>0.0</td>\n",
              "      <td>0.0</td>\n",
              "      <td>0.0</td>\n",
              "    </tr>\n",
              "    <tr>\n",
              "      <th>767</th>\n",
              "      <td>1.372763</td>\n",
              "      <td>-0.222647</td>\n",
              "      <td>0.260890</td>\n",
              "      <td>0.248457</td>\n",
              "      <td>-0.054669</td>\n",
              "      <td>1.285467</td>\n",
              "      <td>-1.026793</td>\n",
              "      <td>0.016525</td>\n",
              "      <td>-0.573129</td>\n",
              "      <td>0.476092</td>\n",
              "      <td>...</td>\n",
              "      <td>0.0</td>\n",
              "      <td>0.0</td>\n",
              "      <td>0.0</td>\n",
              "      <td>0.0</td>\n",
              "      <td>1.0</td>\n",
              "      <td>1.0</td>\n",
              "      <td>0.0</td>\n",
              "      <td>0.0</td>\n",
              "      <td>0.0</td>\n",
              "      <td>0.0</td>\n",
              "    </tr>\n",
              "    <tr>\n",
              "      <th>429</th>\n",
              "      <td>0.154795</td>\n",
              "      <td>-0.222647</td>\n",
              "      <td>2.885044</td>\n",
              "      <td>0.131607</td>\n",
              "      <td>-0.054669</td>\n",
              "      <td>-0.512408</td>\n",
              "      <td>0.563314</td>\n",
              "      <td>0.161931</td>\n",
              "      <td>-0.573129</td>\n",
              "      <td>1.227559</td>\n",
              "      <td>...</td>\n",
              "      <td>0.0</td>\n",
              "      <td>0.0</td>\n",
              "      <td>0.0</td>\n",
              "      <td>0.0</td>\n",
              "      <td>1.0</td>\n",
              "      <td>1.0</td>\n",
              "      <td>0.0</td>\n",
              "      <td>0.0</td>\n",
              "      <td>0.0</td>\n",
              "      <td>0.0</td>\n",
              "    </tr>\n",
              "    <tr>\n",
              "      <th>1139</th>\n",
              "      <td>0.154795</td>\n",
              "      <td>-0.222647</td>\n",
              "      <td>1.358264</td>\n",
              "      <td>-0.171468</td>\n",
              "      <td>-0.773017</td>\n",
              "      <td>-0.512408</td>\n",
              "      <td>-1.689338</td>\n",
              "      <td>-1.679877</td>\n",
              "      <td>-0.573129</td>\n",
              "      <td>0.443419</td>\n",
              "      <td>...</td>\n",
              "      <td>0.0</td>\n",
              "      <td>0.0</td>\n",
              "      <td>0.0</td>\n",
              "      <td>0.0</td>\n",
              "      <td>1.0</td>\n",
              "      <td>1.0</td>\n",
              "      <td>0.0</td>\n",
              "      <td>0.0</td>\n",
              "      <td>0.0</td>\n",
              "      <td>0.0</td>\n",
              "    </tr>\n",
              "    <tr>\n",
              "      <th>558</th>\n",
              "      <td>0.154795</td>\n",
              "      <td>-0.222647</td>\n",
              "      <td>-0.597924</td>\n",
              "      <td>1.289541</td>\n",
              "      <td>0.663680</td>\n",
              "      <td>-0.512408</td>\n",
              "      <td>0.828332</td>\n",
              "      <td>0.598149</td>\n",
              "      <td>-0.573129</td>\n",
              "      <td>0.354114</td>\n",
              "      <td>...</td>\n",
              "      <td>0.0</td>\n",
              "      <td>0.0</td>\n",
              "      <td>1.0</td>\n",
              "      <td>0.0</td>\n",
              "      <td>0.0</td>\n",
              "      <td>1.0</td>\n",
              "      <td>0.0</td>\n",
              "      <td>0.0</td>\n",
              "      <td>0.0</td>\n",
              "      <td>0.0</td>\n",
              "    </tr>\n",
              "  </tbody>\n",
              "</table>\n",
              "<p>5 rows × 263 columns</p>\n",
              "</div>"
            ],
            "text/plain": [
              "      BedroomAbvGr  KitchenAbvGr  LotFrontage   LotArea  OverallQual  \\\n",
              "302       0.154795     -0.222647     2.312501  0.381428     0.663680   \n",
              "767       1.372763     -0.222647     0.260890  0.248457    -0.054669   \n",
              "429       0.154795     -0.222647     2.885044  0.131607    -0.054669   \n",
              "1139      0.154795     -0.222647     1.358264 -0.171468    -0.773017   \n",
              "558       0.154795     -0.222647    -0.597924  1.289541     0.663680   \n",
              "\n",
              "      OverallCond  YearBuilt  YearRemodAdd  MasVnrArea  BsmtFinSF1  ...  \\\n",
              "302     -0.512408   0.993969      0.840492    0.269972   -0.961498  ...   \n",
              "767      1.285467  -1.026793      0.016525   -0.573129    0.476092  ...   \n",
              "429     -0.512408   0.563314      0.161931   -0.573129    1.227559  ...   \n",
              "1139    -0.512408  -1.689338     -1.679877   -0.573129    0.443419  ...   \n",
              "558     -0.512408   0.828332      0.598149   -0.573129    0.354114  ...   \n",
              "\n",
              "      GarageType_missing  LandContour_Bnk  LandContour_HLS  LandContour_Low  \\\n",
              "302                  0.0              0.0              0.0              0.0   \n",
              "767                  0.0              0.0              0.0              0.0   \n",
              "429                  0.0              0.0              0.0              0.0   \n",
              "1139                 0.0              0.0              0.0              0.0   \n",
              "558                  0.0              0.0              1.0              0.0   \n",
              "\n",
              "      LandContour_Lvl  BldgType_1Fam  BldgType_2fmCon  BldgType_Duplex  \\\n",
              "302               1.0            1.0              0.0              0.0   \n",
              "767               1.0            1.0              0.0              0.0   \n",
              "429               1.0            1.0              0.0              0.0   \n",
              "1139              1.0            1.0              0.0              0.0   \n",
              "558               0.0            1.0              0.0              0.0   \n",
              "\n",
              "      BldgType_Twnhs  BldgType_TwnhsE  \n",
              "302              0.0              0.0  \n",
              "767              0.0              0.0  \n",
              "429              0.0              0.0  \n",
              "1139             0.0              0.0  \n",
              "558              0.0              0.0  \n",
              "\n",
              "[5 rows x 263 columns]"
            ]
          },
          "execution_count": 49,
          "metadata": {},
          "output_type": "execute_result"
        }
      ],
      "source": [
        "X_train_enc = pd.DataFrame(\n",
        "    preprocessor.transform(X_train), index=X_train.index, columns=new_columns\n",
        ")\n",
        "X_train_enc.head()"
      ],
      "id": "8f8e75f0"
    },
    {
      "cell_type": "code",
      "execution_count": null,
      "metadata": {
        "id": "894bf106"
      },
      "outputs": [],
      "source": [],
      "id": "894bf106"
    },
    {
      "cell_type": "markdown",
      "metadata": {
        "id": "ebc3cef3"
      },
      "source": [
        "#### Other possible preprocessing?  \n",
        "\n",
        "- There is a lot of room for improvement ...\n",
        "- We're just using `SimpleImputer`.\n",
        "    - In reality we'd want to go through this more carefully.\n",
        "    - We may also want to drop some columns that are almost entirely missing.    \n",
        "- We could also check for outliers, and do other exploratory data analysis (EDA).\n",
        "- But for academic purposes, this is good enough ...    "
      ],
      "id": "ebc3cef3"
    },
    {
      "cell_type": "code",
      "execution_count": null,
      "metadata": {
        "id": "36ae9a57"
      },
      "outputs": [],
      "source": [],
      "id": "36ae9a57"
    },
    {
      "cell_type": "markdown",
      "metadata": {
        "id": "6a7be6ed"
      },
      "source": [
        "#### `DummyRegressor`"
      ],
      "id": "6a7be6ed"
    },
    {
      "cell_type": "code",
      "execution_count": null,
      "metadata": {
        "id": "c7ca8052",
        "outputId": "7181f106-6049-4b59-da8e-afb9ac3fb327"
      },
      "outputs": [
        {
          "data": {
            "text/html": [
              "<div>\n",
              "<style scoped>\n",
              "    .dataframe tbody tr th:only-of-type {\n",
              "        vertical-align: middle;\n",
              "    }\n",
              "\n",
              "    .dataframe tbody tr th {\n",
              "        vertical-align: top;\n",
              "    }\n",
              "\n",
              "    .dataframe thead th {\n",
              "        text-align: right;\n",
              "    }\n",
              "</style>\n",
              "<table border=\"1\" class=\"dataframe\">\n",
              "  <thead>\n",
              "    <tr style=\"text-align: right;\">\n",
              "      <th></th>\n",
              "      <th>fit_time</th>\n",
              "      <th>score_time</th>\n",
              "      <th>test_score</th>\n",
              "      <th>train_score</th>\n",
              "    </tr>\n",
              "  </thead>\n",
              "  <tbody>\n",
              "    <tr>\n",
              "      <th>0</th>\n",
              "      <td>0.000999</td>\n",
              "      <td>0.000000</td>\n",
              "      <td>-0.003547</td>\n",
              "      <td>0.0</td>\n",
              "    </tr>\n",
              "    <tr>\n",
              "      <th>1</th>\n",
              "      <td>0.000999</td>\n",
              "      <td>0.000000</td>\n",
              "      <td>-0.001266</td>\n",
              "      <td>0.0</td>\n",
              "    </tr>\n",
              "    <tr>\n",
              "      <th>2</th>\n",
              "      <td>0.001001</td>\n",
              "      <td>0.000000</td>\n",
              "      <td>-0.011767</td>\n",
              "      <td>0.0</td>\n",
              "    </tr>\n",
              "    <tr>\n",
              "      <th>3</th>\n",
              "      <td>0.000998</td>\n",
              "      <td>0.000000</td>\n",
              "      <td>-0.006744</td>\n",
              "      <td>0.0</td>\n",
              "    </tr>\n",
              "    <tr>\n",
              "      <th>4</th>\n",
              "      <td>0.000000</td>\n",
              "      <td>0.001001</td>\n",
              "      <td>-0.076533</td>\n",
              "      <td>0.0</td>\n",
              "    </tr>\n",
              "    <tr>\n",
              "      <th>5</th>\n",
              "      <td>0.001001</td>\n",
              "      <td>0.000000</td>\n",
              "      <td>-0.003133</td>\n",
              "      <td>0.0</td>\n",
              "    </tr>\n",
              "    <tr>\n",
              "      <th>6</th>\n",
              "      <td>0.001000</td>\n",
              "      <td>0.000000</td>\n",
              "      <td>-0.000397</td>\n",
              "      <td>0.0</td>\n",
              "    </tr>\n",
              "    <tr>\n",
              "      <th>7</th>\n",
              "      <td>0.001000</td>\n",
              "      <td>0.000000</td>\n",
              "      <td>-0.003785</td>\n",
              "      <td>0.0</td>\n",
              "    </tr>\n",
              "    <tr>\n",
              "      <th>8</th>\n",
              "      <td>0.001000</td>\n",
              "      <td>0.000000</td>\n",
              "      <td>-0.001740</td>\n",
              "      <td>0.0</td>\n",
              "    </tr>\n",
              "    <tr>\n",
              "      <th>9</th>\n",
              "      <td>0.000999</td>\n",
              "      <td>0.000000</td>\n",
              "      <td>-0.000117</td>\n",
              "      <td>0.0</td>\n",
              "    </tr>\n",
              "  </tbody>\n",
              "</table>\n",
              "</div>"
            ],
            "text/plain": [
              "   fit_time  score_time  test_score  train_score\n",
              "0  0.000999    0.000000   -0.003547          0.0\n",
              "1  0.000999    0.000000   -0.001266          0.0\n",
              "2  0.001001    0.000000   -0.011767          0.0\n",
              "3  0.000998    0.000000   -0.006744          0.0\n",
              "4  0.000000    0.001001   -0.076533          0.0\n",
              "5  0.001001    0.000000   -0.003133          0.0\n",
              "6  0.001000    0.000000   -0.000397          0.0\n",
              "7  0.001000    0.000000   -0.003785          0.0\n",
              "8  0.001000    0.000000   -0.001740          0.0\n",
              "9  0.000999    0.000000   -0.000117          0.0"
            ]
          },
          "execution_count": 54,
          "metadata": {},
          "output_type": "execute_result"
        }
      ],
      "source": [
        "dummy = DummyRegressor()\n",
        "pd.DataFrame(cross_validate(dummy, X_train, y_train, cv=10, return_train_score=True))"
      ],
      "id": "c7ca8052"
    },
    {
      "cell_type": "markdown",
      "metadata": {
        "id": "b4802d27"
      },
      "source": [
        "#### `LinearRegression()`"
      ],
      "id": "b4802d27"
    },
    {
      "cell_type": "markdown",
      "metadata": {
        "id": "e1a938d4"
      },
      "source": [
        "Ordinary least squares Linear Regression.\n",
        "\n",
        "- LinearRegression fits a linear model with coefficients w = (w1, …, wp) to minimize the residual sum of squares between the observed targets in the dataset, and the targets predicted by the linear approximation."
      ],
      "id": "e1a938d4"
    },
    {
      "cell_type": "code",
      "execution_count": null,
      "metadata": {
        "id": "76295b8b",
        "outputId": "56ba8540-642d-4e21-dd15-1d416cd0d95f"
      },
      "outputs": [
        {
          "name": "stderr",
          "output_type": "stream",
          "text": [
            "C:\\Users\\sanjay\\anaconda3\\envs\\pytorch_cuda\\lib\\site-packages\\sklearn\\preprocessing\\_encoders.py:868: FutureWarning: `sparse` was renamed to `sparse_output` in version 1.2 and will be removed in 1.4. `sparse_output` is ignored unless you leave `sparse` to its default value.\n",
            "  warnings.warn(\n",
            "C:\\Users\\sanjay\\anaconda3\\envs\\pytorch_cuda\\lib\\site-packages\\sklearn\\preprocessing\\_encoders.py:868: FutureWarning: `sparse` was renamed to `sparse_output` in version 1.2 and will be removed in 1.4. `sparse_output` is ignored unless you leave `sparse` to its default value.\n",
            "  warnings.warn(\n",
            "C:\\Users\\sanjay\\anaconda3\\envs\\pytorch_cuda\\lib\\site-packages\\sklearn\\preprocessing\\_encoders.py:868: FutureWarning: `sparse` was renamed to `sparse_output` in version 1.2 and will be removed in 1.4. `sparse_output` is ignored unless you leave `sparse` to its default value.\n",
            "  warnings.warn(\n",
            "C:\\Users\\sanjay\\anaconda3\\envs\\pytorch_cuda\\lib\\site-packages\\sklearn\\preprocessing\\_encoders.py:868: FutureWarning: `sparse` was renamed to `sparse_output` in version 1.2 and will be removed in 1.4. `sparse_output` is ignored unless you leave `sparse` to its default value.\n",
            "  warnings.warn(\n",
            "C:\\Users\\sanjay\\anaconda3\\envs\\pytorch_cuda\\lib\\site-packages\\sklearn\\preprocessing\\_encoders.py:868: FutureWarning: `sparse` was renamed to `sparse_output` in version 1.2 and will be removed in 1.4. `sparse_output` is ignored unless you leave `sparse` to its default value.\n",
            "  warnings.warn(\n",
            "C:\\Users\\sanjay\\anaconda3\\envs\\pytorch_cuda\\lib\\site-packages\\sklearn\\preprocessing\\_encoders.py:868: FutureWarning: `sparse` was renamed to `sparse_output` in version 1.2 and will be removed in 1.4. `sparse_output` is ignored unless you leave `sparse` to its default value.\n",
            "  warnings.warn(\n",
            "C:\\Users\\sanjay\\anaconda3\\envs\\pytorch_cuda\\lib\\site-packages\\sklearn\\preprocessing\\_encoders.py:868: FutureWarning: `sparse` was renamed to `sparse_output` in version 1.2 and will be removed in 1.4. `sparse_output` is ignored unless you leave `sparse` to its default value.\n",
            "  warnings.warn(\n",
            "C:\\Users\\sanjay\\anaconda3\\envs\\pytorch_cuda\\lib\\site-packages\\sklearn\\preprocessing\\_encoders.py:868: FutureWarning: `sparse` was renamed to `sparse_output` in version 1.2 and will be removed in 1.4. `sparse_output` is ignored unless you leave `sparse` to its default value.\n",
            "  warnings.warn(\n",
            "C:\\Users\\sanjay\\anaconda3\\envs\\pytorch_cuda\\lib\\site-packages\\sklearn\\preprocessing\\_encoders.py:868: FutureWarning: `sparse` was renamed to `sparse_output` in version 1.2 and will be removed in 1.4. `sparse_output` is ignored unless you leave `sparse` to its default value.\n",
            "  warnings.warn(\n",
            "C:\\Users\\sanjay\\anaconda3\\envs\\pytorch_cuda\\lib\\site-packages\\sklearn\\preprocessing\\_encoders.py:868: FutureWarning: `sparse` was renamed to `sparse_output` in version 1.2 and will be removed in 1.4. `sparse_output` is ignored unless you leave `sparse` to its default value.\n",
            "  warnings.warn(\n"
          ]
        },
        {
          "data": {
            "text/html": [
              "<div>\n",
              "<style scoped>\n",
              "    .dataframe tbody tr th:only-of-type {\n",
              "        vertical-align: middle;\n",
              "    }\n",
              "\n",
              "    .dataframe tbody tr th {\n",
              "        vertical-align: top;\n",
              "    }\n",
              "\n",
              "    .dataframe thead th {\n",
              "        text-align: right;\n",
              "    }\n",
              "</style>\n",
              "<table border=\"1\" class=\"dataframe\">\n",
              "  <thead>\n",
              "    <tr style=\"text-align: right;\">\n",
              "      <th></th>\n",
              "      <th>fit_time</th>\n",
              "      <th>score_time</th>\n",
              "      <th>test_score</th>\n",
              "      <th>train_score</th>\n",
              "    </tr>\n",
              "  </thead>\n",
              "  <tbody>\n",
              "    <tr>\n",
              "      <th>0</th>\n",
              "      <td>0.145145</td>\n",
              "      <td>0.012001</td>\n",
              "      <td>-1.909981e+16</td>\n",
              "      <td>0.925595</td>\n",
              "    </tr>\n",
              "    <tr>\n",
              "      <th>1</th>\n",
              "      <td>0.138000</td>\n",
              "      <td>0.011000</td>\n",
              "      <td>-4.241646e+17</td>\n",
              "      <td>0.925987</td>\n",
              "    </tr>\n",
              "    <tr>\n",
              "      <th>2</th>\n",
              "      <td>0.132000</td>\n",
              "      <td>0.012000</td>\n",
              "      <td>-9.787982e+17</td>\n",
              "      <td>0.930772</td>\n",
              "    </tr>\n",
              "    <tr>\n",
              "      <th>3</th>\n",
              "      <td>0.137002</td>\n",
              "      <td>0.012004</td>\n",
              "      <td>8.685904e-01</td>\n",
              "      <td>0.924401</td>\n",
              "    </tr>\n",
              "    <tr>\n",
              "      <th>4</th>\n",
              "      <td>0.135995</td>\n",
              "      <td>0.011000</td>\n",
              "      <td>-3.614989e+16</td>\n",
              "      <td>0.930455</td>\n",
              "    </tr>\n",
              "    <tr>\n",
              "      <th>5</th>\n",
              "      <td>0.135002</td>\n",
              "      <td>0.015000</td>\n",
              "      <td>-7.891841e+18</td>\n",
              "      <td>0.921917</td>\n",
              "    </tr>\n",
              "    <tr>\n",
              "      <th>6</th>\n",
              "      <td>0.144000</td>\n",
              "      <td>0.010999</td>\n",
              "      <td>8.410984e-01</td>\n",
              "      <td>0.926939</td>\n",
              "    </tr>\n",
              "    <tr>\n",
              "      <th>7</th>\n",
              "      <td>0.135997</td>\n",
              "      <td>0.012004</td>\n",
              "      <td>-3.930159e+16</td>\n",
              "      <td>0.923892</td>\n",
              "    </tr>\n",
              "    <tr>\n",
              "      <th>8</th>\n",
              "      <td>0.145001</td>\n",
              "      <td>0.011000</td>\n",
              "      <td>-3.327886e+17</td>\n",
              "      <td>0.924451</td>\n",
              "    </tr>\n",
              "    <tr>\n",
              "      <th>9</th>\n",
              "      <td>0.135999</td>\n",
              "      <td>0.014000</td>\n",
              "      <td>-1.403822e+19</td>\n",
              "      <td>0.921558</td>\n",
              "    </tr>\n",
              "  </tbody>\n",
              "</table>\n",
              "</div>"
            ],
            "text/plain": [
              "   fit_time  score_time    test_score  train_score\n",
              "0  0.145145    0.012001 -1.909981e+16     0.925595\n",
              "1  0.138000    0.011000 -4.241646e+17     0.925987\n",
              "2  0.132000    0.012000 -9.787982e+17     0.930772\n",
              "3  0.137002    0.012004  8.685904e-01     0.924401\n",
              "4  0.135995    0.011000 -3.614989e+16     0.930455\n",
              "5  0.135002    0.015000 -7.891841e+18     0.921917\n",
              "6  0.144000    0.010999  8.410984e-01     0.926939\n",
              "7  0.135997    0.012004 -3.930159e+16     0.923892\n",
              "8  0.145001    0.011000 -3.327886e+17     0.924451\n",
              "9  0.135999    0.014000 -1.403822e+19     0.921558"
            ]
          },
          "execution_count": 57,
          "metadata": {},
          "output_type": "execute_result"
        }
      ],
      "source": [
        "lr_pipe = make_pipeline(preprocessor, LinearRegression())\n",
        "pd.DataFrame(cross_validate(lr_pipe, X_train, y_train, cv=10, return_train_score=True))"
      ],
      "id": "76295b8b"
    },
    {
      "cell_type": "code",
      "execution_count": null,
      "metadata": {
        "id": "ae42f455",
        "outputId": "a7de5bee-4702-4723-9db2-d7573b792e4f"
      },
      "outputs": [
        {
          "name": "stderr",
          "output_type": "stream",
          "text": [
            "C:\\Users\\sanjay\\anaconda3\\envs\\pytorch_cuda\\lib\\site-packages\\sklearn\\preprocessing\\_encoders.py:868: FutureWarning: `sparse` was renamed to `sparse_output` in version 1.2 and will be removed in 1.4. `sparse_output` is ignored unless you leave `sparse` to its default value.\n",
            "  warnings.warn(\n"
          ]
        },
        {
          "data": {
            "text/html": [
              "<style>#sk-container-id-1 {color: black;background-color: white;}#sk-container-id-1 pre{padding: 0;}#sk-container-id-1 div.sk-toggleable {background-color: white;}#sk-container-id-1 label.sk-toggleable__label {cursor: pointer;display: block;width: 100%;margin-bottom: 0;padding: 0.3em;box-sizing: border-box;text-align: center;}#sk-container-id-1 label.sk-toggleable__label-arrow:before {content: \"▸\";float: left;margin-right: 0.25em;color: #696969;}#sk-container-id-1 label.sk-toggleable__label-arrow:hover:before {color: black;}#sk-container-id-1 div.sk-estimator:hover label.sk-toggleable__label-arrow:before {color: black;}#sk-container-id-1 div.sk-toggleable__content {max-height: 0;max-width: 0;overflow: hidden;text-align: left;background-color: #f0f8ff;}#sk-container-id-1 div.sk-toggleable__content pre {margin: 0.2em;color: black;border-radius: 0.25em;background-color: #f0f8ff;}#sk-container-id-1 input.sk-toggleable__control:checked~div.sk-toggleable__content {max-height: 200px;max-width: 100%;overflow: auto;}#sk-container-id-1 input.sk-toggleable__control:checked~label.sk-toggleable__label-arrow:before {content: \"▾\";}#sk-container-id-1 div.sk-estimator input.sk-toggleable__control:checked~label.sk-toggleable__label {background-color: #d4ebff;}#sk-container-id-1 div.sk-label input.sk-toggleable__control:checked~label.sk-toggleable__label {background-color: #d4ebff;}#sk-container-id-1 input.sk-hidden--visually {border: 0;clip: rect(1px 1px 1px 1px);clip: rect(1px, 1px, 1px, 1px);height: 1px;margin: -1px;overflow: hidden;padding: 0;position: absolute;width: 1px;}#sk-container-id-1 div.sk-estimator {font-family: monospace;background-color: #f0f8ff;border: 1px dotted black;border-radius: 0.25em;box-sizing: border-box;margin-bottom: 0.5em;}#sk-container-id-1 div.sk-estimator:hover {background-color: #d4ebff;}#sk-container-id-1 div.sk-parallel-item::after {content: \"\";width: 100%;border-bottom: 1px solid gray;flex-grow: 1;}#sk-container-id-1 div.sk-label:hover label.sk-toggleable__label {background-color: #d4ebff;}#sk-container-id-1 div.sk-serial::before {content: \"\";position: absolute;border-left: 1px solid gray;box-sizing: border-box;top: 0;bottom: 0;left: 50%;z-index: 0;}#sk-container-id-1 div.sk-serial {display: flex;flex-direction: column;align-items: center;background-color: white;padding-right: 0.2em;padding-left: 0.2em;position: relative;}#sk-container-id-1 div.sk-item {position: relative;z-index: 1;}#sk-container-id-1 div.sk-parallel {display: flex;align-items: stretch;justify-content: center;background-color: white;position: relative;}#sk-container-id-1 div.sk-item::before, #sk-container-id-1 div.sk-parallel-item::before {content: \"\";position: absolute;border-left: 1px solid gray;box-sizing: border-box;top: 0;bottom: 0;left: 50%;z-index: -1;}#sk-container-id-1 div.sk-parallel-item {display: flex;flex-direction: column;z-index: 1;position: relative;background-color: white;}#sk-container-id-1 div.sk-parallel-item:first-child::after {align-self: flex-end;width: 50%;}#sk-container-id-1 div.sk-parallel-item:last-child::after {align-self: flex-start;width: 50%;}#sk-container-id-1 div.sk-parallel-item:only-child::after {width: 0;}#sk-container-id-1 div.sk-dashed-wrapped {border: 1px dashed gray;margin: 0 0.4em 0.5em 0.4em;box-sizing: border-box;padding-bottom: 0.4em;background-color: white;}#sk-container-id-1 div.sk-label label {font-family: monospace;font-weight: bold;display: inline-block;line-height: 1.2em;}#sk-container-id-1 div.sk-label-container {text-align: center;}#sk-container-id-1 div.sk-container {/* jupyter's `normalize.less` sets `[hidden] { display: none; }` but bootstrap.min.css set `[hidden] { display: none !important; }` so we also need the `!important` here to be able to override the default hidden behavior on the sphinx rendered scikit-learn.org. See: https://github.com/scikit-learn/scikit-learn/issues/21755 */display: inline-block !important;position: relative;}#sk-container-id-1 div.sk-text-repr-fallback {display: none;}</style><div id=\"sk-container-id-1\" class=\"sk-top-container\"><div class=\"sk-text-repr-fallback\"><pre>Pipeline(steps=[(&#x27;columntransformer&#x27;,\n",
              "                 ColumnTransformer(transformers=[(&#x27;drop&#x27;, &#x27;drop&#x27;, [&#x27;Id&#x27;]),\n",
              "                                                 (&#x27;pipeline-1&#x27;,\n",
              "                                                  Pipeline(steps=[(&#x27;simpleimputer&#x27;,\n",
              "                                                                   SimpleImputer(strategy=&#x27;median&#x27;)),\n",
              "                                                                  (&#x27;standardscaler&#x27;,\n",
              "                                                                   StandardScaler())]),\n",
              "                                                  [&#x27;BedroomAbvGr&#x27;,\n",
              "                                                   &#x27;KitchenAbvGr&#x27;,\n",
              "                                                   &#x27;LotFrontage&#x27;, &#x27;LotArea&#x27;,\n",
              "                                                   &#x27;OverallQual&#x27;, &#x27;OverallCond&#x27;,\n",
              "                                                   &#x27;YearBuilt&#x27;, &#x27;YearRemodAdd&#x27;,\n",
              "                                                   &#x27;MasVnrArea&#x27;, &#x27;BsmtFinSF1&#x27;,\n",
              "                                                   &#x27;Bs...\n",
              "                                                   &#x27;RoofStyle&#x27;, &#x27;SaleCondition&#x27;,\n",
              "                                                   &#x27;Street&#x27;, &#x27;Exterior2nd&#x27;,\n",
              "                                                   &#x27;LandSlope&#x27;, &#x27;LotConfig&#x27;,\n",
              "                                                   &#x27;MSSubClass&#x27;, &#x27;Alley&#x27;,\n",
              "                                                   &#x27;RoofMatl&#x27;, &#x27;Foundation&#x27;,\n",
              "                                                   &#x27;Utilities&#x27;, &#x27;MSZoning&#x27;,\n",
              "                                                   &#x27;Condition1&#x27;, &#x27;Condition2&#x27;,\n",
              "                                                   &#x27;Exterior1st&#x27;,\n",
              "                                                   &#x27;Neighborhood&#x27;, &#x27;SaleType&#x27;,\n",
              "                                                   &#x27;MiscFeature&#x27;, &#x27;HouseStyle&#x27;,\n",
              "                                                   &#x27;MasVnrType&#x27;, &#x27;GarageFinish&#x27;,\n",
              "                                                   &#x27;PavedDrive&#x27;, &#x27;Electrical&#x27;,\n",
              "                                                   &#x27;GarageType&#x27;, &#x27;LandContour&#x27;,\n",
              "                                                   &#x27;BldgType&#x27;])])),\n",
              "                (&#x27;linearregression&#x27;, LinearRegression())])</pre><b>In a Jupyter environment, please rerun this cell to show the HTML representation or trust the notebook. <br />On GitHub, the HTML representation is unable to render, please try loading this page with nbviewer.org.</b></div><div class=\"sk-container\" hidden><div class=\"sk-item sk-dashed-wrapped\"><div class=\"sk-label-container\"><div class=\"sk-label sk-toggleable\"><input class=\"sk-toggleable__control sk-hidden--visually\" id=\"sk-estimator-id-1\" type=\"checkbox\" ><label for=\"sk-estimator-id-1\" class=\"sk-toggleable__label sk-toggleable__label-arrow\">Pipeline</label><div class=\"sk-toggleable__content\"><pre>Pipeline(steps=[(&#x27;columntransformer&#x27;,\n",
              "                 ColumnTransformer(transformers=[(&#x27;drop&#x27;, &#x27;drop&#x27;, [&#x27;Id&#x27;]),\n",
              "                                                 (&#x27;pipeline-1&#x27;,\n",
              "                                                  Pipeline(steps=[(&#x27;simpleimputer&#x27;,\n",
              "                                                                   SimpleImputer(strategy=&#x27;median&#x27;)),\n",
              "                                                                  (&#x27;standardscaler&#x27;,\n",
              "                                                                   StandardScaler())]),\n",
              "                                                  [&#x27;BedroomAbvGr&#x27;,\n",
              "                                                   &#x27;KitchenAbvGr&#x27;,\n",
              "                                                   &#x27;LotFrontage&#x27;, &#x27;LotArea&#x27;,\n",
              "                                                   &#x27;OverallQual&#x27;, &#x27;OverallCond&#x27;,\n",
              "                                                   &#x27;YearBuilt&#x27;, &#x27;YearRemodAdd&#x27;,\n",
              "                                                   &#x27;MasVnrArea&#x27;, &#x27;BsmtFinSF1&#x27;,\n",
              "                                                   &#x27;Bs...\n",
              "                                                   &#x27;RoofStyle&#x27;, &#x27;SaleCondition&#x27;,\n",
              "                                                   &#x27;Street&#x27;, &#x27;Exterior2nd&#x27;,\n",
              "                                                   &#x27;LandSlope&#x27;, &#x27;LotConfig&#x27;,\n",
              "                                                   &#x27;MSSubClass&#x27;, &#x27;Alley&#x27;,\n",
              "                                                   &#x27;RoofMatl&#x27;, &#x27;Foundation&#x27;,\n",
              "                                                   &#x27;Utilities&#x27;, &#x27;MSZoning&#x27;,\n",
              "                                                   &#x27;Condition1&#x27;, &#x27;Condition2&#x27;,\n",
              "                                                   &#x27;Exterior1st&#x27;,\n",
              "                                                   &#x27;Neighborhood&#x27;, &#x27;SaleType&#x27;,\n",
              "                                                   &#x27;MiscFeature&#x27;, &#x27;HouseStyle&#x27;,\n",
              "                                                   &#x27;MasVnrType&#x27;, &#x27;GarageFinish&#x27;,\n",
              "                                                   &#x27;PavedDrive&#x27;, &#x27;Electrical&#x27;,\n",
              "                                                   &#x27;GarageType&#x27;, &#x27;LandContour&#x27;,\n",
              "                                                   &#x27;BldgType&#x27;])])),\n",
              "                (&#x27;linearregression&#x27;, LinearRegression())])</pre></div></div></div><div class=\"sk-serial\"><div class=\"sk-item sk-dashed-wrapped\"><div class=\"sk-label-container\"><div class=\"sk-label sk-toggleable\"><input class=\"sk-toggleable__control sk-hidden--visually\" id=\"sk-estimator-id-2\" type=\"checkbox\" ><label for=\"sk-estimator-id-2\" class=\"sk-toggleable__label sk-toggleable__label-arrow\">columntransformer: ColumnTransformer</label><div class=\"sk-toggleable__content\"><pre>ColumnTransformer(transformers=[(&#x27;drop&#x27;, &#x27;drop&#x27;, [&#x27;Id&#x27;]),\n",
              "                                (&#x27;pipeline-1&#x27;,\n",
              "                                 Pipeline(steps=[(&#x27;simpleimputer&#x27;,\n",
              "                                                  SimpleImputer(strategy=&#x27;median&#x27;)),\n",
              "                                                 (&#x27;standardscaler&#x27;,\n",
              "                                                  StandardScaler())]),\n",
              "                                 [&#x27;BedroomAbvGr&#x27;, &#x27;KitchenAbvGr&#x27;, &#x27;LotFrontage&#x27;,\n",
              "                                  &#x27;LotArea&#x27;, &#x27;OverallQual&#x27;, &#x27;OverallCond&#x27;,\n",
              "                                  &#x27;YearBuilt&#x27;, &#x27;YearRemodAdd&#x27;, &#x27;MasVnrArea&#x27;,\n",
              "                                  &#x27;BsmtFinSF1&#x27;, &#x27;BsmtFinSF2&#x27;, &#x27;BsmtUnfSF&#x27;,\n",
              "                                  &#x27;TotalBsmtSF&#x27;, &#x27;...\n",
              "                                 [&#x27;Heating&#x27;, &#x27;CentralAir&#x27;, &#x27;MoSold&#x27;, &#x27;LotShape&#x27;,\n",
              "                                  &#x27;RoofStyle&#x27;, &#x27;SaleCondition&#x27;, &#x27;Street&#x27;,\n",
              "                                  &#x27;Exterior2nd&#x27;, &#x27;LandSlope&#x27;, &#x27;LotConfig&#x27;,\n",
              "                                  &#x27;MSSubClass&#x27;, &#x27;Alley&#x27;, &#x27;RoofMatl&#x27;,\n",
              "                                  &#x27;Foundation&#x27;, &#x27;Utilities&#x27;, &#x27;MSZoning&#x27;,\n",
              "                                  &#x27;Condition1&#x27;, &#x27;Condition2&#x27;, &#x27;Exterior1st&#x27;,\n",
              "                                  &#x27;Neighborhood&#x27;, &#x27;SaleType&#x27;, &#x27;MiscFeature&#x27;,\n",
              "                                  &#x27;HouseStyle&#x27;, &#x27;MasVnrType&#x27;, &#x27;GarageFinish&#x27;,\n",
              "                                  &#x27;PavedDrive&#x27;, &#x27;Electrical&#x27;, &#x27;GarageType&#x27;,\n",
              "                                  &#x27;LandContour&#x27;, &#x27;BldgType&#x27;])])</pre></div></div></div><div class=\"sk-parallel\"><div class=\"sk-parallel-item\"><div class=\"sk-item\"><div class=\"sk-label-container\"><div class=\"sk-label sk-toggleable\"><input class=\"sk-toggleable__control sk-hidden--visually\" id=\"sk-estimator-id-3\" type=\"checkbox\" ><label for=\"sk-estimator-id-3\" class=\"sk-toggleable__label sk-toggleable__label-arrow\">drop</label><div class=\"sk-toggleable__content\"><pre>[&#x27;Id&#x27;]</pre></div></div></div><div class=\"sk-serial\"><div class=\"sk-item\"><div class=\"sk-estimator sk-toggleable\"><input class=\"sk-toggleable__control sk-hidden--visually\" id=\"sk-estimator-id-4\" type=\"checkbox\" ><label for=\"sk-estimator-id-4\" class=\"sk-toggleable__label sk-toggleable__label-arrow\">drop</label><div class=\"sk-toggleable__content\"><pre>drop</pre></div></div></div></div></div></div><div class=\"sk-parallel-item\"><div class=\"sk-item\"><div class=\"sk-label-container\"><div class=\"sk-label sk-toggleable\"><input class=\"sk-toggleable__control sk-hidden--visually\" id=\"sk-estimator-id-5\" type=\"checkbox\" ><label for=\"sk-estimator-id-5\" class=\"sk-toggleable__label sk-toggleable__label-arrow\">pipeline-1</label><div class=\"sk-toggleable__content\"><pre>[&#x27;BedroomAbvGr&#x27;, &#x27;KitchenAbvGr&#x27;, &#x27;LotFrontage&#x27;, &#x27;LotArea&#x27;, &#x27;OverallQual&#x27;, &#x27;OverallCond&#x27;, &#x27;YearBuilt&#x27;, &#x27;YearRemodAdd&#x27;, &#x27;MasVnrArea&#x27;, &#x27;BsmtFinSF1&#x27;, &#x27;BsmtFinSF2&#x27;, &#x27;BsmtUnfSF&#x27;, &#x27;TotalBsmtSF&#x27;, &#x27;1stFlrSF&#x27;, &#x27;2ndFlrSF&#x27;, &#x27;LowQualFinSF&#x27;, &#x27;GrLivArea&#x27;, &#x27;BsmtFullBath&#x27;, &#x27;BsmtHalfBath&#x27;, &#x27;FullBath&#x27;, &#x27;HalfBath&#x27;, &#x27;TotRmsAbvGrd&#x27;, &#x27;Fireplaces&#x27;, &#x27;GarageYrBlt&#x27;, &#x27;GarageCars&#x27;, &#x27;GarageArea&#x27;, &#x27;WoodDeckSF&#x27;, &#x27;OpenPorchSF&#x27;, &#x27;EnclosedPorch&#x27;, &#x27;3SsnPorch&#x27;, &#x27;ScreenPorch&#x27;, &#x27;PoolArea&#x27;, &#x27;MiscVal&#x27;, &#x27;YrSold&#x27;]</pre></div></div></div><div class=\"sk-serial\"><div class=\"sk-item\"><div class=\"sk-serial\"><div class=\"sk-item\"><div class=\"sk-estimator sk-toggleable\"><input class=\"sk-toggleable__control sk-hidden--visually\" id=\"sk-estimator-id-6\" type=\"checkbox\" ><label for=\"sk-estimator-id-6\" class=\"sk-toggleable__label sk-toggleable__label-arrow\">SimpleImputer</label><div class=\"sk-toggleable__content\"><pre>SimpleImputer(strategy=&#x27;median&#x27;)</pre></div></div></div><div class=\"sk-item\"><div class=\"sk-estimator sk-toggleable\"><input class=\"sk-toggleable__control sk-hidden--visually\" id=\"sk-estimator-id-7\" type=\"checkbox\" ><label for=\"sk-estimator-id-7\" class=\"sk-toggleable__label sk-toggleable__label-arrow\">StandardScaler</label><div class=\"sk-toggleable__content\"><pre>StandardScaler()</pre></div></div></div></div></div></div></div></div><div class=\"sk-parallel-item\"><div class=\"sk-item\"><div class=\"sk-label-container\"><div class=\"sk-label sk-toggleable\"><input class=\"sk-toggleable__control sk-hidden--visually\" id=\"sk-estimator-id-8\" type=\"checkbox\" ><label for=\"sk-estimator-id-8\" class=\"sk-toggleable__label sk-toggleable__label-arrow\">pipeline-2</label><div class=\"sk-toggleable__content\"><pre>[&#x27;ExterQual&#x27;, &#x27;ExterCond&#x27;, &#x27;BsmtQual&#x27;, &#x27;BsmtCond&#x27;, &#x27;HeatingQC&#x27;, &#x27;KitchenQual&#x27;, &#x27;FireplaceQu&#x27;, &#x27;GarageQual&#x27;, &#x27;GarageCond&#x27;, &#x27;PoolQC&#x27;]</pre></div></div></div><div class=\"sk-serial\"><div class=\"sk-item\"><div class=\"sk-serial\"><div class=\"sk-item\"><div class=\"sk-estimator sk-toggleable\"><input class=\"sk-toggleable__control sk-hidden--visually\" id=\"sk-estimator-id-9\" type=\"checkbox\" ><label for=\"sk-estimator-id-9\" class=\"sk-toggleable__label sk-toggleable__label-arrow\">SimpleImputer</label><div class=\"sk-toggleable__content\"><pre>SimpleImputer(strategy=&#x27;most_frequent&#x27;)</pre></div></div></div><div class=\"sk-item\"><div class=\"sk-estimator sk-toggleable\"><input class=\"sk-toggleable__control sk-hidden--visually\" id=\"sk-estimator-id-10\" type=\"checkbox\" ><label for=\"sk-estimator-id-10\" class=\"sk-toggleable__label sk-toggleable__label-arrow\">OrdinalEncoder</label><div class=\"sk-toggleable__content\"><pre>OrdinalEncoder(categories=[[&#x27;Po&#x27;, &#x27;Fa&#x27;, &#x27;TA&#x27;, &#x27;Gd&#x27;, &#x27;Ex&#x27;],\n",
              "                           [&#x27;Po&#x27;, &#x27;Fa&#x27;, &#x27;TA&#x27;, &#x27;Gd&#x27;, &#x27;Ex&#x27;],\n",
              "                           [&#x27;Po&#x27;, &#x27;Fa&#x27;, &#x27;TA&#x27;, &#x27;Gd&#x27;, &#x27;Ex&#x27;],\n",
              "                           [&#x27;Po&#x27;, &#x27;Fa&#x27;, &#x27;TA&#x27;, &#x27;Gd&#x27;, &#x27;Ex&#x27;],\n",
              "                           [&#x27;Po&#x27;, &#x27;Fa&#x27;, &#x27;TA&#x27;, &#x27;Gd&#x27;, &#x27;Ex&#x27;],\n",
              "                           [&#x27;Po&#x27;, &#x27;Fa&#x27;, &#x27;TA&#x27;, &#x27;Gd&#x27;, &#x27;Ex&#x27;],\n",
              "                           [&#x27;Po&#x27;, &#x27;Fa&#x27;, &#x27;TA&#x27;, &#x27;Gd&#x27;, &#x27;Ex&#x27;],\n",
              "                           [&#x27;Po&#x27;, &#x27;Fa&#x27;, &#x27;TA&#x27;, &#x27;Gd&#x27;, &#x27;Ex&#x27;],\n",
              "                           [&#x27;Po&#x27;, &#x27;Fa&#x27;, &#x27;TA&#x27;, &#x27;Gd&#x27;, &#x27;Ex&#x27;],\n",
              "                           [&#x27;Po&#x27;, &#x27;Fa&#x27;, &#x27;TA&#x27;, &#x27;Gd&#x27;, &#x27;Ex&#x27;]])</pre></div></div></div></div></div></div></div></div><div class=\"sk-parallel-item\"><div class=\"sk-item\"><div class=\"sk-label-container\"><div class=\"sk-label sk-toggleable\"><input class=\"sk-toggleable__control sk-hidden--visually\" id=\"sk-estimator-id-11\" type=\"checkbox\" ><label for=\"sk-estimator-id-11\" class=\"sk-toggleable__label sk-toggleable__label-arrow\">pipeline-3</label><div class=\"sk-toggleable__content\"><pre>[&#x27;BsmtExposure&#x27;, &#x27;BsmtFinType1&#x27;, &#x27;BsmtFinType2&#x27;, &#x27;Functional&#x27;, &#x27;Fence&#x27;]</pre></div></div></div><div class=\"sk-serial\"><div class=\"sk-item\"><div class=\"sk-serial\"><div class=\"sk-item\"><div class=\"sk-estimator sk-toggleable\"><input class=\"sk-toggleable__control sk-hidden--visually\" id=\"sk-estimator-id-12\" type=\"checkbox\" ><label for=\"sk-estimator-id-12\" class=\"sk-toggleable__label sk-toggleable__label-arrow\">SimpleImputer</label><div class=\"sk-toggleable__content\"><pre>SimpleImputer(strategy=&#x27;most_frequent&#x27;)</pre></div></div></div><div class=\"sk-item\"><div class=\"sk-estimator sk-toggleable\"><input class=\"sk-toggleable__control sk-hidden--visually\" id=\"sk-estimator-id-13\" type=\"checkbox\" ><label for=\"sk-estimator-id-13\" class=\"sk-toggleable__label sk-toggleable__label-arrow\">OrdinalEncoder</label><div class=\"sk-toggleable__content\"><pre>OrdinalEncoder(categories=[[&#x27;NA&#x27;, &#x27;No&#x27;, &#x27;Mn&#x27;, &#x27;Av&#x27;, &#x27;Gd&#x27;],\n",
              "                           [&#x27;NA&#x27;, &#x27;Unf&#x27;, &#x27;LwQ&#x27;, &#x27;Rec&#x27;, &#x27;BLQ&#x27;, &#x27;ALQ&#x27;, &#x27;GLQ&#x27;],\n",
              "                           [&#x27;NA&#x27;, &#x27;Unf&#x27;, &#x27;LwQ&#x27;, &#x27;Rec&#x27;, &#x27;BLQ&#x27;, &#x27;ALQ&#x27;, &#x27;GLQ&#x27;],\n",
              "                           [&#x27;Sal&#x27;, &#x27;Sev&#x27;, &#x27;Maj2&#x27;, &#x27;Maj1&#x27;, &#x27;Mod&#x27;, &#x27;Min2&#x27;, &#x27;Min1&#x27;,\n",
              "                            &#x27;Typ&#x27;],\n",
              "                           [&#x27;NA&#x27;, &#x27;MnWw&#x27;, &#x27;GdWo&#x27;, &#x27;MnPrv&#x27;, &#x27;GdPrv&#x27;]])</pre></div></div></div></div></div></div></div></div><div class=\"sk-parallel-item\"><div class=\"sk-item\"><div class=\"sk-label-container\"><div class=\"sk-label sk-toggleable\"><input class=\"sk-toggleable__control sk-hidden--visually\" id=\"sk-estimator-id-14\" type=\"checkbox\" ><label for=\"sk-estimator-id-14\" class=\"sk-toggleable__label sk-toggleable__label-arrow\">pipeline-4</label><div class=\"sk-toggleable__content\"><pre>[&#x27;Heating&#x27;, &#x27;CentralAir&#x27;, &#x27;MoSold&#x27;, &#x27;LotShape&#x27;, &#x27;RoofStyle&#x27;, &#x27;SaleCondition&#x27;, &#x27;Street&#x27;, &#x27;Exterior2nd&#x27;, &#x27;LandSlope&#x27;, &#x27;LotConfig&#x27;, &#x27;MSSubClass&#x27;, &#x27;Alley&#x27;, &#x27;RoofMatl&#x27;, &#x27;Foundation&#x27;, &#x27;Utilities&#x27;, &#x27;MSZoning&#x27;, &#x27;Condition1&#x27;, &#x27;Condition2&#x27;, &#x27;Exterior1st&#x27;, &#x27;Neighborhood&#x27;, &#x27;SaleType&#x27;, &#x27;MiscFeature&#x27;, &#x27;HouseStyle&#x27;, &#x27;MasVnrType&#x27;, &#x27;GarageFinish&#x27;, &#x27;PavedDrive&#x27;, &#x27;Electrical&#x27;, &#x27;GarageType&#x27;, &#x27;LandContour&#x27;, &#x27;BldgType&#x27;]</pre></div></div></div><div class=\"sk-serial\"><div class=\"sk-item\"><div class=\"sk-serial\"><div class=\"sk-item\"><div class=\"sk-estimator sk-toggleable\"><input class=\"sk-toggleable__control sk-hidden--visually\" id=\"sk-estimator-id-15\" type=\"checkbox\" ><label for=\"sk-estimator-id-15\" class=\"sk-toggleable__label sk-toggleable__label-arrow\">SimpleImputer</label><div class=\"sk-toggleable__content\"><pre>SimpleImputer(fill_value=&#x27;missing&#x27;, strategy=&#x27;constant&#x27;)</pre></div></div></div><div class=\"sk-item\"><div class=\"sk-estimator sk-toggleable\"><input class=\"sk-toggleable__control sk-hidden--visually\" id=\"sk-estimator-id-16\" type=\"checkbox\" ><label for=\"sk-estimator-id-16\" class=\"sk-toggleable__label sk-toggleable__label-arrow\">OneHotEncoder</label><div class=\"sk-toggleable__content\"><pre>OneHotEncoder(handle_unknown=&#x27;ignore&#x27;, sparse=False)</pre></div></div></div></div></div></div></div></div></div></div><div class=\"sk-item\"><div class=\"sk-estimator sk-toggleable\"><input class=\"sk-toggleable__control sk-hidden--visually\" id=\"sk-estimator-id-17\" type=\"checkbox\" ><label for=\"sk-estimator-id-17\" class=\"sk-toggleable__label sk-toggleable__label-arrow\">LinearRegression</label><div class=\"sk-toggleable__content\"><pre>LinearRegression()</pre></div></div></div></div></div></div></div>"
            ],
            "text/plain": [
              "Pipeline(steps=[('columntransformer',\n",
              "                 ColumnTransformer(transformers=[('drop', 'drop', ['Id']),\n",
              "                                                 ('pipeline-1',\n",
              "                                                  Pipeline(steps=[('simpleimputer',\n",
              "                                                                   SimpleImputer(strategy='median')),\n",
              "                                                                  ('standardscaler',\n",
              "                                                                   StandardScaler())]),\n",
              "                                                  ['BedroomAbvGr',\n",
              "                                                   'KitchenAbvGr',\n",
              "                                                   'LotFrontage', 'LotArea',\n",
              "                                                   'OverallQual', 'OverallCond',\n",
              "                                                   'YearBuilt', 'YearRemodAdd',\n",
              "                                                   'MasVnrArea', 'BsmtFinSF1',\n",
              "                                                   'Bs...\n",
              "                                                   'RoofStyle', 'SaleCondition',\n",
              "                                                   'Street', 'Exterior2nd',\n",
              "                                                   'LandSlope', 'LotConfig',\n",
              "                                                   'MSSubClass', 'Alley',\n",
              "                                                   'RoofMatl', 'Foundation',\n",
              "                                                   'Utilities', 'MSZoning',\n",
              "                                                   'Condition1', 'Condition2',\n",
              "                                                   'Exterior1st',\n",
              "                                                   'Neighborhood', 'SaleType',\n",
              "                                                   'MiscFeature', 'HouseStyle',\n",
              "                                                   'MasVnrType', 'GarageFinish',\n",
              "                                                   'PavedDrive', 'Electrical',\n",
              "                                                   'GarageType', 'LandContour',\n",
              "                                                   'BldgType'])])),\n",
              "                ('linearregression', LinearRegression())])"
            ]
          },
          "execution_count": 59,
          "metadata": {},
          "output_type": "execute_result"
        }
      ],
      "source": [
        "lr_pipe.fit(X_train, y_train)"
      ],
      "id": "ae42f455"
    },
    {
      "cell_type": "code",
      "execution_count": null,
      "metadata": {
        "id": "6c5dab0d",
        "outputId": "6594f11b-cf13-4c55-a57e-97df17439d21"
      },
      "outputs": [
        {
          "data": {
            "text/plain": [
              "array([208052., 166204., 194596., ..., 265618., 120056., 132812.])"
            ]
          },
          "execution_count": 60,
          "metadata": {},
          "output_type": "execute_result"
        }
      ],
      "source": [
        "lr_preds=lr_pipe.predict(X_train)\n",
        "lr_preds"
      ],
      "id": "6c5dab0d"
    },
    {
      "cell_type": "code",
      "execution_count": null,
      "metadata": {
        "id": "639e7ba4",
        "outputId": "98e71ce4-0eb1-4ebe-9546-8a172e89f345"
      },
      "outputs": [
        {
          "data": {
            "text/plain": [
              "302     False\n",
              "767     False\n",
              "429     False\n",
              "1139    False\n",
              "558     False\n",
              "        ...  \n",
              "1041    False\n",
              "1122    False\n",
              "1346    False\n",
              "1406    False\n",
              "1389    False\n",
              "Name: SalePrice, Length: 1314, dtype: bool"
            ]
          },
          "execution_count": 61,
          "metadata": {},
          "output_type": "execute_result"
        }
      ],
      "source": [
        "lr_pipe.predict(X_train) == y_train"
      ],
      "id": "639e7ba4"
    },
    {
      "cell_type": "code",
      "execution_count": null,
      "metadata": {
        "id": "e672683c",
        "outputId": "81beaedf-a369-4df4-c928-71654f6619d4"
      },
      "outputs": [
        {
          "data": {
            "text/plain": [
              "array([205000, 160000, 175000, ..., 262500, 133000, 131000], dtype=int64)"
            ]
          },
          "execution_count": 62,
          "metadata": {},
          "output_type": "execute_result"
        }
      ],
      "source": [
        "y_train.values"
      ],
      "id": "e672683c"
    },
    {
      "cell_type": "code",
      "execution_count": null,
      "metadata": {
        "id": "02decdc4"
      },
      "outputs": [],
      "source": [],
      "id": "02decdc4"
    },
    {
      "cell_type": "markdown",
      "metadata": {
        "id": "7f4cded6"
      },
      "source": [
        "We need a score that reflects how right/wrong each prediction is."
      ],
      "id": "7f4cded6"
    },
    {
      "cell_type": "markdown",
      "source": [
        "### Regression model Evaluation metrics"
      ],
      "metadata": {
        "id": "KucJuosQijyJ"
      },
      "id": "KucJuosQijyJ"
    },
    {
      "cell_type": "markdown",
      "metadata": {
        "id": "3a2b8bb1"
      },
      "source": [
        "Here you have a number of popular scoring functions for regression. We are going to look at some common metrics:\n",
        "\n",
        "- mean squared error (MSE)\n",
        "- root mean squared error (RMSE)\n",
        "- MAPE\n",
        "- $R^2$\n",
        "\n",
        "See [sklearn documentation](https://scikit-learn.org/stable/modules/model_evaluation.html#regression-metrics) for more details."
      ],
      "id": "3a2b8bb1"
    },
    {
      "cell_type": "code",
      "execution_count": null,
      "metadata": {
        "id": "92dd927e"
      },
      "outputs": [],
      "source": [],
      "id": "92dd927e"
    },
    {
      "cell_type": "markdown",
      "metadata": {
        "id": "1587ebe7"
      },
      "source": [
        "### Mean squared error (MSE)\n",
        "\n",
        "- A common metric is mean squared error:"
      ],
      "id": "1587ebe7"
    },
    {
      "cell_type": "code",
      "execution_count": null,
      "metadata": {
        "id": "65f02d5b"
      },
      "outputs": [],
      "source": [
        "preds = lr_pipe.predict(X_train)"
      ],
      "id": "65f02d5b"
    },
    {
      "cell_type": "code",
      "execution_count": null,
      "metadata": {
        "id": "d9cb8adb",
        "outputId": "af83cac8-91d4-4b36-f4fd-531a9ca5bf79"
      },
      "outputs": [
        {
          "data": {
            "text/plain": [
              "485633899.21156776"
            ]
          },
          "execution_count": 64,
          "metadata": {},
          "output_type": "execute_result"
        }
      ],
      "source": [
        "np.mean((y_train - preds) ** 2)"
      ],
      "id": "d9cb8adb"
    },
    {
      "cell_type": "code",
      "execution_count": null,
      "metadata": {
        "id": "28956234"
      },
      "outputs": [],
      "source": [],
      "id": "28956234"
    },
    {
      "cell_type": "markdown",
      "metadata": {
        "id": "a5ba5b06"
      },
      "source": [
        "This is also implemented in sklearn:"
      ],
      "id": "a5ba5b06"
    },
    {
      "cell_type": "code",
      "execution_count": null,
      "metadata": {
        "id": "121b8365",
        "outputId": "b4e73cd1-934b-46f2-9f2e-18d3d3b23ed1"
      },
      "outputs": [
        {
          "data": {
            "text/plain": [
              "485633899.21156776"
            ]
          },
          "execution_count": 66,
          "metadata": {},
          "output_type": "execute_result"
        }
      ],
      "source": [
        "from sklearn.metrics import mean_squared_error\n",
        "\n",
        "mean_squared_error(y_train, preds)"
      ],
      "id": "121b8365"
    },
    {
      "cell_type": "code",
      "execution_count": null,
      "metadata": {
        "id": "14928a42"
      },
      "outputs": [],
      "source": [],
      "id": "14928a42"
    },
    {
      "cell_type": "markdown",
      "metadata": {
        "id": "12eac24a"
      },
      "source": [
        "- MSE looks huge and unreasonable.\n",
        "- Is this score good or bad?"
      ],
      "id": "12eac24a"
    },
    {
      "cell_type": "markdown",
      "metadata": {
        "id": "ff7e379f"
      },
      "source": [
        "- Unlike classification, with regression **our target has units**.\n",
        "- The target is in dollars, the mean squared error is in $dollars^2$\n",
        "- The score also depends on the scale of the targets.\n",
        "- If we were working in cents instead of dollars, our MSE would be $10,000 \\times (100^2$) higher!"
      ],
      "id": "ff7e379f"
    },
    {
      "cell_type": "code",
      "execution_count": null,
      "metadata": {
        "id": "c2fd827f"
      },
      "outputs": [],
      "source": [],
      "id": "c2fd827f"
    },
    {
      "cell_type": "code",
      "execution_count": null,
      "metadata": {
        "id": "9e11e925",
        "outputId": "ae7b99ac-0670-4d10-cfc3-a8dbf4efdca7"
      },
      "outputs": [
        {
          "data": {
            "text/plain": [
              "4856338992115.678"
            ]
          },
          "execution_count": 67,
          "metadata": {},
          "output_type": "execute_result"
        }
      ],
      "source": [
        "np.mean((y_train * 100 - preds * 100) ** 2)"
      ],
      "id": "9e11e925"
    },
    {
      "cell_type": "code",
      "execution_count": null,
      "metadata": {
        "id": "764b581f"
      },
      "outputs": [],
      "source": [],
      "id": "764b581f"
    },
    {
      "cell_type": "markdown",
      "metadata": {
        "id": "2e065ce5"
      },
      "source": [
        "### Root mean squared error or RMSE\n",
        "\n",
        "- The MSE above is in $dollars^2$.\n",
        "- A more relatable metric would be the root mean squared error, or RMSE"
      ],
      "id": "2e065ce5"
    },
    {
      "cell_type": "code",
      "execution_count": null,
      "metadata": {
        "id": "f18b8532"
      },
      "outputs": [],
      "source": [],
      "id": "f18b8532"
    },
    {
      "cell_type": "code",
      "execution_count": null,
      "metadata": {
        "id": "efa59892",
        "outputId": "01b371b9-b1d1-4055-c4df-25b4bf427e5e"
      },
      "outputs": [
        {
          "data": {
            "text/plain": [
              "22037.102786245923"
            ]
          },
          "execution_count": 69,
          "metadata": {},
          "output_type": "execute_result"
        }
      ],
      "source": [
        "np.sqrt(mean_squared_error(y_train, lr_pipe.predict(X_train)))"
      ],
      "id": "efa59892"
    },
    {
      "cell_type": "code",
      "execution_count": null,
      "metadata": {
        "id": "fb0ecedc"
      },
      "outputs": [],
      "source": [],
      "id": "fb0ecedc"
    },
    {
      "cell_type": "markdown",
      "metadata": {
        "id": "3e3db024"
      },
      "source": [
        "- Error of \\$22,000 makes more sense.\n",
        "- Can we dig deeper?"
      ],
      "id": "3e3db024"
    },
    {
      "cell_type": "code",
      "execution_count": null,
      "metadata": {
        "id": "46ff205e"
      },
      "outputs": [],
      "source": [],
      "id": "46ff205e"
    },
    {
      "cell_type": "markdown",
      "metadata": {
        "id": "049cc46d"
      },
      "source": [
        "- Here we can see a few cases where our prediction is way off.\n",
        "- Is there something weird about those houses, perhaps? Outliers?\n",
        "- Under the line means we're under-prediction, over the line means we're over-predicting."
      ],
      "id": "049cc46d"
    },
    {
      "cell_type": "code",
      "execution_count": null,
      "metadata": {
        "id": "211b3185"
      },
      "outputs": [],
      "source": [],
      "id": "211b3185"
    },
    {
      "cell_type": "markdown",
      "metadata": {
        "id": "3a8d17ad"
      },
      "source": [
        "### MAPE (Mean absolute percentage error)\n",
        "\n",
        "- We got an RMSE of ~$22,000 before.\n",
        "\n",
        "Question: Is an error of \\$22,000 acceptable?"
      ],
      "id": "3a8d17ad"
    },
    {
      "cell_type": "code",
      "execution_count": null,
      "metadata": {
        "id": "665d6304"
      },
      "outputs": [],
      "source": [],
      "id": "665d6304"
    },
    {
      "cell_type": "code",
      "execution_count": null,
      "metadata": {
        "id": "f65a304d",
        "outputId": "5ef3f42c-4678-4c6b-86f0-812e185a9291"
      },
      "outputs": [
        {
          "data": {
            "text/plain": [
              "22037.102786245923"
            ]
          },
          "execution_count": 78,
          "metadata": {},
          "output_type": "execute_result"
        }
      ],
      "source": [
        "np.sqrt(mean_squared_error(y_train, lr_pipe.predict(X_train)))"
      ],
      "id": "f65a304d"
    },
    {
      "cell_type": "code",
      "execution_count": null,
      "metadata": {
        "id": "e2ee7678"
      },
      "outputs": [],
      "source": [],
      "id": "e2ee7678"
    },
    {
      "cell_type": "markdown",
      "metadata": {
        "id": "159582b5"
      },
      "source": [
        "- For a house worth \\$600k, it seems reasonable! That's 3.5% error.\n",
        "- For a house worth \\$60k, that is terrible. It's 35% error.\n",
        "\n",
        "We have both of these cases in our dataset."
      ],
      "id": "159582b5"
    },
    {
      "cell_type": "code",
      "execution_count": null,
      "metadata": {
        "id": "0776f64c"
      },
      "outputs": [],
      "source": [
        "from sklearn.metrics import mean_absolute_percentage_error"
      ],
      "id": "0776f64c"
    },
    {
      "cell_type": "code",
      "execution_count": null,
      "metadata": {
        "id": "01c5f09e",
        "outputId": "d308c207-aa65-4979-b640-1c007b86ec61"
      },
      "outputs": [
        {
          "data": {
            "text/plain": [
              "0.0885614397286022"
            ]
          },
          "execution_count": 86,
          "metadata": {},
          "output_type": "execute_result"
        }
      ],
      "source": [
        "mean_absolute_percentage_error(y_train, pred_train)"
      ],
      "id": "01c5f09e"
    },
    {
      "cell_type": "markdown",
      "metadata": {
        "id": "7a2b7181"
      },
      "source": [
        "### $R^2$ (not in detail)\n",
        "\n",
        "A common score is the $R^2$, AKA Coefficient of determination\n",
        "\n",
        "- This is the score that `sklearn` uses by default when you call score():\n",
        "- You can [read about it](https://en.wikipedia.org/wiki/Coefficient_of_determination) if interested.\n",
        "- Intuition: similar to mean squared error, but flipped (higher is better), and normalized so the max is 1.\n",
        "- Is a statistical measure that represents the goodness of fit of a regression model.\n",
        "- 1 when the model perfectly fits the data and there is no difference between the predicted value and actual value."
      ],
      "id": "7a2b7181"
    },
    {
      "cell_type": "code",
      "execution_count": null,
      "metadata": {
        "id": "139fd6a5"
      },
      "outputs": [],
      "source": [],
      "id": "139fd6a5"
    },
    {
      "cell_type": "markdown",
      "metadata": {
        "id": "b80513c3"
      },
      "source": [
        "$$R^2(y, \\hat{y}) = 1 - \\frac{\\sum_{i=1}^n (y_i - \\hat{y_i})^2}{\\sum_{i=1}^n (y_i - \\bar{y})^2}$$"
      ],
      "id": "b80513c3"
    },
    {
      "cell_type": "code",
      "execution_count": null,
      "metadata": {
        "id": "26b5b8c8"
      },
      "outputs": [],
      "source": [],
      "id": "26b5b8c8"
    },
    {
      "cell_type": "markdown",
      "metadata": {
        "id": "26d5528f"
      },
      "source": [
        "Key points:\n",
        "- The maximum is 1 for perfect predictions\n",
        "- Negative values are very bad: \"worse than DummyRegressor\" (very bad)\n"
      ],
      "id": "26d5528f"
    },
    {
      "cell_type": "code",
      "execution_count": null,
      "metadata": {
        "id": "78e4121b"
      },
      "outputs": [],
      "source": [],
      "id": "78e4121b"
    },
    {
      "cell_type": "markdown",
      "metadata": {
        "id": "4d98502d"
      },
      "source": [
        "(optional) Warning: MSE is \"reversible\" but $R^2$ is not:"
      ],
      "id": "4d98502d"
    },
    {
      "cell_type": "code",
      "execution_count": null,
      "metadata": {
        "id": "4d13a213",
        "outputId": "28f9a3a1-8cbc-40d5-b134-c6bdcb79412c"
      },
      "outputs": [
        {
          "data": {
            "text/plain": [
              "485633899.21156776"
            ]
          },
          "execution_count": 73,
          "metadata": {},
          "output_type": "execute_result"
        }
      ],
      "source": [
        "mean_squared_error(preds, y_train)"
      ],
      "id": "4d13a213"
    },
    {
      "cell_type": "code",
      "execution_count": null,
      "metadata": {
        "id": "205d9d66",
        "outputId": "0f582cff-c8d4-4dfa-f9d9-d9235650d29c"
      },
      "outputs": [
        {
          "data": {
            "text/plain": [
              "0.9222085407989993"
            ]
          },
          "execution_count": 77,
          "metadata": {},
          "output_type": "execute_result"
        }
      ],
      "source": [
        "r2_score(y_train, preds)"
      ],
      "id": "205d9d66"
    },
    {
      "cell_type": "code",
      "execution_count": null,
      "metadata": {
        "id": "b8da47a9",
        "outputId": "ef468b02-2be9-42d8-8f94-b6d1c2b2da67"
      },
      "outputs": [
        {
          "data": {
            "text/plain": [
              "0.9156801484036222"
            ]
          },
          "execution_count": 76,
          "metadata": {},
          "output_type": "execute_result"
        }
      ],
      "source": [
        "r2_score(preds, y_train)"
      ],
      "id": "b8da47a9"
    },
    {
      "cell_type": "markdown",
      "metadata": {
        "id": "4a739fa1"
      },
      "source": [
        "- When you call `fit` it minimizes MSE / maximizes $R^2$ (or something like that) by default.\n",
        "- Just like in classification, this isn't always what you want!!"
      ],
      "id": "4a739fa1"
    },
    {
      "cell_type": "code",
      "execution_count": null,
      "metadata": {
        "id": "0b39d946"
      },
      "outputs": [],
      "source": [],
      "id": "0b39d946"
    },
    {
      "cell_type": "markdown",
      "metadata": {
        "id": "badef758"
      },
      "source": [
        "##  Segmentation IoU (Intersection over Union)\n"
      ],
      "id": "badef758"
    },
    {
      "cell_type": "code",
      "execution_count": null,
      "metadata": {
        "id": "5d3076e6",
        "outputId": "dcfa840a-a67b-4d2d-839d-6ccfde3cc45a"
      },
      "outputs": [
        {
          "data": {
            "text/plain": [
              "<matplotlib.image.AxesImage at 0x1c666486310>"
            ]
          },
          "execution_count": 122,
          "metadata": {},
          "output_type": "execute_result"
        },
        {
          "data": {
            "image/png": "[encoded data removed]",
            "text/plain": [
              "<Figure size 640x480 with 1 Axes>"
            ]
          },
          "metadata": {},
          "output_type": "display_data"
        }
      ],
      "source": [
        "zeros_array = np.zeros((128, 128, 1), dtype=np.int8)\n",
        "plt.imshow(zeros_array, 'gray')"
      ],
      "id": "5d3076e6"
    },
    {
      "cell_type": "code",
      "execution_count": null,
      "metadata": {
        "id": "fe75d20d"
      },
      "outputs": [],
      "source": [
        "pred=np.load('data/prediction_sample.npy')\n",
        "label=np.load('data/test_sample.npy')\n",
        "img=np.load('data/testInput_sample.npy')"
      ],
      "id": "fe75d20d"
    },
    {
      "cell_type": "code",
      "execution_count": null,
      "metadata": {
        "id": "deac85e1",
        "outputId": "d7661ec1-eeb8-48b0-8835-f2ad3071c1c1"
      },
      "outputs": [
        {
          "data": {
            "text/plain": [
              "(128, 128, 1)"
            ]
          },
          "execution_count": 125,
          "metadata": {},
          "output_type": "execute_result"
        }
      ],
      "source": [
        "zeros_array.shape"
      ],
      "id": "deac85e1"
    },
    {
      "cell_type": "code",
      "execution_count": null,
      "metadata": {
        "id": "31d92c05",
        "outputId": "27bb3801-701e-43a9-dd5b-07c95dedd5e7"
      },
      "outputs": [
        {
          "data": {
            "text/plain": [
              "array([0], dtype=int8)"
            ]
          },
          "execution_count": 126,
          "metadata": {},
          "output_type": "execute_result"
        }
      ],
      "source": [
        "np.unique(zeros_array)"
      ],
      "id": "31d92c05"
    },
    {
      "cell_type": "code",
      "execution_count": null,
      "metadata": {
        "id": "e10cc830",
        "outputId": "d66d9734-3cac-46da-a68c-2dfe42e2da72"
      },
      "outputs": [
        {
          "data": {
            "text/plain": [
              "<matplotlib.image.AxesImage at 0x1c665ce65e0>"
            ]
          },
          "execution_count": 118,
          "metadata": {},
          "output_type": "execute_result"
        },
        {
          "data": {
            "image/png": "[encoded data removed]",
            "text/plain": [
              "<Figure size 640x480 with 3 Axes>"
            ]
          },
          "metadata": {},
          "output_type": "display_data"
        }
      ],
      "source": [
        "plt.subplot(1, 3, 1)\n",
        "plt.imshow(pred)\n",
        "plt.subplot(1, 3, 2)\n",
        "plt.imshow(label)\n",
        "plt.subplot(1, 3, 3)\n",
        "plt.imshow(img)"
      ],
      "id": "e10cc830"
    },
    {
      "cell_type": "code",
      "execution_count": null,
      "metadata": {
        "id": "33843522"
      },
      "outputs": [],
      "source": [
        "def iou(predictions, masks):\n",
        "    intersection = np.logical_and(predictions, masks)\n",
        "    union = np.logical_or(predictions, masks)\n",
        "    iou = np.sum(intersection) / np.sum(union)\n",
        "    return iou\n"
      ],
      "id": "33843522"
    },
    {
      "cell_type": "markdown",
      "metadata": {
        "id": "ebe4c9f1"
      },
      "source": [
        "## Data fitting types: Underfitting, overfitting, the fundamental trade-off"
      ],
      "id": "ebe4c9f1"
    },
    {
      "cell_type": "markdown",
      "metadata": {
        "id": "52585891"
      },
      "source": [
        "### Types of errors\n",
        "\n",
        "Imagine that your train and validation errors do not align with each other. How do you diagnose the problem?  \n",
        "\n",
        "We're going to think about 4 types of errors:\n",
        "\n",
        "- $E_\\textrm{train}$ is your training error (or mean train error from cross-validation).\n",
        "- $E_\\textrm{valid}$ is your validation error (or mean validation error from cross-validation).\n",
        "- $E_\\textrm{test}$ is your test error.\n",
        "- $E_\\textrm{best}$ is the best possible error you could get for a given problem."
      ],
      "id": "52585891"
    },
    {
      "cell_type": "markdown",
      "metadata": {
        "id": "396dedd8"
      },
      "source": [
        "### Underfitting"
      ],
      "id": "396dedd8"
    },
    {
      "cell_type": "code",
      "execution_count": null,
      "metadata": {
        "id": "b5a26ff7"
      },
      "outputs": [],
      "source": [
        "df = pd.read_csv(\"data/canada_usa_cities.csv\")\n",
        "X = df.drop(columns=[\"country\"])\n",
        "y = df[\"country\"]"
      ],
      "id": "b5a26ff7"
    },
    {
      "cell_type": "code",
      "execution_count": null,
      "metadata": {
        "id": "43bc6bfb"
      },
      "outputs": [],
      "source": [
        "X_train, X_test, y_train, y_test = train_test_split(X, y, random_state=42)\n"
      ],
      "id": "43bc6bfb"
    },
    {
      "cell_type": "code",
      "execution_count": null,
      "metadata": {
        "id": "1bb3c098",
        "outputId": "180f8bac-b0b2-4c77-f736-89e01fade705"
      },
      "outputs": [
        {
          "name": "stdout",
          "output_type": "stream",
          "text": [
            "Train error:   0.188\n",
            "Validation error:   0.212\n"
          ]
        }
      ],
      "source": [
        "model = DecisionTreeClassifier(max_depth=1)  # decision stump\n",
        "scores = cross_validate(model, X_train, y_train, cv=10, return_train_score=True)\n",
        "print(\"Train error:   %0.3f\" % (1 - np.mean(scores[\"train_score\"])))\n",
        "print(\"Validation error:   %0.3f\" % (1 - np.mean(scores[\"test_score\"])))"
      ],
      "id": "1bb3c098"
    },
    {
      "cell_type": "markdown",
      "metadata": {
        "id": "3fce6f7c"
      },
      "source": [
        "- If your model is too simple, like `DummyClassifier` or `DecisionTreeClassifier` with `max_depth=1`, it's not going to pick up on some random quirks in the data but it won't even capture useful patterns in the training data.\n",
        "- The model won't be very good in general. Both train and validation errors would be high. This is **underfitting**.\n",
        "- The gap between train and validation error is going to be lower.\n",
        "- $E_\\textrm{best} \\lt E_\\textrm{train} \\lesssim E_\\textrm{valid}$"
      ],
      "id": "3fce6f7c"
    },
    {
      "cell_type": "code",
      "execution_count": null,
      "metadata": {
        "id": "845d38b4"
      },
      "outputs": [],
      "source": [],
      "id": "845d38b4"
    },
    {
      "cell_type": "markdown",
      "metadata": {
        "id": "999d941b"
      },
      "source": [
        "### Overfitting"
      ],
      "id": "999d941b"
    },
    {
      "cell_type": "code",
      "execution_count": null,
      "metadata": {
        "id": "b1a7779d",
        "outputId": "9100a29f-d371-474d-cc88-5ce75befd1ef"
      },
      "outputs": [
        {
          "name": "stdout",
          "output_type": "stream",
          "text": [
            "Train error:   0.000\n",
            "Validation error:   0.213\n"
          ]
        }
      ],
      "source": [
        "model = DecisionTreeClassifier(max_depth=None)\n",
        "scores = cross_validate(model, X_train, y_train, cv=10, return_train_score=True)\n",
        "print(\"Train error:   %0.3f\" % (1 - np.mean(scores[\"train_score\"])))\n",
        "print(\"Validation error:   %0.3f\" % (1 - np.mean(scores[\"test_score\"])))"
      ],
      "id": "b1a7779d"
    },
    {
      "cell_type": "code",
      "execution_count": null,
      "metadata": {
        "id": "a05e6188"
      },
      "outputs": [],
      "source": [],
      "id": "a05e6188"
    },
    {
      "cell_type": "markdown",
      "metadata": {
        "id": "392ad95e"
      },
      "source": [
        "- If your model is very complex, like a `DecisionTreeClassifier(max_depth=None)`, then you will learn unreliable patterns in order to get every single training example correct.\n",
        "- The training error is going to be very low but there will be a big gap between the training error and the validation error. This is **overfitting**.\n",
        "- In overfitting scenario, usually we'll see:\n",
        "$E_\\textrm{train} \\lt E_\\textrm{best}  \\lt E_\\textrm{valid}$\n",
        "- In general, if $E_\\textrm{train}$ is low, we are likely to be in the overfitting scenario. It is fairly common to have at least a bit of this."
      ],
      "id": "392ad95e"
    },
    {
      "cell_type": "code",
      "execution_count": null,
      "metadata": {
        "id": "8a03dc4e"
      },
      "outputs": [],
      "source": [],
      "id": "8a03dc4e"
    },
    {
      "cell_type": "markdown",
      "metadata": {
        "id": "f9a84239"
      },
      "source": [
        "- So the validation error does not necessarily decrease with the training error."
      ],
      "id": "f9a84239"
    },
    {
      "cell_type": "code",
      "execution_count": null,
      "metadata": {
        "id": "8d95259a"
      },
      "outputs": [],
      "source": [
        "X_train, X_test, y_train, y_test = train_test_split(X, y, random_state=1)\n",
        "results_dict = {\n",
        "    \"depth\": [],\n",
        "    \"mean_train_error\": [],\n",
        "    \"mean_cv_error\": [],\n",
        "    \"std_cv_error\": [],\n",
        "    \"std_train_error\": [],\n",
        "}\n",
        "param_grid = {\"max_depth\": np.arange(1, 16)}\n",
        "\n",
        "for depth in param_grid[\"max_depth\"]:\n",
        "    model = DecisionTreeClassifier(max_depth=depth)\n",
        "    scores = cross_validate(model, X_train, y_train, cv=10, return_train_score=True)\n",
        "    results_dict[\"depth\"].append(depth)\n",
        "    results_dict[\"mean_cv_error\"].append(1 - np.mean(scores[\"test_score\"]))\n",
        "    results_dict[\"mean_train_error\"].append(1 - np.mean(scores[\"train_score\"]))\n",
        "    results_dict[\"std_cv_error\"].append(scores[\"test_score\"].std())\n",
        "    results_dict[\"std_train_error\"].append(scores[\"train_score\"].std())\n",
        "\n",
        "results_df = pd.DataFrame(results_dict)\n",
        "results_df = results_df.set_index(\"depth\")"
      ],
      "id": "8d95259a"
    },
    {
      "cell_type": "code",
      "execution_count": null,
      "metadata": {
        "id": "74b947b5",
        "outputId": "6e5d1719-3650-452f-ab43-164a4c3bce55"
      },
      "outputs": [
        {
          "data": {
            "image/png": "[encoded data removed]",
            "text/plain": [
              "<Figure size 640x480 with 1 Axes>"
            ]
          },
          "metadata": {},
          "output_type": "display_data"
        }
      ],
      "source": [
        "results_df[[\"mean_train_error\", \"mean_cv_error\"]].plot();"
      ],
      "id": "74b947b5"
    },
    {
      "cell_type": "markdown",
      "metadata": {
        "id": "f3c2f745"
      },
      "source": [
        "- Here, for larger depths we observe that the training error is close to 0 but validation error goes up and down.\n",
        "- As we make more complex models we start encoding random quirks in the data, which are not grounded in reality.  \n",
        "- These random quirks do not generalize well to new data.\n",
        "- This problem of failing to be able to generalize to the validation data or test data is called **overfitting**."
      ],
      "id": "f3c2f745"
    },
    {
      "cell_type": "code",
      "execution_count": null,
      "metadata": {
        "id": "c75f03bb"
      },
      "outputs": [],
      "source": [],
      "id": "c75f03bb"
    },
    {
      "cell_type": "markdown",
      "metadata": {
        "id": "3738fd0d"
      },
      "source": [
        "### The \"fundamental tradeoff\" of supervised learning:\n",
        "\n",
        "\n",
        "**As you increase model complexity, $E_\\textrm{train}$ tends to go down but $E_\\textrm{valid}-E_\\textrm{train}$ tends to go up.**\n"
      ],
      "id": "3738fd0d"
    },
    {
      "cell_type": "code",
      "execution_count": null,
      "metadata": {
        "id": "162f2076"
      },
      "outputs": [],
      "source": [],
      "id": "162f2076"
    },
    {
      "cell_type": "markdown",
      "metadata": {
        "id": "4d819530"
      },
      "source": [
        "### Bias vs variance tradeoff\n",
        "\n",
        "- The fundamental trade-off is also called the bias/variance tradeoff in supervised machine learning.\n",
        "\n",
        "**Bias**\n",
        ": the tendency to consistently learn the same wrong thing (high bias corresponds to underfitting)\n",
        "\n",
        "**Variance**\n",
        ": the tendency to learn random things irrespective of the real signal (high variance corresponds to overfitting)"
      ],
      "id": "4d819530"
    },
    {
      "cell_type": "code",
      "execution_count": null,
      "metadata": {
        "id": "42e0c898"
      },
      "outputs": [],
      "source": [],
      "id": "42e0c898"
    },
    {
      "cell_type": "markdown",
      "metadata": {
        "id": "212d0eee"
      },
      "source": [
        "\n",
        "Check out [this article by Pedro Domingos](https://homes.cs.washington.edu/~pedrod/papers/cacm12.pdf) for some approachable explanation on machine learning fundamentals and bias-variance tradeoff.\n"
      ],
      "id": "212d0eee"
    },
    {
      "cell_type": "markdown",
      "metadata": {
        "id": "de7e0b55"
      },
      "source": [
        "### How to pick a model that would generalize better?\n",
        "\n",
        "- We want to avoid both underfitting and overfitting.\n",
        "- We want to be consistent with the training data but we don't to rely too much on it.\n",
        "\n",
        "<!-- <center>\n",
        "<img src='img/malp_0201.png' width=\"800\" height=\"800\" />\n",
        "</center>    \n",
        " -->\n",
        "![](img/malp_0201.png)\n",
        "\n",
        "[source](https://learning.oreilly.com/library/view/introduction-to-machine/9781449369880/ch02.html#relation-of-model-complexity-to-dataset-size)"
      ],
      "id": "de7e0b55"
    }
  ],
  "metadata": {
    "kernelspec": {
      "display_name": "Python 3 (ipykernel)",
      "language": "python",
      "name": "python3"
    },
    "language_info": {
      "codemirror_mode": {
        "name": "ipython",
        "version": 3
      },
      "file_extension": ".py",
      "mimetype": "text/x-python",
      "name": "python",
      "nbconvert_exporter": "python",
      "pygments_lexer": "ipython3",
      "version": "3.8.16"
    },
    "colab": {
      "provenance": [],
      "collapsed_sections": [
        "7ae88457",
        "70fe8d43",
        "cmqNA2-j61gq",
        "1d58b0a5",
        "0e80a29e",
        "DOaCpGw08-4l",
        "cf2c0d86",
        "cc90b062",
        "c066bd92",
        "49798030",
        "xcYF-bRYh_jr",
        "0ef1373e",
        "532408e5",
        "KucJuosQijyJ",
        "1587ebe7",
        "2e065ce5",
        "3a8d17ad",
        "7a2b7181",
        "badef758",
        "ebe4c9f1"
      ]
    }
  },
  "nbformat": 4,
  "nbformat_minor": 5
}