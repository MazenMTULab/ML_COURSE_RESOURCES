{
  "cells": [
    {
      "cell_type": "markdown",
      "id": "b66e91c2",
      "metadata": {
        "id": "b66e91c2"
      },
      "source": [
        "# Lecture 5: Model Evaluation and Types of data fitting\n",
        "\n",
        "MTU Spring 2025\n",
        "\n",
        "Instructor: Amna Mazen"
      ]
    },
    {
      "cell_type": "markdown",
      "id": "c339d820",
      "metadata": {
        "id": "c339d820"
      },
      "source": [
        "### Learning outcomes\n",
        "\n",
        "From this lecture, students are expected to be able to:\n",
        "\n",
        "- Explain why accuracy is not always the best metric in ML.\n",
        "- Explain components of a confusion matrix.\n",
        "- Define precision, recall, and f1-score and use them to evaluate different classifiers.\n",
        "- Broadly explain macro-average, weighted average.\n"
      ]
    },
    {
      "cell_type": "markdown",
      "id": "7ae88457",
      "metadata": {
        "id": "7ae88457"
      },
      "source": [
        "### Imports"
      ]
    },
    {
      "cell_type": "code",
      "execution_count": null,
      "id": "66017dc6",
      "metadata": {
        "id": "66017dc6"
      },
      "outputs": [],
      "source": [
        "import os\n",
        "import sys\n",
        "\n",
        "sys.path.append(\"code/.\")\n",
        "\n",
        "import IPython\n",
        "import matplotlib.pyplot as plt\n",
        "#import mglearn\n",
        "import numpy as np\n",
        "import pandas as pd\n",
        "from IPython.display import HTML, display\n",
        "#from plotting_functions import *\n",
        "from sklearn.dummy import DummyClassifier\n",
        "from sklearn.linear_model import LogisticRegression\n",
        "from sklearn.model_selection import cross_val_score, cross_validate, train_test_split\n",
        "from sklearn.pipeline import Pipeline, make_pipeline\n",
        "from sklearn.impute import SimpleImputer\n",
        "from sklearn.preprocessing import OneHotEncoder, OrdinalEncoder, StandardScaler\n",
        "from sklearn.dummy import DummyRegressor\n",
        "from sklearn.linear_model import LinearRegression\n",
        "from sklearn.preprocessing import StandardScaler\n",
        "from sklearn.metrics import make_scorer, mean_squared_error, r2_score\n",
        "\n",
        "\n",
        "#from utils import *\n",
        "\n",
        "%matplotlib inline\n",
        "pd.set_option(\"display.max_colwidth\", 200)\n",
        "\n",
        "from IPython.display import Image"
      ]
    },
    {
      "cell_type": "code",
      "execution_count": null,
      "id": "b7451d6c",
      "metadata": {
        "id": "b7451d6c"
      },
      "outputs": [],
      "source": [
        "# Changing global matplotlib settings for confusion matrix.\n",
        "plt.rcParams[\"xtick.labelsize\"] = 18\n",
        "plt.rcParams[\"ytick.labelsize\"] = 18"
      ]
    },
    {
      "cell_type": "markdown",
      "id": "70fe8d43",
      "metadata": {
        "id": "70fe8d43"
      },
      "source": [
        "## Evaluation metrics for binary classification: Motivation"
      ]
    },
    {
      "cell_type": "markdown",
      "id": "942ab633",
      "metadata": {
        "id": "942ab633"
      },
      "source": [
        "### Dataset preprocessing\n",
        "\n",
        "- Let's classify fraudulent and non-fraudulent transactions using Kaggle's [Credit Card Fraud Detection](https://www.kaggle.com/mlg-ulb/creditcardfraud) data set."
      ]
    },
    {
      "cell_type": "code",
      "execution_count": null,
      "id": "cdad076b",
      "metadata": {
        "id": "cdad076b",
        "outputId": "c8e161dd-0601-4d86-ae03-8dcb47507763",
        "colab": {
          "base_uri": "https://localhost:8080/",
          "height": 256
        }
      },
      "outputs": [
        {
          "output_type": "execute_result",
          "data": {
            "text/plain": [
              "            Time        V1        V2        V3        V4        V5        V6  \\\n",
              "64454    51150.0 -3.538816  3.481893 -1.827130 -0.573050  2.644106 -0.340988   \n",
              "37906    39163.0 -0.363913  0.853399  1.648195  1.118934  0.100882  0.423852   \n",
              "79378    57994.0  1.193021 -0.136714  0.622612  0.780864 -0.823511 -0.706444   \n",
              "245686  152859.0  1.604032 -0.808208 -1.594982  0.200475  0.502985  0.832370   \n",
              "60943    49575.0 -2.669614 -2.734385  0.662450 -0.059077  3.346850 -2.549682   \n",
              "\n",
              "              V7        V8        V9  ...       V21       V22       V23  \\\n",
              "64454   2.102135 -2.939006  2.578654  ...  0.530978 -0.860677 -0.201810   \n",
              "37906   0.472790 -0.972440  0.033833  ...  0.687055 -0.094586  0.121531   \n",
              "79378  -0.206073 -0.016918  0.781531  ... -0.310405 -0.842028  0.085477   \n",
              "245686 -0.034071  0.234040  0.550616  ...  0.519029  1.429217 -0.139322   \n",
              "60943  -1.430571 -0.118450  0.469383  ... -0.228329 -0.370643 -0.211544   \n",
              "\n",
              "             V24       V25       V26       V27       V28  Amount  Class  \n",
              "64454  -1.719747  0.729143 -0.547993 -0.023636 -0.454966    1.00      0  \n",
              "37906   0.146830 -0.944092 -0.558564 -0.186814 -0.257103   18.49      0  \n",
              "79378   0.366005  0.254443  0.290002 -0.036764  0.015039   23.74      0  \n",
              "245686 -1.293663  0.037785  0.061206  0.005387 -0.057296  156.52      0  \n",
              "60943  -0.300837 -1.174590  0.573818  0.388023  0.161782   57.50      0  \n",
              "\n",
              "[5 rows x 31 columns]"
            ],
            "text/html": [
              "\n",
              "  <div id=\"df-64c990aa-d0cc-4ed0-806f-f04cda73b946\" class=\"colab-df-container\">\n",
              "    <div>\n",
              "<style scoped>\n",
              "    .dataframe tbody tr th:only-of-type {\n",
              "        vertical-align: middle;\n",
              "    }\n",
              "\n",
              "    .dataframe tbody tr th {\n",
              "        vertical-align: top;\n",
              "    }\n",
              "\n",
              "    .dataframe thead th {\n",
              "        text-align: right;\n",
              "    }\n",
              "</style>\n",
              "<table border=\"1\" class=\"dataframe\">\n",
              "  <thead>\n",
              "    <tr style=\"text-align: right;\">\n",
              "      <th></th>\n",
              "      <th>Time</th>\n",
              "      <th>V1</th>\n",
              "      <th>V2</th>\n",
              "      <th>V3</th>\n",
              "      <th>V4</th>\n",
              "      <th>V5</th>\n",
              "      <th>V6</th>\n",
              "      <th>V7</th>\n",
              "      <th>V8</th>\n",
              "      <th>V9</th>\n",
              "      <th>...</th>\n",
              "      <th>V21</th>\n",
              "      <th>V22</th>\n",
              "      <th>V23</th>\n",
              "      <th>V24</th>\n",
              "      <th>V25</th>\n",
              "      <th>V26</th>\n",
              "      <th>V27</th>\n",
              "      <th>V28</th>\n",
              "      <th>Amount</th>\n",
              "      <th>Class</th>\n",
              "    </tr>\n",
              "  </thead>\n",
              "  <tbody>\n",
              "    <tr>\n",
              "      <th>64454</th>\n",
              "      <td>51150.0</td>\n",
              "      <td>-3.538816</td>\n",
              "      <td>3.481893</td>\n",
              "      <td>-1.827130</td>\n",
              "      <td>-0.573050</td>\n",
              "      <td>2.644106</td>\n",
              "      <td>-0.340988</td>\n",
              "      <td>2.102135</td>\n",
              "      <td>-2.939006</td>\n",
              "      <td>2.578654</td>\n",
              "      <td>...</td>\n",
              "      <td>0.530978</td>\n",
              "      <td>-0.860677</td>\n",
              "      <td>-0.201810</td>\n",
              "      <td>-1.719747</td>\n",
              "      <td>0.729143</td>\n",
              "      <td>-0.547993</td>\n",
              "      <td>-0.023636</td>\n",
              "      <td>-0.454966</td>\n",
              "      <td>1.00</td>\n",
              "      <td>0</td>\n",
              "    </tr>\n",
              "    <tr>\n",
              "      <th>37906</th>\n",
              "      <td>39163.0</td>\n",
              "      <td>-0.363913</td>\n",
              "      <td>0.853399</td>\n",
              "      <td>1.648195</td>\n",
              "      <td>1.118934</td>\n",
              "      <td>0.100882</td>\n",
              "      <td>0.423852</td>\n",
              "      <td>0.472790</td>\n",
              "      <td>-0.972440</td>\n",
              "      <td>0.033833</td>\n",
              "      <td>...</td>\n",
              "      <td>0.687055</td>\n",
              "      <td>-0.094586</td>\n",
              "      <td>0.121531</td>\n",
              "      <td>0.146830</td>\n",
              "      <td>-0.944092</td>\n",
              "      <td>-0.558564</td>\n",
              "      <td>-0.186814</td>\n",
              "      <td>-0.257103</td>\n",
              "      <td>18.49</td>\n",
              "      <td>0</td>\n",
              "    </tr>\n",
              "    <tr>\n",
              "      <th>79378</th>\n",
              "      <td>57994.0</td>\n",
              "      <td>1.193021</td>\n",
              "      <td>-0.136714</td>\n",
              "      <td>0.622612</td>\n",
              "      <td>0.780864</td>\n",
              "      <td>-0.823511</td>\n",
              "      <td>-0.706444</td>\n",
              "      <td>-0.206073</td>\n",
              "      <td>-0.016918</td>\n",
              "      <td>0.781531</td>\n",
              "      <td>...</td>\n",
              "      <td>-0.310405</td>\n",
              "      <td>-0.842028</td>\n",
              "      <td>0.085477</td>\n",
              "      <td>0.366005</td>\n",
              "      <td>0.254443</td>\n",
              "      <td>0.290002</td>\n",
              "      <td>-0.036764</td>\n",
              "      <td>0.015039</td>\n",
              "      <td>23.74</td>\n",
              "      <td>0</td>\n",
              "    </tr>\n",
              "    <tr>\n",
              "      <th>245686</th>\n",
              "      <td>152859.0</td>\n",
              "      <td>1.604032</td>\n",
              "      <td>-0.808208</td>\n",
              "      <td>-1.594982</td>\n",
              "      <td>0.200475</td>\n",
              "      <td>0.502985</td>\n",
              "      <td>0.832370</td>\n",
              "      <td>-0.034071</td>\n",
              "      <td>0.234040</td>\n",
              "      <td>0.550616</td>\n",
              "      <td>...</td>\n",
              "      <td>0.519029</td>\n",
              "      <td>1.429217</td>\n",
              "      <td>-0.139322</td>\n",
              "      <td>-1.293663</td>\n",
              "      <td>0.037785</td>\n",
              "      <td>0.061206</td>\n",
              "      <td>0.005387</td>\n",
              "      <td>-0.057296</td>\n",
              "      <td>156.52</td>\n",
              "      <td>0</td>\n",
              "    </tr>\n",
              "    <tr>\n",
              "      <th>60943</th>\n",
              "      <td>49575.0</td>\n",
              "      <td>-2.669614</td>\n",
              "      <td>-2.734385</td>\n",
              "      <td>0.662450</td>\n",
              "      <td>-0.059077</td>\n",
              "      <td>3.346850</td>\n",
              "      <td>-2.549682</td>\n",
              "      <td>-1.430571</td>\n",
              "      <td>-0.118450</td>\n",
              "      <td>0.469383</td>\n",
              "      <td>...</td>\n",
              "      <td>-0.228329</td>\n",
              "      <td>-0.370643</td>\n",
              "      <td>-0.211544</td>\n",
              "      <td>-0.300837</td>\n",
              "      <td>-1.174590</td>\n",
              "      <td>0.573818</td>\n",
              "      <td>0.388023</td>\n",
              "      <td>0.161782</td>\n",
              "      <td>57.50</td>\n",
              "      <td>0</td>\n",
              "    </tr>\n",
              "  </tbody>\n",
              "</table>\n",
              "<p>5 rows × 31 columns</p>\n",
              "</div>\n",
              "    <div class=\"colab-df-buttons\">\n",
              "\n",
              "  <div class=\"colab-df-container\">\n",
              "    <button class=\"colab-df-convert\" onclick=\"convertToInteractive('df-64c990aa-d0cc-4ed0-806f-f04cda73b946')\"\n",
              "            title=\"Convert this dataframe to an interactive table.\"\n",
              "            style=\"display:none;\">\n",
              "\n",
              "  <svg xmlns=\"http://www.w3.org/2000/svg\" height=\"24px\" viewBox=\"0 -960 960 960\">\n",
              "    <path d=\"M120-120v-720h720v720H120Zm60-500h600v-160H180v160Zm220 220h160v-160H400v160Zm0 220h160v-160H400v160ZM180-400h160v-160H180v160Zm440 0h160v-160H620v160ZM180-180h160v-160H180v160Zm440 0h160v-160H620v160Z\"/>\n",
              "  </svg>\n",
              "    </button>\n",
              "\n",
              "  <style>\n",
              "    .colab-df-container {\n",
              "      display:flex;\n",
              "      gap: 12px;\n",
              "    }\n",
              "\n",
              "    .colab-df-convert {\n",
              "      background-color: #E8F0FE;\n",
              "      border: none;\n",
              "      border-radius: 50%;\n",
              "      cursor: pointer;\n",
              "      display: none;\n",
              "      fill: #1967D2;\n",
              "      height: 32px;\n",
              "      padding: 0 0 0 0;\n",
              "      width: 32px;\n",
              "    }\n",
              "\n",
              "    .colab-df-convert:hover {\n",
              "      background-color: #E2EBFA;\n",
              "      box-shadow: 0px 1px 2px rgba(60, 64, 67, 0.3), 0px 1px 3px 1px rgba(60, 64, 67, 0.15);\n",
              "      fill: #174EA6;\n",
              "    }\n",
              "\n",
              "    .colab-df-buttons div {\n",
              "      margin-bottom: 4px;\n",
              "    }\n",
              "\n",
              "    [theme=dark] .colab-df-convert {\n",
              "      background-color: #3B4455;\n",
              "      fill: #D2E3FC;\n",
              "    }\n",
              "\n",
              "    [theme=dark] .colab-df-convert:hover {\n",
              "      background-color: #434B5C;\n",
              "      box-shadow: 0px 1px 3px 1px rgba(0, 0, 0, 0.15);\n",
              "      filter: drop-shadow(0px 1px 2px rgba(0, 0, 0, 0.3));\n",
              "      fill: #FFFFFF;\n",
              "    }\n",
              "  </style>\n",
              "\n",
              "    <script>\n",
              "      const buttonEl =\n",
              "        document.querySelector('#df-64c990aa-d0cc-4ed0-806f-f04cda73b946 button.colab-df-convert');\n",
              "      buttonEl.style.display =\n",
              "        google.colab.kernel.accessAllowed ? 'block' : 'none';\n",
              "\n",
              "      async function convertToInteractive(key) {\n",
              "        const element = document.querySelector('#df-64c990aa-d0cc-4ed0-806f-f04cda73b946');\n",
              "        const dataTable =\n",
              "          await google.colab.kernel.invokeFunction('convertToInteractive',\n",
              "                                                    [key], {});\n",
              "        if (!dataTable) return;\n",
              "\n",
              "        const docLinkHtml = 'Like what you see? Visit the ' +\n",
              "          '<a target=\"_blank\" href=https://colab.research.google.com/notebooks/data_table.ipynb>data table notebook</a>'\n",
              "          + ' to learn more about interactive tables.';\n",
              "        element.innerHTML = '';\n",
              "        dataTable['output_type'] = 'display_data';\n",
              "        await google.colab.output.renderOutput(dataTable, element);\n",
              "        const docLink = document.createElement('div');\n",
              "        docLink.innerHTML = docLinkHtml;\n",
              "        element.appendChild(docLink);\n",
              "      }\n",
              "    </script>\n",
              "  </div>\n",
              "\n",
              "\n",
              "<div id=\"df-82e03705-ee8c-492b-9d63-ac19e7484fa5\">\n",
              "  <button class=\"colab-df-quickchart\" onclick=\"quickchart('df-82e03705-ee8c-492b-9d63-ac19e7484fa5')\"\n",
              "            title=\"Suggest charts\"\n",
              "            style=\"display:none;\">\n",
              "\n",
              "<svg xmlns=\"http://www.w3.org/2000/svg\" height=\"24px\"viewBox=\"0 0 24 24\"\n",
              "     width=\"24px\">\n",
              "    <g>\n",
              "        <path d=\"M19 3H5c-1.1 0-2 .9-2 2v14c0 1.1.9 2 2 2h14c1.1 0 2-.9 2-2V5c0-1.1-.9-2-2-2zM9 17H7v-7h2v7zm4 0h-2V7h2v10zm4 0h-2v-4h2v4z\"/>\n",
              "    </g>\n",
              "</svg>\n",
              "  </button>\n",
              "\n",
              "<style>\n",
              "  .colab-df-quickchart {\n",
              "      --bg-color: #E8F0FE;\n",
              "      --fill-color: #1967D2;\n",
              "      --hover-bg-color: #E2EBFA;\n",
              "      --hover-fill-color: #174EA6;\n",
              "      --disabled-fill-color: #AAA;\n",
              "      --disabled-bg-color: #DDD;\n",
              "  }\n",
              "\n",
              "  [theme=dark] .colab-df-quickchart {\n",
              "      --bg-color: #3B4455;\n",
              "      --fill-color: #D2E3FC;\n",
              "      --hover-bg-color: #434B5C;\n",
              "      --hover-fill-color: #FFFFFF;\n",
              "      --disabled-bg-color: #3B4455;\n",
              "      --disabled-fill-color: #666;\n",
              "  }\n",
              "\n",
              "  .colab-df-quickchart {\n",
              "    background-color: var(--bg-color);\n",
              "    border: none;\n",
              "    border-radius: 50%;\n",
              "    cursor: pointer;\n",
              "    display: none;\n",
              "    fill: var(--fill-color);\n",
              "    height: 32px;\n",
              "    padding: 0;\n",
              "    width: 32px;\n",
              "  }\n",
              "\n",
              "  .colab-df-quickchart:hover {\n",
              "    background-color: var(--hover-bg-color);\n",
              "    box-shadow: 0 1px 2px rgba(60, 64, 67, 0.3), 0 1px 3px 1px rgba(60, 64, 67, 0.15);\n",
              "    fill: var(--button-hover-fill-color);\n",
              "  }\n",
              "\n",
              "  .colab-df-quickchart-complete:disabled,\n",
              "  .colab-df-quickchart-complete:disabled:hover {\n",
              "    background-color: var(--disabled-bg-color);\n",
              "    fill: var(--disabled-fill-color);\n",
              "    box-shadow: none;\n",
              "  }\n",
              "\n",
              "  .colab-df-spinner {\n",
              "    border: 2px solid var(--fill-color);\n",
              "    border-color: transparent;\n",
              "    border-bottom-color: var(--fill-color);\n",
              "    animation:\n",
              "      spin 1s steps(1) infinite;\n",
              "  }\n",
              "\n",
              "  @keyframes spin {\n",
              "    0% {\n",
              "      border-color: transparent;\n",
              "      border-bottom-color: var(--fill-color);\n",
              "      border-left-color: var(--fill-color);\n",
              "    }\n",
              "    20% {\n",
              "      border-color: transparent;\n",
              "      border-left-color: var(--fill-color);\n",
              "      border-top-color: var(--fill-color);\n",
              "    }\n",
              "    30% {\n",
              "      border-color: transparent;\n",
              "      border-left-color: var(--fill-color);\n",
              "      border-top-color: var(--fill-color);\n",
              "      border-right-color: var(--fill-color);\n",
              "    }\n",
              "    40% {\n",
              "      border-color: transparent;\n",
              "      border-right-color: var(--fill-color);\n",
              "      border-top-color: var(--fill-color);\n",
              "    }\n",
              "    60% {\n",
              "      border-color: transparent;\n",
              "      border-right-color: var(--fill-color);\n",
              "    }\n",
              "    80% {\n",
              "      border-color: transparent;\n",
              "      border-right-color: var(--fill-color);\n",
              "      border-bottom-color: var(--fill-color);\n",
              "    }\n",
              "    90% {\n",
              "      border-color: transparent;\n",
              "      border-bottom-color: var(--fill-color);\n",
              "    }\n",
              "  }\n",
              "</style>\n",
              "\n",
              "  <script>\n",
              "    async function quickchart(key) {\n",
              "      const quickchartButtonEl =\n",
              "        document.querySelector('#' + key + ' button');\n",
              "      quickchartButtonEl.disabled = true;  // To prevent multiple clicks.\n",
              "      quickchartButtonEl.classList.add('colab-df-spinner');\n",
              "      try {\n",
              "        const charts = await google.colab.kernel.invokeFunction(\n",
              "            'suggestCharts', [key], {});\n",
              "      } catch (error) {\n",
              "        console.error('Error during call to suggestCharts:', error);\n",
              "      }\n",
              "      quickchartButtonEl.classList.remove('colab-df-spinner');\n",
              "      quickchartButtonEl.classList.add('colab-df-quickchart-complete');\n",
              "    }\n",
              "    (() => {\n",
              "      let quickchartButtonEl =\n",
              "        document.querySelector('#df-82e03705-ee8c-492b-9d63-ac19e7484fa5 button');\n",
              "      quickchartButtonEl.style.display =\n",
              "        google.colab.kernel.accessAllowed ? 'block' : 'none';\n",
              "    })();\n",
              "  </script>\n",
              "</div>\n",
              "\n",
              "    </div>\n",
              "  </div>\n"
            ],
            "application/vnd.google.colaboratory.intrinsic+json": {
              "type": "dataframe",
              "variable_name": "train_df"
            }
          },
          "metadata": {},
          "execution_count": 15
        }
      ],
      "source": [
        "cc_df = pd.read_csv(\"/content/creditcard.csv\", encoding=\"latin-1\")\n",
        "cc_df=cc_df.dropna(axis=0)\n",
        "train_df, test_df = train_test_split(cc_df, test_size=0.3, random_state=111)\n",
        "train_df.head()"
      ]
    },
    {
      "cell_type": "code",
      "execution_count": null,
      "id": "02f9cab6",
      "metadata": {
        "id": "02f9cab6"
      },
      "outputs": [],
      "source": []
    },
    {
      "cell_type": "code",
      "execution_count": null,
      "id": "150ce45f",
      "metadata": {
        "id": "150ce45f",
        "outputId": "1f37ee7a-7a6f-437e-f872-5398d5c334d1",
        "colab": {
          "base_uri": "https://localhost:8080/"
        }
      },
      "outputs": [
        {
          "output_type": "execute_result",
          "data": {
            "text/plain": [
              "(199364, 31)"
            ]
          },
          "metadata": {},
          "execution_count": 16
        }
      ],
      "source": [
        "train_df.shape"
      ]
    },
    {
      "cell_type": "markdown",
      "id": "bde9b6f9",
      "metadata": {
        "id": "bde9b6f9"
      },
      "source": [
        "- Good size dataset\n",
        "- For confidentially reasons, it only provides transformed features with PCA, which is a popular dimensionality reduction technique."
      ]
    },
    {
      "cell_type": "code",
      "execution_count": null,
      "id": "6ae97d31",
      "metadata": {
        "id": "6ae97d31"
      },
      "outputs": [],
      "source": []
    },
    {
      "cell_type": "markdown",
      "id": "486f1244",
      "metadata": {
        "id": "486f1244"
      },
      "source": [
        "- We do not have categorical features. All features are numeric.\n",
        "- We have to be careful about the `Time` and `Amount` features.\n",
        "- We could scale `Amount`.\n",
        "- Do we want to scale time?\n",
        "    - In this lecture, we'll just drop the Time feature.\n",
        "    - We'll learn about time series briefly later in the course."
      ]
    },
    {
      "cell_type": "markdown",
      "id": "0f2b2413",
      "metadata": {
        "id": "0f2b2413"
      },
      "source": [
        "Let's separate `X` and `y` for train and test splits."
      ]
    },
    {
      "cell_type": "code",
      "execution_count": null,
      "id": "0ea33585",
      "metadata": {
        "id": "0ea33585"
      },
      "outputs": [],
      "source": [
        "X_train_big, y_train_big = train_df.drop(columns=[\"Class\", \"Time\"]), train_df[\"Class\"]\n",
        "X_test, y_test = test_df.drop(columns=[\"Class\", \"Time\"]), test_df[\"Class\"]"
      ]
    },
    {
      "cell_type": "code",
      "execution_count": null,
      "id": "7c3196af",
      "metadata": {
        "id": "7c3196af"
      },
      "outputs": [],
      "source": []
    },
    {
      "cell_type": "markdown",
      "id": "80ce6795",
      "metadata": {
        "id": "80ce6795"
      },
      "source": [
        "- It's easier to demonstrate evaluation metrics using an explicit validation set instead of using cross-validation.\n",
        "- So let's create a validation set.\n",
        "- Our data is large enough so it shouldn't be a problem."
      ]
    },
    {
      "cell_type": "code",
      "execution_count": null,
      "id": "0d5e5b28",
      "metadata": {
        "id": "0d5e5b28"
      },
      "outputs": [],
      "source": [
        "X_train, X_valid, y_train, y_valid = train_test_split(\n",
        "    X_train_big, y_train_big, test_size=0.3, random_state=123\n",
        ")"
      ]
    },
    {
      "cell_type": "code",
      "execution_count": null,
      "id": "11fc1bc3",
      "metadata": {
        "id": "11fc1bc3"
      },
      "outputs": [],
      "source": []
    },
    {
      "cell_type": "markdown",
      "id": "11fa2be1",
      "metadata": {
        "id": "11fa2be1"
      },
      "source": [
        "#### Baseline"
      ]
    },
    {
      "cell_type": "code",
      "execution_count": null,
      "id": "05354621",
      "metadata": {
        "id": "05354621"
      },
      "outputs": [],
      "source": []
    },
    {
      "cell_type": "code",
      "execution_count": null,
      "id": "61da808d",
      "metadata": {
        "id": "61da808d",
        "outputId": "ac47b5ce-b99b-4e00-daaa-d5dad5d7e4c0",
        "colab": {
          "base_uri": "https://localhost:8080/",
          "height": 210
        }
      },
      "outputs": [
        {
          "output_type": "execute_result",
          "data": {
            "text/plain": [
              "fit_time       0.018061\n",
              "score_time     0.002517\n",
              "test_score     0.998302\n",
              "train_score    0.998302\n",
              "dtype: float64"
            ],
            "text/html": [
              "<div>\n",
              "<style scoped>\n",
              "    .dataframe tbody tr th:only-of-type {\n",
              "        vertical-align: middle;\n",
              "    }\n",
              "\n",
              "    .dataframe tbody tr th {\n",
              "        vertical-align: top;\n",
              "    }\n",
              "\n",
              "    .dataframe thead th {\n",
              "        text-align: right;\n",
              "    }\n",
              "</style>\n",
              "<table border=\"1\" class=\"dataframe\">\n",
              "  <thead>\n",
              "    <tr style=\"text-align: right;\">\n",
              "      <th></th>\n",
              "      <th>0</th>\n",
              "    </tr>\n",
              "  </thead>\n",
              "  <tbody>\n",
              "    <tr>\n",
              "      <th>fit_time</th>\n",
              "      <td>0.018061</td>\n",
              "    </tr>\n",
              "    <tr>\n",
              "      <th>score_time</th>\n",
              "      <td>0.002517</td>\n",
              "    </tr>\n",
              "    <tr>\n",
              "      <th>test_score</th>\n",
              "      <td>0.998302</td>\n",
              "    </tr>\n",
              "    <tr>\n",
              "      <th>train_score</th>\n",
              "      <td>0.998302</td>\n",
              "    </tr>\n",
              "  </tbody>\n",
              "</table>\n",
              "</div><br><label><b>dtype:</b> float64</label>"
            ]
          },
          "metadata": {},
          "execution_count": 21
        }
      ],
      "source": [
        "dummy = DummyClassifier()\n",
        "pd.DataFrame(cross_validate(dummy, X_train, y_train, return_train_score=True)).mean()"
      ]
    },
    {
      "cell_type": "code",
      "execution_count": null,
      "id": "900e2e9b",
      "metadata": {
        "id": "900e2e9b"
      },
      "outputs": [],
      "source": []
    },
    {
      "cell_type": "markdown",
      "id": "2fdf85aa",
      "metadata": {
        "id": "2fdf85aa"
      },
      "source": [
        "#### Observations\n",
        "\n",
        "- `DummyClassifier` is getting 0.998 cross-validation accuracy!!\n",
        "- Should we be happy with this accuracy and deploy this `DummyClassifier` model for fraud detection?"
      ]
    },
    {
      "cell_type": "code",
      "execution_count": null,
      "id": "52d87e83",
      "metadata": {
        "id": "52d87e83"
      },
      "outputs": [],
      "source": []
    },
    {
      "cell_type": "markdown",
      "id": "974bb633",
      "metadata": {
        "id": "974bb633"
      },
      "source": [
        "What's the class distribution?"
      ]
    },
    {
      "cell_type": "code",
      "execution_count": null,
      "id": "0feb16e3",
      "metadata": {
        "id": "0feb16e3",
        "outputId": "43853b08-1a5f-45ad-c18a-ed3bf48dc261",
        "colab": {
          "base_uri": "https://localhost:8080/",
          "height": 178
        }
      },
      "outputs": [
        {
          "output_type": "execute_result",
          "data": {
            "text/plain": [
              "Class\n",
              "0    0.9983\n",
              "1    0.0017\n",
              "Name: proportion, dtype: float64"
            ],
            "text/html": [
              "<div>\n",
              "<style scoped>\n",
              "    .dataframe tbody tr th:only-of-type {\n",
              "        vertical-align: middle;\n",
              "    }\n",
              "\n",
              "    .dataframe tbody tr th {\n",
              "        vertical-align: top;\n",
              "    }\n",
              "\n",
              "    .dataframe thead th {\n",
              "        text-align: right;\n",
              "    }\n",
              "</style>\n",
              "<table border=\"1\" class=\"dataframe\">\n",
              "  <thead>\n",
              "    <tr style=\"text-align: right;\">\n",
              "      <th></th>\n",
              "      <th>proportion</th>\n",
              "    </tr>\n",
              "    <tr>\n",
              "      <th>Class</th>\n",
              "      <th></th>\n",
              "    </tr>\n",
              "  </thead>\n",
              "  <tbody>\n",
              "    <tr>\n",
              "      <th>0</th>\n",
              "      <td>0.9983</td>\n",
              "    </tr>\n",
              "    <tr>\n",
              "      <th>1</th>\n",
              "      <td>0.0017</td>\n",
              "    </tr>\n",
              "  </tbody>\n",
              "</table>\n",
              "</div><br><label><b>dtype:</b> float64</label>"
            ]
          },
          "metadata": {},
          "execution_count": 22
        }
      ],
      "source": [
        "train_df[\"Class\"].value_counts(normalize=True)"
      ]
    },
    {
      "cell_type": "code",
      "execution_count": null,
      "id": "ca311808",
      "metadata": {
        "id": "ca311808"
      },
      "outputs": [],
      "source": []
    },
    {
      "cell_type": "markdown",
      "id": "e030814e",
      "metadata": {
        "id": "e030814e"
      },
      "source": [
        "- We have class imbalance.\n",
        "- We have MANY non-fraud transactions and only a handful of fraud transactions.\n",
        "- So in the training set, `most_frequent` strategy is labeling 199,025 (99.83%) instances correctly and only 339 (0.17%) instances incorrectly.\n",
        "- Is this what we want?\n",
        "- The \"fraud\" class is the important class that we want to spot."
      ]
    },
    {
      "cell_type": "code",
      "execution_count": null,
      "id": "68496918",
      "metadata": {
        "id": "68496918"
      },
      "outputs": [],
      "source": []
    },
    {
      "cell_type": "markdown",
      "id": "aa1c15b5",
      "metadata": {
        "id": "aa1c15b5"
      },
      "source": [
        "Let's scale the features and try `LogisticRegression`.   "
      ]
    },
    {
      "cell_type": "code",
      "execution_count": null,
      "id": "5096e8f6",
      "metadata": {
        "id": "5096e8f6",
        "outputId": "ae3e5358-0e8f-46bf-e0cf-dce2a20c9c66",
        "colab": {
          "base_uri": "https://localhost:8080/",
          "height": 210
        }
      },
      "outputs": [
        {
          "output_type": "execute_result",
          "data": {
            "text/plain": [
              "fit_time       0.398167\n",
              "score_time     0.011006\n",
              "test_score     0.999183\n",
              "train_score    0.999221\n",
              "dtype: float64"
            ],
            "text/html": [
              "<div>\n",
              "<style scoped>\n",
              "    .dataframe tbody tr th:only-of-type {\n",
              "        vertical-align: middle;\n",
              "    }\n",
              "\n",
              "    .dataframe tbody tr th {\n",
              "        vertical-align: top;\n",
              "    }\n",
              "\n",
              "    .dataframe thead th {\n",
              "        text-align: right;\n",
              "    }\n",
              "</style>\n",
              "<table border=\"1\" class=\"dataframe\">\n",
              "  <thead>\n",
              "    <tr style=\"text-align: right;\">\n",
              "      <th></th>\n",
              "      <th>0</th>\n",
              "    </tr>\n",
              "  </thead>\n",
              "  <tbody>\n",
              "    <tr>\n",
              "      <th>fit_time</th>\n",
              "      <td>0.398167</td>\n",
              "    </tr>\n",
              "    <tr>\n",
              "      <th>score_time</th>\n",
              "      <td>0.011006</td>\n",
              "    </tr>\n",
              "    <tr>\n",
              "      <th>test_score</th>\n",
              "      <td>0.999183</td>\n",
              "    </tr>\n",
              "    <tr>\n",
              "      <th>train_score</th>\n",
              "      <td>0.999221</td>\n",
              "    </tr>\n",
              "  </tbody>\n",
              "</table>\n",
              "</div><br><label><b>dtype:</b> float64</label>"
            ]
          },
          "metadata": {},
          "execution_count": 23
        }
      ],
      "source": [
        "pipe = make_pipeline(StandardScaler(), LogisticRegression())\n",
        "pd.DataFrame(cross_validate(pipe, X_train, y_train, return_train_score=True)).mean()"
      ]
    },
    {
      "cell_type": "code",
      "execution_count": null,
      "id": "d01809a2",
      "metadata": {
        "id": "d01809a2"
      },
      "outputs": [],
      "source": []
    },
    {
      "cell_type": "markdown",
      "id": "76e3c442",
      "metadata": {
        "id": "76e3c442"
      },
      "source": [
        "- We are getting a slightly better score with logistic regression.  \n",
        "- What score should be considered an acceptable score here?\n",
        "- Are we actually spotting any \"fraud\" transactions?"
      ]
    },
    {
      "cell_type": "code",
      "execution_count": null,
      "id": "c8064b79",
      "metadata": {
        "id": "c8064b79"
      },
      "outputs": [],
      "source": []
    },
    {
      "cell_type": "markdown",
      "id": "ac8b4425",
      "metadata": {
        "id": "ac8b4425"
      },
      "source": [
        "- `.score` by default returns accuracy which is\n",
        "$$\\frac{\\text{correct predictions}}{\\text{total examples}}$$\n",
        "- Is accuracy a good metric here?\n",
        "- Is there anything more informative than accuracy that we can use here?\n",
        "\n",
        "Let's dig a little deeper."
      ]
    },
    {
      "cell_type": "code",
      "execution_count": null,
      "id": "df5a5ec9",
      "metadata": {
        "id": "df5a5ec9"
      },
      "outputs": [],
      "source": []
    },
    {
      "cell_type": "markdown",
      "id": "1d58b0a5",
      "metadata": {
        "id": "1d58b0a5"
      },
      "source": [
        "## Confusion matrix"
      ]
    },
    {
      "cell_type": "code",
      "execution_count": null,
      "id": "2a9e47a6",
      "metadata": {
        "id": "2a9e47a6"
      },
      "outputs": [],
      "source": []
    },
    {
      "cell_type": "markdown",
      "id": "f35bde2e",
      "metadata": {
        "id": "f35bde2e"
      },
      "source": [
        "One way to get a better understanding of the errors is by looking at\n",
        "- false positives (type I errors), where the model incorrectly spots examples as fraud\n",
        "- false negatives (type II errors), where it's missing to spot fraud examples"
      ]
    },
    {
      "cell_type": "code",
      "execution_count": null,
      "id": "86c0f253",
      "metadata": {
        "id": "86c0f253"
      },
      "outputs": [],
      "source": []
    },
    {
      "cell_type": "markdown",
      "id": "de16d34d",
      "metadata": {
        "id": "de16d34d"
      },
      "source": [
        "You can get a numpy array of confusion matrix as follows:"
      ]
    },
    {
      "cell_type": "code",
      "execution_count": null,
      "id": "e2b6c6cc",
      "metadata": {
        "id": "e2b6c6cc",
        "outputId": "c0d1c836-27e3-45be-c2da-f85599f4081e"
      },
      "outputs": [
        {
          "name": "stdout",
          "output_type": "stream",
          "text": [
            "Confusion matrix for fraud data set\n",
            "[[59700     8]\n",
            " [   38    64]]\n"
          ]
        }
      ],
      "source": [
        "from sklearn.metrics import confusion_matrix\n",
        "\n",
        "predictions = pipe.predict(X_valid)\n",
        "TN, FP, FN, TP = confusion_matrix(y_valid, predictions).ravel()\n",
        "print(\"Confusion matrix for fraud data set\")\n",
        "print(disp.confusion_matrix)"
      ]
    },
    {
      "cell_type": "code",
      "execution_count": null,
      "id": "54d41faa",
      "metadata": {
        "id": "54d41faa",
        "outputId": "a10438ae-a8c8-4c86-b156-b6cb0fc899ff",
        "colab": {
          "base_uri": "https://localhost:8080/",
          "height": 459
        }
      },
      "outputs": [
        {
          "output_type": "display_data",
          "data": {
            "text/plain": [
              "<Figure size 640x480 with 1 Axes>"
            ],
            "image/png": "[encoded data removed]"
          },
          "metadata": {}
        }
      ],
      "source": [
        "from sklearn.metrics import ConfusionMatrixDisplay\n",
        "\n",
        "pipe.fit(X_train, y_train)\n",
        "disp = ConfusionMatrixDisplay.from_estimator(\n",
        "    pipe,\n",
        "    X_valid,\n",
        "    y_valid,\n",
        "    display_labels=[\"Non fraud\", \"fraud\"],\n",
        "    values_format=\"d\",\n",
        "    cmap=plt.cm.Blues,\n",
        "    colorbar=False,\n",
        ");"
      ]
    },
    {
      "cell_type": "code",
      "execution_count": null,
      "id": "c9281494",
      "metadata": {
        "id": "c9281494"
      },
      "outputs": [],
      "source": []
    },
    {
      "cell_type": "markdown",
      "id": "9f8a92db",
      "metadata": {
        "id": "9f8a92db"
      },
      "source": [
        "![image.png](attachment:image.png)"
      ]
    },
    {
      "cell_type": "markdown",
      "id": "13a50791",
      "metadata": {
        "id": "13a50791"
      },
      "source": [
        "- Perfect prediction has all values down the diagonal\n",
        "- Off diagonal entries can often tell us about what is being mis-predicted"
      ]
    },
    {
      "cell_type": "code",
      "execution_count": null,
      "id": "83e86dfc",
      "metadata": {
        "id": "83e86dfc"
      },
      "outputs": [],
      "source": []
    },
    {
      "cell_type": "markdown",
      "id": "2d5edbd1",
      "metadata": {
        "id": "2d5edbd1"
      },
      "source": [
        "### What is \"positive\" and \"negative\"?\n",
        "\n",
        "- Two kinds of binary classification problems\n",
        "    - Distinguishing between two classes\n",
        "    - Spotting a class (spot fraud transaction, spot spam, spot disease)\n",
        "- In case of spotting problems, the thing that we are interested in spotting is considered \"positive\".\n",
        "- Above we wanted to spot fraudulent transactions and so they are \"positive\"."
      ]
    },
    {
      "cell_type": "code",
      "execution_count": null,
      "id": "5bc97130",
      "metadata": {
        "id": "5bc97130"
      },
      "outputs": [],
      "source": []
    },
    {
      "cell_type": "code",
      "execution_count": null,
      "id": "9299d483",
      "metadata": {
        "id": "9299d483"
      },
      "outputs": [],
      "source": []
    },
    {
      "cell_type": "markdown",
      "id": "0e80a29e",
      "metadata": {
        "id": "0e80a29e"
      },
      "source": [
        "### Confusion matrix with cross-validation"
      ]
    },
    {
      "cell_type": "markdown",
      "id": "7828aef4",
      "metadata": {
        "id": "7828aef4"
      },
      "source": [
        "- You can also calculate confusion matrix with cross-validation using the `cross_val_predict` method.  \n",
        "- But then you cannot conveniently use `plot_confusion_matrix`."
      ]
    },
    {
      "cell_type": "code",
      "execution_count": null,
      "id": "b9686ff6",
      "metadata": {
        "id": "b9686ff6",
        "outputId": "6feca869-004d-4944-ec7c-2a55887ca4e6"
      },
      "outputs": [
        {
          "data": {
            "text/plain": [
              "array([[139296,     21],\n",
              "       [    94,    143]], dtype=int64)"
            ]
          },
          "execution_count": 16,
          "metadata": {},
          "output_type": "execute_result"
        }
      ],
      "source": [
        "from sklearn.model_selection import cross_val_predict\n",
        "\n",
        "confusion_matrix(y_train, cross_val_predict(pipe, X_train, y_train))"
      ]
    },
    {
      "cell_type": "code",
      "execution_count": null,
      "id": "fb50f441",
      "metadata": {
        "id": "fb50f441"
      },
      "outputs": [],
      "source": []
    },
    {
      "cell_type": "markdown",
      "id": "035196f1",
      "metadata": {
        "id": "035196f1"
      },
      "source": [
        "## Precision, recall, f1 score"
      ]
    },
    {
      "cell_type": "markdown",
      "id": "a006f953",
      "metadata": {
        "id": "a006f953"
      },
      "source": [
        "- We have been using `.score` to assess our models, which returns accuracy by default.\n",
        "- Accuracy is misleading when we have class imbalance.\n",
        "- We need other metrics to assess our models."
      ]
    },
    {
      "cell_type": "markdown",
      "id": "f3ce852d",
      "metadata": {
        "id": "f3ce852d"
      },
      "source": [
        "- We'll discuss three commonly used metrics which are based on confusion matrix:\n",
        "    - recall\n",
        "    - precision\n",
        "    - f1 score\n",
        "- Note that these metrics will only help us assessing our model.  \n",
        "- Later we'll talk about a few ways to address class imbalance problem."
      ]
    },
    {
      "cell_type": "code",
      "execution_count": null,
      "id": "8e54d67d",
      "metadata": {
        "id": "8e54d67d"
      },
      "outputs": [],
      "source": []
    },
    {
      "cell_type": "code",
      "execution_count": null,
      "id": "d1ca799c",
      "metadata": {
        "id": "d1ca799c",
        "outputId": "c6bab547-b94e-48a0-9cef-2fcd9e78ba0b"
      },
      "outputs": [
        {
          "name": "stdout",
          "output_type": "stream",
          "text": [
            "[[59700     8]\n",
            " [   38    64]]\n"
          ]
        }
      ],
      "source": [
        "from sklearn.metrics import confusion_matrix\n",
        "\n",
        "pipe_lr = make_pipeline(StandardScaler(), LogisticRegression())\n",
        "pipe_lr.fit(X_train, y_train)\n",
        "predictions = pipe_lr.predict(X_valid)\n",
        "TN, FP, FN, TP = confusion_matrix(y_valid, predictions).ravel()\n",
        "print(disp.confusion_matrix)"
      ]
    },
    {
      "cell_type": "code",
      "execution_count": null,
      "id": "e3df9e41",
      "metadata": {
        "id": "e3df9e41"
      },
      "outputs": [],
      "source": []
    },
    {
      "cell_type": "markdown",
      "id": "dded4d8d",
      "metadata": {
        "id": "dded4d8d"
      },
      "source": [
        "### Recall\n",
        "\n",
        "Among all positive examples, how many did you identify?\n",
        "$$ recall = \\frac{TP}{TP+FN} = \\frac{TP}{\\#positives} $$"
      ]
    },
    {
      "cell_type": "code",
      "execution_count": null,
      "id": "15c1ee30",
      "metadata": {
        "id": "15c1ee30",
        "outputId": "42d9ccb7-8b6d-4ad5-c752-8d63f80d5283"
      },
      "outputs": [
        {
          "data": {
            "image/png": "[encoded data removed]",
            "text/plain": [
              "<Figure size 640x480 with 2 Axes>"
            ]
          },
          "metadata": {},
          "output_type": "display_data"
        }
      ],
      "source": [
        "ConfusionMatrixDisplay.from_estimator(\n",
        "    pipe,\n",
        "    X_valid,\n",
        "    y_valid,\n",
        "    display_labels=[\"Non fraud\", \"fraud\"],\n",
        "    values_format=\"d\",\n",
        "    cmap=plt.cm.Blues,\n",
        ");"
      ]
    },
    {
      "cell_type": "code",
      "execution_count": null,
      "id": "c77ebcb0",
      "metadata": {
        "id": "c77ebcb0",
        "outputId": "5227fba5-2f26-4525-9f05-c996576e2707"
      },
      "outputs": [
        {
          "name": "stdout",
          "output_type": "stream",
          "text": [
            "TP = 64.0000, FN = 38.0000\n",
            "Recall: 0.6275\n"
          ]
        }
      ],
      "source": [
        "print(\"TP = %0.4f, FN = %0.4f\" % (TP, FN))\n",
        "recall = TP / (TP + FN)\n",
        "print(\"Recall: %0.4f\" % (recall))"
      ]
    },
    {
      "cell_type": "code",
      "execution_count": null,
      "id": "e809069c",
      "metadata": {
        "id": "e809069c"
      },
      "outputs": [],
      "source": []
    },
    {
      "cell_type": "markdown",
      "id": "4cee0c3d",
      "metadata": {
        "id": "4cee0c3d"
      },
      "source": [
        "### Precision\n",
        "\n",
        "Among the positive examples you identified, how many were actually positive?\n",
        "\n",
        "$$ precision = \\frac{TP}{TP+FP}$$"
      ]
    },
    {
      "cell_type": "code",
      "execution_count": null,
      "id": "5959565f",
      "metadata": {
        "id": "5959565f",
        "outputId": "1152b461-cbf8-431f-c925-6bd8bc2d0624"
      },
      "outputs": [
        {
          "data": {
            "image/png": "[encoded data removed]",
            "text/plain": [
              "<Figure size 640x480 with 2 Axes>"
            ]
          },
          "metadata": {},
          "output_type": "display_data"
        }
      ],
      "source": [
        "ConfusionMatrixDisplay.from_estimator(\n",
        "    pipe,\n",
        "    X_valid,\n",
        "    y_valid,\n",
        "    display_labels=[\"Non fraud\", \"fraud\"],\n",
        "    values_format=\"d\",\n",
        "    cmap=plt.cm.Blues,\n",
        ");"
      ]
    },
    {
      "cell_type": "code",
      "execution_count": null,
      "id": "323abc5d",
      "metadata": {
        "id": "323abc5d",
        "outputId": "19f24cbf-bc46-4090-a11d-3c31fbcd3da7"
      },
      "outputs": [
        {
          "name": "stdout",
          "output_type": "stream",
          "text": [
            "TP = 64.0000, FP = 8.0000\n",
            "Precision: 0.8889\n"
          ]
        }
      ],
      "source": [
        "print(\"TP = %0.4f, FP = %0.4f\" % (TP, FP))\n",
        "precision = TP / (TP + FP)\n",
        "print(\"Precision: %0.4f\" % (precision))"
      ]
    },
    {
      "cell_type": "code",
      "execution_count": null,
      "id": "4df930c2",
      "metadata": {
        "id": "4df930c2"
      },
      "outputs": [],
      "source": []
    },
    {
      "cell_type": "markdown",
      "id": "e812ab14",
      "metadata": {
        "id": "e812ab14"
      },
      "source": [
        "### F1-score\n",
        "\n",
        "- F1-score combines precision and recall to give one score, which could be used in hyperparameter optimization, for instance.\n",
        "- F1-score is a harmonic mean of precision and recall.\n",
        "\n",
        "\n",
        "$$ f1 = 2 \\times \\frac{ precision \\times recall}{precision + recall}$$\n"
      ]
    },
    {
      "cell_type": "code",
      "execution_count": null,
      "id": "ab4104db",
      "metadata": {
        "id": "ab4104db",
        "outputId": "7c028fb1-b8fb-40ca-b3c3-f4fc7f36c1f5"
      },
      "outputs": [
        {
          "name": "stdout",
          "output_type": "stream",
          "text": [
            "precision: 0.8889\n",
            "recall: 0.6275\n",
            "f1: 0.7356\n"
          ]
        }
      ],
      "source": [
        "print(\"precision: %0.4f\" % (precision))\n",
        "print(\"recall: %0.4f\" % (recall))\n",
        "f1_score = (2 * precision * recall) / (precision + recall)\n",
        "print(\"f1: %0.4f\" % (f1_score))"
      ]
    },
    {
      "cell_type": "code",
      "execution_count": null,
      "id": "242b475f",
      "metadata": {
        "id": "242b475f"
      },
      "outputs": [],
      "source": []
    },
    {
      "cell_type": "markdown",
      "id": "86e5e14c",
      "metadata": {
        "id": "86e5e14c"
      },
      "source": [
        "Let's look at all metrics at once on our dataset."
      ]
    },
    {
      "cell_type": "code",
      "execution_count": null,
      "id": "c428b216",
      "metadata": {
        "id": "c428b216",
        "outputId": "c337673f-c78d-4838-e7ee-16223ca3d98c"
      },
      "outputs": [
        {
          "data": {
            "text/html": [
              "<div>\n",
              "<style scoped>\n",
              "    .dataframe tbody tr th:only-of-type {\n",
              "        vertical-align: middle;\n",
              "    }\n",
              "\n",
              "    .dataframe tbody tr th {\n",
              "        vertical-align: top;\n",
              "    }\n",
              "\n",
              "    .dataframe thead th {\n",
              "        text-align: right;\n",
              "    }\n",
              "</style>\n",
              "<table border=\"1\" class=\"dataframe\">\n",
              "  <thead>\n",
              "    <tr style=\"text-align: right;\">\n",
              "      <th></th>\n",
              "      <th>calculation</th>\n",
              "      <th>accuracy</th>\n",
              "      <th>error</th>\n",
              "      <th>precision</th>\n",
              "      <th>recall</th>\n",
              "      <th>f1 score</th>\n",
              "    </tr>\n",
              "  </thead>\n",
              "  <tbody>\n",
              "    <tr>\n",
              "      <th>0</th>\n",
              "      <td>manual</td>\n",
              "      <td>0.999231</td>\n",
              "      <td>0.000769</td>\n",
              "      <td>0.888889</td>\n",
              "      <td>0.627451</td>\n",
              "      <td>0.735632</td>\n",
              "    </tr>\n",
              "  </tbody>\n",
              "</table>\n",
              "</div>"
            ],
            "text/plain": [
              "  calculation  accuracy     error  precision    recall  f1 score\n",
              "0      manual  0.999231  0.000769   0.888889  0.627451  0.735632"
            ]
          },
          "execution_count": 23,
          "metadata": {},
          "output_type": "execute_result"
        }
      ],
      "source": [
        "## Calculate evaluation metrics by ourselves\n",
        "data = {\n",
        "    \"calculation\": [],\n",
        "    \"accuracy\": [],\n",
        "    \"error\": [],\n",
        "    \"precision\": [],\n",
        "    \"recall\": [],\n",
        "    \"f1 score\": [],\n",
        "}\n",
        "data[\"calculation\"].append(\"manual\")\n",
        "data[\"accuracy\"].append((TP + TN) / (TN + FP + FN + TP))\n",
        "data[\"error\"].append((FP + FN) / (TN + FP + FN + TP))\n",
        "data[\"precision\"].append(precision)  # TP / (TP + FP)\n",
        "data[\"recall\"].append(recall)  # TP / (TP + FN)\n",
        "data[\"f1 score\"].append(f1_score)  # (2 * precision * recall) / (precision + recall)\n",
        "df = pd.DataFrame(data)\n",
        "df"
      ]
    },
    {
      "cell_type": "code",
      "execution_count": null,
      "id": "531ec952",
      "metadata": {
        "id": "531ec952"
      },
      "outputs": [],
      "source": []
    },
    {
      "cell_type": "markdown",
      "id": "cf2c0d86",
      "metadata": {
        "id": "cf2c0d86"
      },
      "source": [
        "- `scikit-learn` has functions for [these metrics](https://scikit-learn.org/stable/modules/classes.html#module-sklearn.metrics)."
      ]
    },
    {
      "cell_type": "code",
      "execution_count": null,
      "id": "3a29167c",
      "metadata": {
        "id": "3a29167c",
        "outputId": "75ba3171-1157-4041-b5a5-66e68e4b7400"
      },
      "outputs": [
        {
          "data": {
            "text/html": [
              "<div>\n",
              "<style scoped>\n",
              "    .dataframe tbody tr th:only-of-type {\n",
              "        vertical-align: middle;\n",
              "    }\n",
              "\n",
              "    .dataframe tbody tr th {\n",
              "        vertical-align: top;\n",
              "    }\n",
              "\n",
              "    .dataframe thead th {\n",
              "        text-align: right;\n",
              "    }\n",
              "</style>\n",
              "<table border=\"1\" class=\"dataframe\">\n",
              "  <thead>\n",
              "    <tr style=\"text-align: right;\">\n",
              "      <th></th>\n",
              "      <th>accuracy</th>\n",
              "      <th>error</th>\n",
              "      <th>precision</th>\n",
              "      <th>recall</th>\n",
              "      <th>f1 score</th>\n",
              "    </tr>\n",
              "    <tr>\n",
              "      <th>calculation</th>\n",
              "      <th></th>\n",
              "      <th></th>\n",
              "      <th></th>\n",
              "      <th></th>\n",
              "      <th></th>\n",
              "    </tr>\n",
              "  </thead>\n",
              "  <tbody>\n",
              "    <tr>\n",
              "      <th>manual</th>\n",
              "      <td>0.999231</td>\n",
              "      <td>0.000769</td>\n",
              "      <td>0.888889</td>\n",
              "      <td>0.627451</td>\n",
              "      <td>0.735632</td>\n",
              "    </tr>\n",
              "    <tr>\n",
              "      <th>sklearn</th>\n",
              "      <td>0.999231</td>\n",
              "      <td>0.000769</td>\n",
              "      <td>0.888889</td>\n",
              "      <td>0.627451</td>\n",
              "      <td>0.735632</td>\n",
              "    </tr>\n",
              "  </tbody>\n",
              "</table>\n",
              "</div>"
            ],
            "text/plain": [
              "             accuracy     error  precision    recall  f1 score\n",
              "calculation                                                   \n",
              "manual       0.999231  0.000769   0.888889  0.627451  0.735632\n",
              "sklearn      0.999231  0.000769   0.888889  0.627451  0.735632"
            ]
          },
          "execution_count": 24,
          "metadata": {},
          "output_type": "execute_result"
        }
      ],
      "source": [
        "from sklearn.metrics import accuracy_score, f1_score, precision_score, recall_score\n",
        "\n",
        "data[\"accuracy\"].append(accuracy_score(y_valid, pipe_lr.predict(X_valid)))\n",
        "data[\"error\"].append(1 - accuracy_score(y_valid, pipe_lr.predict(X_valid)))\n",
        "data[\"precision\"].append(\n",
        "    precision_score(y_valid, pipe_lr.predict(X_valid), zero_division=1)\n",
        ")\n",
        "data[\"recall\"].append(recall_score(y_valid, pipe_lr.predict(X_valid)))\n",
        "data[\"f1 score\"].append(f1_score(y_valid, pipe_lr.predict(X_valid)))\n",
        "data[\"calculation\"].append(\"sklearn\")\n",
        "df = pd.DataFrame(data)\n",
        "df.set_index([\"calculation\"])"
      ]
    },
    {
      "cell_type": "code",
      "execution_count": null,
      "id": "ad1edd4e",
      "metadata": {
        "id": "ad1edd4e"
      },
      "outputs": [],
      "source": []
    },
    {
      "cell_type": "markdown",
      "id": "cc90b062",
      "metadata": {
        "id": "cc90b062"
      },
      "source": [
        "### Classification report"
      ]
    },
    {
      "cell_type": "markdown",
      "id": "44ab3c2c",
      "metadata": {
        "id": "44ab3c2c"
      },
      "source": [
        "- There is a convenient function called `classification_report` in `sklearn` which gives this info."
      ]
    },
    {
      "cell_type": "code",
      "execution_count": null,
      "id": "fa453ff3",
      "metadata": {
        "id": "fa453ff3",
        "outputId": "ca050859-ade8-46bc-8291-817e7488f449"
      },
      "outputs": [
        {
          "data": {
            "text/plain": [
              "array([0, 1], dtype=int64)"
            ]
          },
          "execution_count": 25,
          "metadata": {},
          "output_type": "execute_result"
        }
      ],
      "source": [
        "pipe_lr.classes_"
      ]
    },
    {
      "cell_type": "code",
      "execution_count": null,
      "id": "4cc8ab42",
      "metadata": {
        "id": "4cc8ab42",
        "outputId": "23333ec2-73c9-4eaf-c2da-7f617c55af25"
      },
      "outputs": [
        {
          "name": "stdout",
          "output_type": "stream",
          "text": [
            "              precision    recall  f1-score   support\n",
            "\n",
            "   non-fraud       1.00      1.00      1.00     59708\n",
            "       fraud       0.89      0.63      0.74       102\n",
            "\n",
            "    accuracy                           1.00     59810\n",
            "   macro avg       0.94      0.81      0.87     59810\n",
            "weighted avg       1.00      1.00      1.00     59810\n",
            "\n"
          ]
        }
      ],
      "source": [
        "from sklearn.metrics import classification_report\n",
        "\n",
        "print(\n",
        "    classification_report(\n",
        "        y_valid, pipe_lr.predict(X_valid), target_names=[\"non-fraud\", \"fraud\"]\n",
        "    )\n",
        ")"
      ]
    },
    {
      "cell_type": "markdown",
      "id": "c066bd92",
      "metadata": {
        "id": "c066bd92"
      },
      "source": [
        "### Macro average\n",
        "\n",
        "- You give equal importance to all classes and average over all classes.  \n",
        "- For instance, in the example above, recall for non-fraud is 1.0 and fraud is 0.63, and so macro average is 0.81.\n",
        "- More relevant in case of multi-class problems.    "
      ]
    },
    {
      "cell_type": "code",
      "execution_count": null,
      "id": "f501f290",
      "metadata": {
        "id": "f501f290"
      },
      "outputs": [],
      "source": []
    },
    {
      "cell_type": "markdown",
      "id": "f505ee7c",
      "metadata": {
        "id": "f505ee7c"
      },
      "source": [
        "### Weighted average\n",
        "\n",
        "- Weighted by the number of samples in each class.\n",
        "- Divide by the total number of samples.\n",
        "\n",
        "Which one is relevant when depends upon whether you think each class should have the same weight or each sample should have the same weight."
      ]
    },
    {
      "cell_type": "code",
      "execution_count": null,
      "id": "2e542127",
      "metadata": {
        "id": "2e542127"
      },
      "outputs": [],
      "source": []
    },
    {
      "cell_type": "markdown",
      "id": "5d3de234",
      "metadata": {
        "id": "5d3de234"
      },
      "source": [
        "### Example\n"
      ]
    },
    {
      "cell_type": "code",
      "execution_count": null,
      "id": "7b40092b",
      "metadata": {
        "id": "7b40092b",
        "outputId": "7e0470c3-9e15-43e2-ecd9-100568c07dad"
      },
      "outputs": [
        {
          "name": "stdout",
          "output_type": "stream",
          "text": [
            "              precision    recall  f1-score   support\n",
            "\n",
            "     class 0       0.75      1.00      0.86         3\n",
            "     class 1       1.00      0.50      0.67         2\n",
            "\n",
            "    accuracy                           0.80         5\n",
            "   macro avg       0.88      0.75      0.76         5\n",
            "weighted avg       0.85      0.80      0.78         5\n",
            "\n"
          ]
        }
      ],
      "source": [
        "from sklearn.metrics import classification_report\n",
        "y_true = [0, 1, 0, 1, 0]\n",
        "y_pred = [0, 0, 0, 1, 0]\n",
        "target_names = ['class 0', 'class 1']\n",
        "print(classification_report(y_true, y_pred, target_names=target_names))"
      ]
    },
    {
      "cell_type": "markdown",
      "id": "c7761c56",
      "metadata": {
        "id": "c7761c56"
      },
      "source": [
        "- weighted average is weighted by the proportion of examples in a particular class. So for the toy example above:\n",
        "- weighted_average precision: 3/5 * 0.75 + 2/5 * 1.00 = 0.85\n",
        "- weighted_average recall: 3/5 * 1.00 + 2/5 * 0.5 = 0.80\n",
        "- weighted_average f1-score: 3/5 * 0.86 + 2/5 * 0.67 = 0.78"
      ]
    },
    {
      "cell_type": "markdown",
      "id": "6d4fb495",
      "metadata": {
        "id": "6d4fb495"
      },
      "source": [
        "- macro average gives equal weight to both classes. So for the toy example above:\n",
        "- macro average precision: 0.5 * 0.75 + 0.5 * 1.00 =0. 875\n",
        "- macro average recall: 0.5 * 1.00 + 0.5 * 0.5 =0. 75\n",
        "- macro average f1-score: 0.5 * 0.75 + 0.5 * 1.00 =0.765"
      ]
    },
    {
      "cell_type": "code",
      "execution_count": null,
      "id": "6fd84599",
      "metadata": {
        "id": "6fd84599"
      },
      "outputs": [],
      "source": []
    },
    {
      "cell_type": "markdown",
      "id": "19174f93",
      "metadata": {
        "id": "19174f93"
      },
      "source": [
        "## Insights:"
      ]
    },
    {
      "cell_type": "markdown",
      "id": "53fe037e",
      "metadata": {
        "id": "53fe037e"
      },
      "source": [
        "- Accuracy is misleading when you have class imbalance.\n",
        "- A confusion matrix provides a way to break down errors made by our model.\n",
        "- We looked at three metrics based on confusion matrix:\n",
        "    - precision, recall, f1-score."
      ]
    },
    {
      "cell_type": "markdown",
      "id": "1dd0351a",
      "metadata": {
        "id": "1dd0351a"
      },
      "source": [
        "- Note that what you consider \"positive\" (fraud in our case) is important when calculating precision, recall, and f1-score.\n",
        "- If you flip what is considered positive or negative, we'll end up with different TP, FP, TN, FN, and hence different precision, recall, and f1-scores."
      ]
    },
    {
      "cell_type": "code",
      "execution_count": null,
      "id": "9d5e32d1",
      "metadata": {
        "id": "9d5e32d1"
      },
      "outputs": [],
      "source": []
    },
    {
      "cell_type": "markdown",
      "id": "ba99fdd0",
      "metadata": {
        "id": "ba99fdd0"
      },
      "source": [
        "### Cross validation with different metrics\n",
        "\n",
        "- We can pass different evaluation metrics with `scoring` argument of `cross_validate`."
      ]
    },
    {
      "cell_type": "code",
      "execution_count": null,
      "id": "9fc2a8e5",
      "metadata": {
        "id": "9fc2a8e5",
        "outputId": "f16e202f-4e88-49fa-db22-acd507299624"
      },
      "outputs": [
        {
          "data": {
            "text/html": [
              "<div>\n",
              "<style scoped>\n",
              "    .dataframe tbody tr th:only-of-type {\n",
              "        vertical-align: middle;\n",
              "    }\n",
              "\n",
              "    .dataframe tbody tr th {\n",
              "        vertical-align: top;\n",
              "    }\n",
              "\n",
              "    .dataframe thead th {\n",
              "        text-align: right;\n",
              "    }\n",
              "</style>\n",
              "<table border=\"1\" class=\"dataframe\">\n",
              "  <thead>\n",
              "    <tr style=\"text-align: right;\">\n",
              "      <th></th>\n",
              "      <th>fit_time</th>\n",
              "      <th>score_time</th>\n",
              "      <th>test_accuracy</th>\n",
              "      <th>train_accuracy</th>\n",
              "      <th>test_f1</th>\n",
              "      <th>train_f1</th>\n",
              "      <th>test_recall</th>\n",
              "      <th>train_recall</th>\n",
              "      <th>test_precision</th>\n",
              "      <th>train_precision</th>\n",
              "    </tr>\n",
              "  </thead>\n",
              "  <tbody>\n",
              "    <tr>\n",
              "      <th>0</th>\n",
              "      <td>0.556995</td>\n",
              "      <td>0.039999</td>\n",
              "      <td>0.999097</td>\n",
              "      <td>0.999360</td>\n",
              "      <td>0.694915</td>\n",
              "      <td>0.782979</td>\n",
              "      <td>0.602941</td>\n",
              "      <td>0.678967</td>\n",
              "      <td>0.820000</td>\n",
              "      <td>0.924623</td>\n",
              "    </tr>\n",
              "    <tr>\n",
              "      <th>1</th>\n",
              "      <td>0.556001</td>\n",
              "      <td>0.031000</td>\n",
              "      <td>0.999223</td>\n",
              "      <td>0.999317</td>\n",
              "      <td>0.739496</td>\n",
              "      <td>0.766595</td>\n",
              "      <td>0.647059</td>\n",
              "      <td>0.660517</td>\n",
              "      <td>0.862745</td>\n",
              "      <td>0.913265</td>\n",
              "    </tr>\n",
              "    <tr>\n",
              "      <th>2</th>\n",
              "      <td>0.556000</td>\n",
              "      <td>0.031999</td>\n",
              "      <td>0.999273</td>\n",
              "      <td>0.999216</td>\n",
              "      <td>0.743363</td>\n",
              "      <td>0.726477</td>\n",
              "      <td>0.617647</td>\n",
              "      <td>0.612546</td>\n",
              "      <td>0.933333</td>\n",
              "      <td>0.892473</td>\n",
              "    </tr>\n",
              "    <tr>\n",
              "      <th>3</th>\n",
              "      <td>0.547998</td>\n",
              "      <td>0.041000</td>\n",
              "      <td>0.999172</td>\n",
              "      <td>0.999254</td>\n",
              "      <td>0.697248</td>\n",
              "      <td>0.742981</td>\n",
              "      <td>0.558824</td>\n",
              "      <td>0.634686</td>\n",
              "      <td>0.926829</td>\n",
              "      <td>0.895833</td>\n",
              "    </tr>\n",
              "    <tr>\n",
              "      <th>4</th>\n",
              "      <td>0.549001</td>\n",
              "      <td>0.037000</td>\n",
              "      <td>0.999147</td>\n",
              "      <td>0.999216</td>\n",
              "      <td>0.696429</td>\n",
              "      <td>0.728850</td>\n",
              "      <td>0.582090</td>\n",
              "      <td>0.617647</td>\n",
              "      <td>0.866667</td>\n",
              "      <td>0.888889</td>\n",
              "    </tr>\n",
              "  </tbody>\n",
              "</table>\n",
              "</div>"
            ],
            "text/plain": [
              "   fit_time  score_time  test_accuracy  train_accuracy   test_f1  train_f1  \\\n",
              "0  0.556995    0.039999       0.999097        0.999360  0.694915  0.782979   \n",
              "1  0.556001    0.031000       0.999223        0.999317  0.739496  0.766595   \n",
              "2  0.556000    0.031999       0.999273        0.999216  0.743363  0.726477   \n",
              "3  0.547998    0.041000       0.999172        0.999254  0.697248  0.742981   \n",
              "4  0.549001    0.037000       0.999147        0.999216  0.696429  0.728850   \n",
              "\n",
              "   test_recall  train_recall  test_precision  train_precision  \n",
              "0     0.602941      0.678967        0.820000         0.924623  \n",
              "1     0.647059      0.660517        0.862745         0.913265  \n",
              "2     0.617647      0.612546        0.933333         0.892473  \n",
              "3     0.558824      0.634686        0.926829         0.895833  \n",
              "4     0.582090      0.617647        0.866667         0.888889  "
            ]
          },
          "execution_count": 28,
          "metadata": {},
          "output_type": "execute_result"
        }
      ],
      "source": [
        "scoring = [\n",
        "    \"accuracy\",\n",
        "    \"f1\",\n",
        "    \"recall\",\n",
        "    \"precision\",\n",
        "]  # scoring can be a string, a list, or a dictionary\n",
        "pipe = make_pipeline(StandardScaler(), LogisticRegression())\n",
        "scores = cross_validate(\n",
        "    pipe, X_train_big, y_train_big, return_train_score=True, scoring=scoring\n",
        ")\n",
        "pd.DataFrame(scores)"
      ]
    },
    {
      "cell_type": "code",
      "execution_count": null,
      "id": "97884084",
      "metadata": {
        "id": "97884084"
      },
      "outputs": [],
      "source": []
    },
    {
      "cell_type": "markdown",
      "id": "1b9883f3",
      "metadata": {
        "id": "1b9883f3"
      },
      "source": [
        "**Select all of the following statements which are TRUE.**\n",
        "\n",
        "- (A) In medical diagnosis, false positives are likely to be more damaging than false negatives (assume \"positive\" means the person has a disease, \"negative\" means they don't).\n",
        "- (B) In spam classification, false positives are more damaging than false negatives (assume \"positive\" means the email is spam, \"negative\" means it's not).\n",
        "- (C) If method A gets a higher accuracy than method B, that means its precision is also higher.\n",
        "- (D) If method A gets a higher accuracy than method B, that means its recall is also higher."
      ]
    },
    {
      "cell_type": "markdown",
      "id": "85581d63",
      "metadata": {
        "id": "85581d63"
      },
      "source": [
        "Method A - higher accuracy but lower precision\n",
        "\n",
        "| Negative | Positive\n",
        "| -------- |:-------------:|\n",
        "| 90      | 5|\n",
        "| 5      | 0|\n",
        "\n",
        "Method B - lower accuracy but higher precision\n",
        "\n",
        "| Negative | Positive\n",
        "| -------- |:-------------:|\n",
        "| 80      | 15|\n",
        "| 0      | 5|\n",
        "\n"
      ]
    },
    {
      "cell_type": "code",
      "execution_count": null,
      "id": "3266e4f7",
      "metadata": {
        "id": "3266e4f7"
      },
      "outputs": [],
      "source": []
    }
  ],
  "metadata": {
    "kernelspec": {
      "display_name": "Python 3 (ipykernel)",
      "language": "python",
      "name": "python3"
    },
    "language_info": {
      "codemirror_mode": {
        "name": "ipython",
        "version": 3
      },
      "file_extension": ".py",
      "mimetype": "text/x-python",
      "name": "python",
      "nbconvert_exporter": "python",
      "pygments_lexer": "ipython3",
      "version": "3.8.16"
    },
    "colab": {
      "provenance": [],
      "collapsed_sections": [
        "7ae88457",
        "70fe8d43",
        "1d58b0a5"
      ]
    }
  },
  "nbformat": 4,
  "nbformat_minor": 5
}