{
  "cells": [
    {
      "cell_type": "markdown",
      "id": "69b6a441",
      "metadata": {
        "id": "69b6a441"
      },
      "source": [
        "# Week 5, Lecture 2: $K$-Nearest Neighbours\n",
        "MTU Spring 2025\n",
        "\n",
        "Instructor: Amna Mazen"
      ]
    },
    {
      "cell_type": "code",
      "execution_count": null,
      "id": "5a274d5f",
      "metadata": {
        "id": "5a274d5f"
      },
      "outputs": [],
      "source": []
    },
    {
      "cell_type": "markdown",
      "id": "bca36d4a",
      "metadata": {
        "id": "bca36d4a"
      },
      "source": [
        "### Learning outcomes\n",
        "\n",
        "From this lecture, you will be able to\n",
        "\n",
        "- explain the notion of similarity-based algorithms;\n",
        "- broadly describe how $k$-NNs use distances;\n",
        "- discuss the effect of using a small/large value of the hyperparameter $k$ when using the $k$-NN algorithm;\n",
        "- describe the problem of curse of dimensionality."
      ]
    },
    {
      "cell_type": "code",
      "execution_count": 3,
      "id": "e2cd86ed",
      "metadata": {
        "id": "e2cd86ed"
      },
      "outputs": [],
      "source": [
        "#!pip install ipywidgets"
      ]
    },
    {
      "cell_type": "markdown",
      "id": "bbd3b1ec",
      "metadata": {
        "id": "bbd3b1ec"
      },
      "source": [
        "## Import"
      ]
    },
    {
      "cell_type": "code",
      "source": [
        "!pip install mglearn"
      ],
      "metadata": {
        "colab": {
          "base_uri": "https://localhost:8080/"
        },
        "id": "WGOP-Dm66haZ",
        "outputId": "16689e96-4840-41de-dfec-b7fb16caad81"
      },
      "id": "WGOP-Dm66haZ",
      "execution_count": 4,
      "outputs": [
        {
          "output_type": "stream",
          "name": "stdout",
          "text": [
            "Collecting mglearn\n",
            "  Downloading mglearn-0.2.0-py2.py3-none-any.whl.metadata (628 bytes)\n",
            "Requirement already satisfied: numpy in /usr/local/lib/python3.11/dist-packages (from mglearn) (1.26.4)\n",
            "Requirement already satisfied: matplotlib in /usr/local/lib/python3.11/dist-packages (from mglearn) (3.10.0)\n",
            "Requirement already satisfied: scikit-learn in /usr/local/lib/python3.11/dist-packages (from mglearn) (1.6.1)\n",
            "Requirement already satisfied: pandas in /usr/local/lib/python3.11/dist-packages (from mglearn) (2.2.2)\n",
            "Requirement already satisfied: pillow in /usr/local/lib/python3.11/dist-packages (from mglearn) (11.1.0)\n",
            "Requirement already satisfied: cycler in /usr/local/lib/python3.11/dist-packages (from mglearn) (0.12.1)\n",
            "Requirement already satisfied: imageio in /usr/local/lib/python3.11/dist-packages (from mglearn) (2.36.1)\n",
            "Requirement already satisfied: joblib in /usr/local/lib/python3.11/dist-packages (from mglearn) (1.4.2)\n",
            "Requirement already satisfied: contourpy>=1.0.1 in /usr/local/lib/python3.11/dist-packages (from matplotlib->mglearn) (1.3.1)\n",
            "Requirement already satisfied: fonttools>=4.22.0 in /usr/local/lib/python3.11/dist-packages (from matplotlib->mglearn) (4.55.7)\n",
            "Requirement already satisfied: kiwisolver>=1.3.1 in /usr/local/lib/python3.11/dist-packages (from matplotlib->mglearn) (1.4.8)\n",
            "Requirement already satisfied: packaging>=20.0 in /usr/local/lib/python3.11/dist-packages (from matplotlib->mglearn) (24.2)\n",
            "Requirement already satisfied: pyparsing>=2.3.1 in /usr/local/lib/python3.11/dist-packages (from matplotlib->mglearn) (3.2.1)\n",
            "Requirement already satisfied: python-dateutil>=2.7 in /usr/local/lib/python3.11/dist-packages (from matplotlib->mglearn) (2.8.2)\n",
            "Requirement already satisfied: pytz>=2020.1 in /usr/local/lib/python3.11/dist-packages (from pandas->mglearn) (2024.2)\n",
            "Requirement already satisfied: tzdata>=2022.7 in /usr/local/lib/python3.11/dist-packages (from pandas->mglearn) (2025.1)\n",
            "Requirement already satisfied: scipy>=1.6.0 in /usr/local/lib/python3.11/dist-packages (from scikit-learn->mglearn) (1.13.1)\n",
            "Requirement already satisfied: threadpoolctl>=3.1.0 in /usr/local/lib/python3.11/dist-packages (from scikit-learn->mglearn) (3.5.0)\n",
            "Requirement already satisfied: six>=1.5 in /usr/local/lib/python3.11/dist-packages (from python-dateutil>=2.7->matplotlib->mglearn) (1.17.0)\n",
            "Downloading mglearn-0.2.0-py2.py3-none-any.whl (581 kB)\n",
            "\u001b[2K   \u001b[90m━━━━━━━━━━━━━━━━━━━━━━━━━━━━━━━━━━━━━━━━\u001b[0m \u001b[32m581.4/581.4 kB\u001b[0m \u001b[31m5.4 MB/s\u001b[0m eta \u001b[36m0:00:00\u001b[0m\n",
            "\u001b[?25hInstalling collected packages: mglearn\n",
            "Successfully installed mglearn-0.2.0\n"
          ]
        }
      ]
    },
    {
      "cell_type": "code",
      "execution_count": 15,
      "id": "8b28c5a8",
      "metadata": {
        "id": "8b28c5a8"
      },
      "outputs": [],
      "source": [
        "import sys\n",
        "\n",
        "import IPython\n",
        "import matplotlib.pyplot as plt\n",
        "import numpy as np\n",
        "import pandas as pd\n",
        "from IPython.display import HTML\n",
        "\n",
        "#sys.path.append(\"code/.\")\n",
        "\n",
        "import mglearn\n",
        "from IPython.display import display\n",
        "#from plotting_functions import *\n",
        "from sklearn.dummy import DummyClassifier\n",
        "from sklearn.model_selection import cross_validate, train_test_split\n",
        "#from utils import *\n",
        "from ipywidgets import interact, interactive\n",
        "import ipywidgets as widgets\n",
        "from sklearn.neighbors import KNeighborsClassifier, KNeighborsRegressor\n",
        "from sklearn.metrics.pairwise import euclidean_distances\n",
        "%matplotlib inline\n",
        "\n",
        "pd.set_option(\"display.max_colwidth\", 200)\n",
        "import warnings\n",
        "\n",
        "warnings.filterwarnings(\"ignore\")"
      ]
    },
    {
      "cell_type": "markdown",
      "id": "8ed9aa96",
      "metadata": {
        "id": "8ed9aa96"
      },
      "source": [
        "## K Nearest Neighbors (KNN)\n",
        "\n",
        "- It was first introduced in early 1950s\n",
        "- Nonparametric model\n",
        "- Instance-based learning\n",
        "- Lazy learner\n",
        "- Widely used in pattern classification\n"
      ]
    },
    {
      "cell_type": "markdown",
      "id": "fb57fa22",
      "metadata": {
        "id": "fb57fa22"
      },
      "source": [
        "### General idea of $k$-nearest neighbours algorithm\n",
        "\n",
        "- Consider the following toy dataset with two classes.\n",
        "    - blue circles $\\rightarrow$ class 0\n",
        "    - red triangles $\\rightarrow$ class 1\n",
        "    - green stars $\\rightarrow$ test examples"
      ]
    },
    {
      "cell_type": "code",
      "execution_count": 6,
      "id": "3ec31d44",
      "metadata": {
        "id": "3ec31d44"
      },
      "outputs": [],
      "source": [
        "X, y = mglearn.datasets.make_forge()\n",
        "X_test = np.array([[8.2, 3.66214339], [9.9, 3.2], [11.2, 0.5]])"
      ]
    },
    {
      "cell_type": "code",
      "source": [
        "def plot_train_test_points(X_train, y_train, X_test, class_names=['class 0','class 1'], test_format='star'):\n",
        "    training_points = mglearn.discrete_scatter(X_train[:, 0], X_train[:, 1], y_train)\n",
        "    if test_format == \"circle\":\n",
        "        test_points = mglearn.discrete_scatter(\n",
        "                X_test[:, 0], X_test[:, 1], markers=\"o\", c='k', s=18\n",
        "            );\n",
        "    else:\n",
        "        test_points = mglearn.discrete_scatter(\n",
        "                X_test[:, 0], X_test[:, 1], markers=\"*\", c='g', s=16\n",
        "            );\n",
        "    plt.legend(\n",
        "        training_points + test_points,\n",
        "        [class_names[0], class_names[1], \"test point(s)\"],\n",
        "    )"
      ],
      "metadata": {
        "id": "6wqvlfKblClm"
      },
      "id": "6wqvlfKblClm",
      "execution_count": 8,
      "outputs": []
    },
    {
      "cell_type": "code",
      "execution_count": 9,
      "id": "8ec9ec22",
      "metadata": {
        "id": "8ec9ec22",
        "outputId": "e3f88f12-24c9-418c-8e72-303dadae8ab8",
        "colab": {
          "base_uri": "https://localhost:8080/",
          "height": 430
        }
      },
      "outputs": [
        {
          "output_type": "display_data",
          "data": {
            "text/plain": [
              "<Figure size 640x480 with 1 Axes>"
            ],
            "image/png": "[encoded data removed]"
          },
          "metadata": {}
        }
      ],
      "source": [
        "plot_train_test_points(X, y, X_test)"
      ]
    },
    {
      "cell_type": "markdown",
      "id": "35ca4b02",
      "metadata": {
        "id": "35ca4b02"
      },
      "source": [
        "- Given a new data point, predict the class of the data point by finding the \"closest\" data point in the training set, i.e., by finding its \"nearest neighbour\" or majority vote of nearest neighbours."
      ]
    },
    {
      "cell_type": "code",
      "source": [
        "def plot_knn_clf(X_train, y_train, X_test, n_neighbors=1, class_names=['class 0','class 1'], test_format='star'):\n",
        "    # credit: This function is based on: https://github.com/amueller/mglearn/blob/master/mglearn/plot_knn_classification.py\n",
        "    plt.clf()\n",
        "    print('n_neighbors', n_neighbors)\n",
        "    dist = euclidean_distances(X_train, X_test)\n",
        "    closest = np.argsort(dist, axis=0)\n",
        "    clf = KNeighborsClassifier(n_neighbors=n_neighbors).fit(X_train, y_train)\n",
        "    plot_train_test_points(X_train, y_train, X_test, class_names, test_format)\n",
        "    for x, neighbors in zip(X_test, closest.T):\n",
        "        for neighbor in neighbors[:n_neighbors]:\n",
        "            plt.arrow(\n",
        "                x[0],\n",
        "                x[1],\n",
        "                X_train[neighbor, 0] - x[0],\n",
        "                X_train[neighbor, 1] - x[1],\n",
        "                head_width=0,\n",
        "                fc=\"k\",\n",
        "                ec=\"k\",\n",
        "            )\n",
        "    plt.show()"
      ],
      "metadata": {
        "id": "jh_k9ts5kqCy"
      },
      "id": "jh_k9ts5kqCy",
      "execution_count": 10,
      "outputs": []
    },
    {
      "cell_type": "code",
      "execution_count": 11,
      "id": "69629f3c",
      "metadata": {
        "id": "69629f3c"
      },
      "outputs": [],
      "source": [
        "def f(n_neighbors):\n",
        "    return plot_knn_clf(X, y, X_test, n_neighbors=n_neighbors)"
      ]
    },
    {
      "cell_type": "code",
      "execution_count": 16,
      "id": "3f0b53c2",
      "metadata": {
        "colab": {
          "referenced_widgets": [
            "562989dccd1640adb8690bfdce268968",
            "5175b401f9c24a93be25aa1abdbe04ed",
            "781e96d2063f407ea5742227dac35cf8",
            "bc987a5a72e54c14a84541518dd9b09a",
            "65883695a4874b0392e1e4c0bb8f353b",
            "02cb8701e189441a8d4d39572fd6e8e7",
            "4c389321ce354bdaa49c036cb63a8230"
          ],
          "base_uri": "https://localhost:8080/",
          "height": 480
        },
        "id": "3f0b53c2",
        "outputId": "60e41bab-4e38-4e7e-d729-dab6b28a49a2"
      },
      "outputs": [
        {
          "output_type": "display_data",
          "data": {
            "text/plain": [
              "interactive(children=(IntSlider(value=1, description='n_neighbors', max=10, min=1, step=2), Output()), _dom_cl…"
            ],
            "application/vnd.jupyter.widget-view+json": {
              "version_major": 2,
              "version_minor": 0,
              "model_id": "562989dccd1640adb8690bfdce268968"
            }
          },
          "metadata": {}
        }
      ],
      "source": [
        "interactive(\n",
        "    f,\n",
        "    n_neighbors=widgets.IntSlider(min=1, max=10, step=2, value=1),\n",
        ")"
      ]
    },
    {
      "cell_type": "code",
      "execution_count": null,
      "id": "83b7deeb",
      "metadata": {
        "id": "83b7deeb"
      },
      "outputs": [],
      "source": []
    },
    {
      "cell_type": "markdown",
      "id": "37ba55d7",
      "metadata": {
        "id": "37ba55d7"
      },
      "source": [
        "## City Example"
      ]
    },
    {
      "cell_type": "code",
      "execution_count": 17,
      "id": "8e60c983",
      "metadata": {
        "id": "8e60c983"
      },
      "outputs": [],
      "source": [
        "cities_df = pd.read_csv(\"https://raw.githubusercontent.com/MazenMTULab/ML_COURSE_RESOURCES/refs/heads/main/Dataset/Lecture_Dataset/canada_usa_cities.csv\")\n",
        "small_cities = cities_df.sample(30, random_state=90)\n",
        "one_city = small_cities.sample(1, random_state=44)\n",
        "small_train_df = pd.concat([small_cities, one_city]).drop_duplicates(keep=False)"
      ]
    },
    {
      "cell_type": "code",
      "execution_count": 18,
      "id": "7b846156",
      "metadata": {
        "id": "7b846156"
      },
      "outputs": [],
      "source": [
        "\n",
        "X_small_cities = small_train_df.drop(columns=[\"country\"]).to_numpy()\n",
        "y_small_cities = small_train_df[\"country\"].to_numpy()\n",
        "test_point = one_city[[\"longitude\", \"latitude\"]].to_numpy()"
      ]
    },
    {
      "cell_type": "code",
      "execution_count": 19,
      "id": "8b145025",
      "metadata": {
        "colab": {
          "base_uri": "https://localhost:8080/",
          "height": 430
        },
        "id": "8b145025",
        "outputId": "76e138bd-6147-4625-c8b7-2c79c3ad8198"
      },
      "outputs": [
        {
          "output_type": "display_data",
          "data": {
            "text/plain": [
              "<Figure size 640x480 with 1 Axes>"
            ],
            "image/png": "[encoded data removed]"
          },
          "metadata": {}
        }
      ],
      "source": [
        "plot_train_test_points(\n",
        "    X_small_cities,\n",
        "    y_small_cities,\n",
        "    test_point,\n",
        "    class_names=[\"Canada\", \"USA\"],\n",
        "    test_format=\"circle\",\n",
        ")"
      ]
    },
    {
      "cell_type": "markdown",
      "id": "49bb67f4",
      "metadata": {
        "id": "49bb67f4"
      },
      "source": [
        "- Given a new data point, predict the class of the data point by finding the \"closest\" data point in the training set, i.e., by finding its \"nearest neighbour\" or majority vote of nearest neighbours."
      ]
    },
    {
      "cell_type": "markdown",
      "id": "f1897c93",
      "metadata": {
        "id": "f1897c93"
      },
      "source": [
        "Suppose we want to predict the class of the black point.  \n",
        "- An intuitive way to do this is predict the same label as the \"closest\" point ($k = 1$) (1-nearest neighbour)\n",
        "- We would predict a target of **USA** in this case."
      ]
    },
    {
      "cell_type": "code",
      "execution_count": 20,
      "id": "98cc9e2b",
      "metadata": {
        "colab": {
          "base_uri": "https://localhost:8080/",
          "height": 448
        },
        "id": "98cc9e2b",
        "outputId": "b92913b3-d8a1-4877-e6a9-656fb56c8e27"
      },
      "outputs": [
        {
          "output_type": "stream",
          "name": "stdout",
          "text": [
            "n_neighbors 1\n"
          ]
        },
        {
          "output_type": "display_data",
          "data": {
            "text/plain": [
              "<Figure size 640x480 with 1 Axes>"
            ],
            "image/png": "[encoded data removed]"
          },
          "metadata": {}
        }
      ],
      "source": [
        "\n",
        "plot_knn_clf(\n",
        "    X_small_cities,\n",
        "    y_small_cities,\n",
        "    test_point,\n",
        "    n_neighbors=1,\n",
        "    class_names=[\"Canada\", \"USA\"],\n",
        "    test_format=\"circle\",\n",
        ")"
      ]
    },
    {
      "cell_type": "markdown",
      "id": "55bd19e2",
      "metadata": {
        "id": "55bd19e2"
      },
      "source": [
        "How about using $k > 1$ to get a more robust estimate?\n",
        "- For example, we could also use the 3 closest points (*k* = 3) and let them **vote** on the correct class.  \n",
        "- The **Canada** class would win in this case."
      ]
    },
    {
      "cell_type": "code",
      "execution_count": 21,
      "id": "03acafc9",
      "metadata": {
        "colab": {
          "base_uri": "https://localhost:8080/",
          "height": 448
        },
        "id": "03acafc9",
        "outputId": "c323db0e-2256-4bd9-81eb-151a332a06a4"
      },
      "outputs": [
        {
          "output_type": "stream",
          "name": "stdout",
          "text": [
            "n_neighbors 3\n"
          ]
        },
        {
          "output_type": "display_data",
          "data": {
            "text/plain": [
              "<Figure size 640x480 with 1 Axes>"
            ],
            "image/png": "[encoded data removed]"
          },
          "metadata": {}
        }
      ],
      "source": [
        "plot_knn_clf(\n",
        "    X_small_cities,\n",
        "    y_small_cities,\n",
        "    test_point,\n",
        "    n_neighbors=3,\n",
        "    class_names=[\"Canada\", \"USA\"],\n",
        "    test_format=\"circle\",\n",
        ")"
      ]
    },
    {
      "cell_type": "code",
      "execution_count": 22,
      "id": "0cc5d32b",
      "metadata": {
        "colab": {
          "base_uri": "https://localhost:8080/"
        },
        "id": "0cc5d32b",
        "outputId": "35ebc726-5bda-4fce-aa7c-9c00d0017391"
      },
      "outputs": [
        {
          "output_type": "stream",
          "name": "stdout",
          "text": [
            "Prediction of the black dot with 1 neighbours: ['USA']\n",
            "Prediction of the black dot with 3 neighbours: ['Canada']\n"
          ]
        }
      ],
      "source": [
        "from sklearn.neighbors import KNeighborsClassifier\n",
        "\n",
        "k_values = [1, 3]\n",
        "\n",
        "for k in k_values:\n",
        "    neigh = KNeighborsClassifier(n_neighbors=k)\n",
        "    neigh.fit(X_small_cities, y_small_cities)\n",
        "    print(\n",
        "        \"Prediction of the black dot with %d neighbours: %s\"\n",
        "        % (k, neigh.predict(test_point))\n",
        "    )"
      ]
    },
    {
      "cell_type": "code",
      "execution_count": null,
      "id": "b7092093",
      "metadata": {
        "id": "b7092093"
      },
      "outputs": [],
      "source": []
    },
    {
      "cell_type": "markdown",
      "id": "fa2cefe4",
      "metadata": {
        "id": "fa2cefe4"
      },
      "source": [
        "### Choosing `n_neighbors`\n",
        "\n",
        "- The primary hyperparameter of the model is `n_neighbors` ($k$) which decides how many neighbours should vote during prediction?\n",
        "- What happens when we play around with `n_neighbors`?\n",
        "- Are we more likely to overfit with a low `n_neighbors` or a high `n_neighbors`?\n",
        "- Let's examine the effect of the hyperparameter on our cities data."
      ]
    },
    {
      "cell_type": "code",
      "execution_count": 23,
      "id": "8b0f1bc2",
      "metadata": {
        "id": "8b0f1bc2"
      },
      "outputs": [],
      "source": [
        "X = cities_df.drop(columns=[\"country\"])\n",
        "y = cities_df[\"country\"]\n",
        "\n",
        "# split into train and test sets\n",
        "X_train, X_test, y_train, y_test = train_test_split(\n",
        "    X, y, test_size=0.1, random_state=123\n",
        ")"
      ]
    },
    {
      "cell_type": "code",
      "execution_count": 24,
      "id": "b19d8e60",
      "metadata": {
        "colab": {
          "base_uri": "https://localhost:8080/",
          "height": 206
        },
        "id": "b19d8e60",
        "outputId": "f864127b-3a1a-4bea-a690-ede70f844c2d"
      },
      "outputs": [
        {
          "output_type": "execute_result",
          "data": {
            "text/plain": [
              "   fit_time  score_time  test_score  train_score\n",
              "0  0.003791    0.005284    0.710526          1.0\n",
              "1  0.002253    0.004490    0.684211          1.0\n",
              "2  0.002316    0.004524    0.842105          1.0\n",
              "3  0.002159    0.004389    0.702703          1.0\n",
              "4  0.002180    0.004346    0.837838          1.0"
            ],
            "text/html": [
              "\n",
              "  <div id=\"df-730751af-abe9-4525-bfcf-540a3735f637\" class=\"colab-df-container\">\n",
              "    <div>\n",
              "<style scoped>\n",
              "    .dataframe tbody tr th:only-of-type {\n",
              "        vertical-align: middle;\n",
              "    }\n",
              "\n",
              "    .dataframe tbody tr th {\n",
              "        vertical-align: top;\n",
              "    }\n",
              "\n",
              "    .dataframe thead th {\n",
              "        text-align: right;\n",
              "    }\n",
              "</style>\n",
              "<table border=\"1\" class=\"dataframe\">\n",
              "  <thead>\n",
              "    <tr style=\"text-align: right;\">\n",
              "      <th></th>\n",
              "      <th>fit_time</th>\n",
              "      <th>score_time</th>\n",
              "      <th>test_score</th>\n",
              "      <th>train_score</th>\n",
              "    </tr>\n",
              "  </thead>\n",
              "  <tbody>\n",
              "    <tr>\n",
              "      <th>0</th>\n",
              "      <td>0.003791</td>\n",
              "      <td>0.005284</td>\n",
              "      <td>0.710526</td>\n",
              "      <td>1.0</td>\n",
              "    </tr>\n",
              "    <tr>\n",
              "      <th>1</th>\n",
              "      <td>0.002253</td>\n",
              "      <td>0.004490</td>\n",
              "      <td>0.684211</td>\n",
              "      <td>1.0</td>\n",
              "    </tr>\n",
              "    <tr>\n",
              "      <th>2</th>\n",
              "      <td>0.002316</td>\n",
              "      <td>0.004524</td>\n",
              "      <td>0.842105</td>\n",
              "      <td>1.0</td>\n",
              "    </tr>\n",
              "    <tr>\n",
              "      <th>3</th>\n",
              "      <td>0.002159</td>\n",
              "      <td>0.004389</td>\n",
              "      <td>0.702703</td>\n",
              "      <td>1.0</td>\n",
              "    </tr>\n",
              "    <tr>\n",
              "      <th>4</th>\n",
              "      <td>0.002180</td>\n",
              "      <td>0.004346</td>\n",
              "      <td>0.837838</td>\n",
              "      <td>1.0</td>\n",
              "    </tr>\n",
              "  </tbody>\n",
              "</table>\n",
              "</div>\n",
              "    <div class=\"colab-df-buttons\">\n",
              "\n",
              "  <div class=\"colab-df-container\">\n",
              "    <button class=\"colab-df-convert\" onclick=\"convertToInteractive('df-730751af-abe9-4525-bfcf-540a3735f637')\"\n",
              "            title=\"Convert this dataframe to an interactive table.\"\n",
              "            style=\"display:none;\">\n",
              "\n",
              "  <svg xmlns=\"http://www.w3.org/2000/svg\" height=\"24px\" viewBox=\"0 -960 960 960\">\n",
              "    <path d=\"M120-120v-720h720v720H120Zm60-500h600v-160H180v160Zm220 220h160v-160H400v160Zm0 220h160v-160H400v160ZM180-400h160v-160H180v160Zm440 0h160v-160H620v160ZM180-180h160v-160H180v160Zm440 0h160v-160H620v160Z\"/>\n",
              "  </svg>\n",
              "    </button>\n",
              "\n",
              "  <style>\n",
              "    .colab-df-container {\n",
              "      display:flex;\n",
              "      gap: 12px;\n",
              "    }\n",
              "\n",
              "    .colab-df-convert {\n",
              "      background-color: #E8F0FE;\n",
              "      border: none;\n",
              "      border-radius: 50%;\n",
              "      cursor: pointer;\n",
              "      display: none;\n",
              "      fill: #1967D2;\n",
              "      height: 32px;\n",
              "      padding: 0 0 0 0;\n",
              "      width: 32px;\n",
              "    }\n",
              "\n",
              "    .colab-df-convert:hover {\n",
              "      background-color: #E2EBFA;\n",
              "      box-shadow: 0px 1px 2px rgba(60, 64, 67, 0.3), 0px 1px 3px 1px rgba(60, 64, 67, 0.15);\n",
              "      fill: #174EA6;\n",
              "    }\n",
              "\n",
              "    .colab-df-buttons div {\n",
              "      margin-bottom: 4px;\n",
              "    }\n",
              "\n",
              "    [theme=dark] .colab-df-convert {\n",
              "      background-color: #3B4455;\n",
              "      fill: #D2E3FC;\n",
              "    }\n",
              "\n",
              "    [theme=dark] .colab-df-convert:hover {\n",
              "      background-color: #434B5C;\n",
              "      box-shadow: 0px 1px 3px 1px rgba(0, 0, 0, 0.15);\n",
              "      filter: drop-shadow(0px 1px 2px rgba(0, 0, 0, 0.3));\n",
              "      fill: #FFFFFF;\n",
              "    }\n",
              "  </style>\n",
              "\n",
              "    <script>\n",
              "      const buttonEl =\n",
              "        document.querySelector('#df-730751af-abe9-4525-bfcf-540a3735f637 button.colab-df-convert');\n",
              "      buttonEl.style.display =\n",
              "        google.colab.kernel.accessAllowed ? 'block' : 'none';\n",
              "\n",
              "      async function convertToInteractive(key) {\n",
              "        const element = document.querySelector('#df-730751af-abe9-4525-bfcf-540a3735f637');\n",
              "        const dataTable =\n",
              "          await google.colab.kernel.invokeFunction('convertToInteractive',\n",
              "                                                    [key], {});\n",
              "        if (!dataTable) return;\n",
              "\n",
              "        const docLinkHtml = 'Like what you see? Visit the ' +\n",
              "          '<a target=\"_blank\" href=https://colab.research.google.com/notebooks/data_table.ipynb>data table notebook</a>'\n",
              "          + ' to learn more about interactive tables.';\n",
              "        element.innerHTML = '';\n",
              "        dataTable['output_type'] = 'display_data';\n",
              "        await google.colab.output.renderOutput(dataTable, element);\n",
              "        const docLink = document.createElement('div');\n",
              "        docLink.innerHTML = docLinkHtml;\n",
              "        element.appendChild(docLink);\n",
              "      }\n",
              "    </script>\n",
              "  </div>\n",
              "\n",
              "\n",
              "<div id=\"df-0e2e0e02-cc03-4a29-aa8b-0fb5e3bd02bf\">\n",
              "  <button class=\"colab-df-quickchart\" onclick=\"quickchart('df-0e2e0e02-cc03-4a29-aa8b-0fb5e3bd02bf')\"\n",
              "            title=\"Suggest charts\"\n",
              "            style=\"display:none;\">\n",
              "\n",
              "<svg xmlns=\"http://www.w3.org/2000/svg\" height=\"24px\"viewBox=\"0 0 24 24\"\n",
              "     width=\"24px\">\n",
              "    <g>\n",
              "        <path d=\"M19 3H5c-1.1 0-2 .9-2 2v14c0 1.1.9 2 2 2h14c1.1 0 2-.9 2-2V5c0-1.1-.9-2-2-2zM9 17H7v-7h2v7zm4 0h-2V7h2v10zm4 0h-2v-4h2v4z\"/>\n",
              "    </g>\n",
              "</svg>\n",
              "  </button>\n",
              "\n",
              "<style>\n",
              "  .colab-df-quickchart {\n",
              "      --bg-color: #E8F0FE;\n",
              "      --fill-color: #1967D2;\n",
              "      --hover-bg-color: #E2EBFA;\n",
              "      --hover-fill-color: #174EA6;\n",
              "      --disabled-fill-color: #AAA;\n",
              "      --disabled-bg-color: #DDD;\n",
              "  }\n",
              "\n",
              "  [theme=dark] .colab-df-quickchart {\n",
              "      --bg-color: #3B4455;\n",
              "      --fill-color: #D2E3FC;\n",
              "      --hover-bg-color: #434B5C;\n",
              "      --hover-fill-color: #FFFFFF;\n",
              "      --disabled-bg-color: #3B4455;\n",
              "      --disabled-fill-color: #666;\n",
              "  }\n",
              "\n",
              "  .colab-df-quickchart {\n",
              "    background-color: var(--bg-color);\n",
              "    border: none;\n",
              "    border-radius: 50%;\n",
              "    cursor: pointer;\n",
              "    display: none;\n",
              "    fill: var(--fill-color);\n",
              "    height: 32px;\n",
              "    padding: 0;\n",
              "    width: 32px;\n",
              "  }\n",
              "\n",
              "  .colab-df-quickchart:hover {\n",
              "    background-color: var(--hover-bg-color);\n",
              "    box-shadow: 0 1px 2px rgba(60, 64, 67, 0.3), 0 1px 3px 1px rgba(60, 64, 67, 0.15);\n",
              "    fill: var(--button-hover-fill-color);\n",
              "  }\n",
              "\n",
              "  .colab-df-quickchart-complete:disabled,\n",
              "  .colab-df-quickchart-complete:disabled:hover {\n",
              "    background-color: var(--disabled-bg-color);\n",
              "    fill: var(--disabled-fill-color);\n",
              "    box-shadow: none;\n",
              "  }\n",
              "\n",
              "  .colab-df-spinner {\n",
              "    border: 2px solid var(--fill-color);\n",
              "    border-color: transparent;\n",
              "    border-bottom-color: var(--fill-color);\n",
              "    animation:\n",
              "      spin 1s steps(1) infinite;\n",
              "  }\n",
              "\n",
              "  @keyframes spin {\n",
              "    0% {\n",
              "      border-color: transparent;\n",
              "      border-bottom-color: var(--fill-color);\n",
              "      border-left-color: var(--fill-color);\n",
              "    }\n",
              "    20% {\n",
              "      border-color: transparent;\n",
              "      border-left-color: var(--fill-color);\n",
              "      border-top-color: var(--fill-color);\n",
              "    }\n",
              "    30% {\n",
              "      border-color: transparent;\n",
              "      border-left-color: var(--fill-color);\n",
              "      border-top-color: var(--fill-color);\n",
              "      border-right-color: var(--fill-color);\n",
              "    }\n",
              "    40% {\n",
              "      border-color: transparent;\n",
              "      border-right-color: var(--fill-color);\n",
              "      border-top-color: var(--fill-color);\n",
              "    }\n",
              "    60% {\n",
              "      border-color: transparent;\n",
              "      border-right-color: var(--fill-color);\n",
              "    }\n",
              "    80% {\n",
              "      border-color: transparent;\n",
              "      border-right-color: var(--fill-color);\n",
              "      border-bottom-color: var(--fill-color);\n",
              "    }\n",
              "    90% {\n",
              "      border-color: transparent;\n",
              "      border-bottom-color: var(--fill-color);\n",
              "    }\n",
              "  }\n",
              "</style>\n",
              "\n",
              "  <script>\n",
              "    async function quickchart(key) {\n",
              "      const quickchartButtonEl =\n",
              "        document.querySelector('#' + key + ' button');\n",
              "      quickchartButtonEl.disabled = true;  // To prevent multiple clicks.\n",
              "      quickchartButtonEl.classList.add('colab-df-spinner');\n",
              "      try {\n",
              "        const charts = await google.colab.kernel.invokeFunction(\n",
              "            'suggestCharts', [key], {});\n",
              "      } catch (error) {\n",
              "        console.error('Error during call to suggestCharts:', error);\n",
              "      }\n",
              "      quickchartButtonEl.classList.remove('colab-df-spinner');\n",
              "      quickchartButtonEl.classList.add('colab-df-quickchart-complete');\n",
              "    }\n",
              "    (() => {\n",
              "      let quickchartButtonEl =\n",
              "        document.querySelector('#df-0e2e0e02-cc03-4a29-aa8b-0fb5e3bd02bf button');\n",
              "      quickchartButtonEl.style.display =\n",
              "        google.colab.kernel.accessAllowed ? 'block' : 'none';\n",
              "    })();\n",
              "  </script>\n",
              "</div>\n",
              "\n",
              "    </div>\n",
              "  </div>\n"
            ],
            "application/vnd.google.colaboratory.intrinsic+json": {
              "type": "dataframe",
              "summary": "{\n  \"name\": \"pd\",\n  \"rows\": 5,\n  \"fields\": [\n    {\n      \"column\": \"fit_time\",\n      \"properties\": {\n        \"dtype\": \"number\",\n        \"std\": 0.0007021087814770788,\n        \"min\": 0.0021588802337646484,\n        \"max\": 0.0037908554077148438,\n        \"num_unique_values\": 5,\n        \"samples\": [\n          0.0022530555725097656,\n          0.0021800994873046875,\n          0.0023162364959716797\n        ],\n        \"semantic_type\": \"\",\n        \"description\": \"\"\n      }\n    },\n    {\n      \"column\": \"score_time\",\n      \"properties\": {\n        \"dtype\": \"number\",\n        \"std\": 0.0003854720073889189,\n        \"min\": 0.004346370697021484,\n        \"max\": 0.00528407096862793,\n        \"num_unique_values\": 5,\n        \"samples\": [\n          0.004489898681640625,\n          0.004346370697021484,\n          0.0045239925384521484\n        ],\n        \"semantic_type\": \"\",\n        \"description\": \"\"\n      }\n    },\n    {\n      \"column\": \"test_score\",\n      \"properties\": {\n        \"dtype\": \"number\",\n        \"std\": 0.07773732102985649,\n        \"min\": 0.6842105263157895,\n        \"max\": 0.8421052631578947,\n        \"num_unique_values\": 5,\n        \"samples\": [\n          0.6842105263157895,\n          0.8378378378378378,\n          0.8421052631578947\n        ],\n        \"semantic_type\": \"\",\n        \"description\": \"\"\n      }\n    },\n    {\n      \"column\": \"train_score\",\n      \"properties\": {\n        \"dtype\": \"number\",\n        \"std\": 0.0,\n        \"min\": 1.0,\n        \"max\": 1.0,\n        \"num_unique_values\": 1,\n        \"samples\": [\n          1.0\n        ],\n        \"semantic_type\": \"\",\n        \"description\": \"\"\n      }\n    }\n  ]\n}"
            }
          },
          "metadata": {},
          "execution_count": 24
        }
      ],
      "source": [
        "k = 1\n",
        "knn1 = KNeighborsClassifier(n_neighbors=k)\n",
        "scores = cross_validate(knn1, X_train, y_train, return_train_score=True)\n",
        "pd.DataFrame(scores)"
      ]
    },
    {
      "cell_type": "code",
      "execution_count": 25,
      "id": "7758aa63",
      "metadata": {
        "colab": {
          "base_uri": "https://localhost:8080/",
          "height": 206
        },
        "id": "7758aa63",
        "outputId": "ee05b092-bd21-4925-9d15-ee94f0dc75be"
      },
      "outputs": [
        {
          "output_type": "execute_result",
          "data": {
            "text/plain": [
              "   fit_time  score_time  test_score  train_score\n",
              "0  0.002961    0.052017    0.605263     0.600000\n",
              "1  0.002117    0.005167    0.605263     0.600000\n",
              "2  0.002586    0.005344    0.605263     0.600000\n",
              "3  0.002054    0.005124    0.594595     0.602649\n",
              "4  0.002121    0.005013    0.594595     0.602649"
            ],
            "text/html": [
              "\n",
              "  <div id=\"df-31acd69c-cc5e-49ce-bca7-758a7456cf5e\" class=\"colab-df-container\">\n",
              "    <div>\n",
              "<style scoped>\n",
              "    .dataframe tbody tr th:only-of-type {\n",
              "        vertical-align: middle;\n",
              "    }\n",
              "\n",
              "    .dataframe tbody tr th {\n",
              "        vertical-align: top;\n",
              "    }\n",
              "\n",
              "    .dataframe thead th {\n",
              "        text-align: right;\n",
              "    }\n",
              "</style>\n",
              "<table border=\"1\" class=\"dataframe\">\n",
              "  <thead>\n",
              "    <tr style=\"text-align: right;\">\n",
              "      <th></th>\n",
              "      <th>fit_time</th>\n",
              "      <th>score_time</th>\n",
              "      <th>test_score</th>\n",
              "      <th>train_score</th>\n",
              "    </tr>\n",
              "  </thead>\n",
              "  <tbody>\n",
              "    <tr>\n",
              "      <th>0</th>\n",
              "      <td>0.002961</td>\n",
              "      <td>0.052017</td>\n",
              "      <td>0.605263</td>\n",
              "      <td>0.600000</td>\n",
              "    </tr>\n",
              "    <tr>\n",
              "      <th>1</th>\n",
              "      <td>0.002117</td>\n",
              "      <td>0.005167</td>\n",
              "      <td>0.605263</td>\n",
              "      <td>0.600000</td>\n",
              "    </tr>\n",
              "    <tr>\n",
              "      <th>2</th>\n",
              "      <td>0.002586</td>\n",
              "      <td>0.005344</td>\n",
              "      <td>0.605263</td>\n",
              "      <td>0.600000</td>\n",
              "    </tr>\n",
              "    <tr>\n",
              "      <th>3</th>\n",
              "      <td>0.002054</td>\n",
              "      <td>0.005124</td>\n",
              "      <td>0.594595</td>\n",
              "      <td>0.602649</td>\n",
              "    </tr>\n",
              "    <tr>\n",
              "      <th>4</th>\n",
              "      <td>0.002121</td>\n",
              "      <td>0.005013</td>\n",
              "      <td>0.594595</td>\n",
              "      <td>0.602649</td>\n",
              "    </tr>\n",
              "  </tbody>\n",
              "</table>\n",
              "</div>\n",
              "    <div class=\"colab-df-buttons\">\n",
              "\n",
              "  <div class=\"colab-df-container\">\n",
              "    <button class=\"colab-df-convert\" onclick=\"convertToInteractive('df-31acd69c-cc5e-49ce-bca7-758a7456cf5e')\"\n",
              "            title=\"Convert this dataframe to an interactive table.\"\n",
              "            style=\"display:none;\">\n",
              "\n",
              "  <svg xmlns=\"http://www.w3.org/2000/svg\" height=\"24px\" viewBox=\"0 -960 960 960\">\n",
              "    <path d=\"M120-120v-720h720v720H120Zm60-500h600v-160H180v160Zm220 220h160v-160H400v160Zm0 220h160v-160H400v160ZM180-400h160v-160H180v160Zm440 0h160v-160H620v160ZM180-180h160v-160H180v160Zm440 0h160v-160H620v160Z\"/>\n",
              "  </svg>\n",
              "    </button>\n",
              "\n",
              "  <style>\n",
              "    .colab-df-container {\n",
              "      display:flex;\n",
              "      gap: 12px;\n",
              "    }\n",
              "\n",
              "    .colab-df-convert {\n",
              "      background-color: #E8F0FE;\n",
              "      border: none;\n",
              "      border-radius: 50%;\n",
              "      cursor: pointer;\n",
              "      display: none;\n",
              "      fill: #1967D2;\n",
              "      height: 32px;\n",
              "      padding: 0 0 0 0;\n",
              "      width: 32px;\n",
              "    }\n",
              "\n",
              "    .colab-df-convert:hover {\n",
              "      background-color: #E2EBFA;\n",
              "      box-shadow: 0px 1px 2px rgba(60, 64, 67, 0.3), 0px 1px 3px 1px rgba(60, 64, 67, 0.15);\n",
              "      fill: #174EA6;\n",
              "    }\n",
              "\n",
              "    .colab-df-buttons div {\n",
              "      margin-bottom: 4px;\n",
              "    }\n",
              "\n",
              "    [theme=dark] .colab-df-convert {\n",
              "      background-color: #3B4455;\n",
              "      fill: #D2E3FC;\n",
              "    }\n",
              "\n",
              "    [theme=dark] .colab-df-convert:hover {\n",
              "      background-color: #434B5C;\n",
              "      box-shadow: 0px 1px 3px 1px rgba(0, 0, 0, 0.15);\n",
              "      filter: drop-shadow(0px 1px 2px rgba(0, 0, 0, 0.3));\n",
              "      fill: #FFFFFF;\n",
              "    }\n",
              "  </style>\n",
              "\n",
              "    <script>\n",
              "      const buttonEl =\n",
              "        document.querySelector('#df-31acd69c-cc5e-49ce-bca7-758a7456cf5e button.colab-df-convert');\n",
              "      buttonEl.style.display =\n",
              "        google.colab.kernel.accessAllowed ? 'block' : 'none';\n",
              "\n",
              "      async function convertToInteractive(key) {\n",
              "        const element = document.querySelector('#df-31acd69c-cc5e-49ce-bca7-758a7456cf5e');\n",
              "        const dataTable =\n",
              "          await google.colab.kernel.invokeFunction('convertToInteractive',\n",
              "                                                    [key], {});\n",
              "        if (!dataTable) return;\n",
              "\n",
              "        const docLinkHtml = 'Like what you see? Visit the ' +\n",
              "          '<a target=\"_blank\" href=https://colab.research.google.com/notebooks/data_table.ipynb>data table notebook</a>'\n",
              "          + ' to learn more about interactive tables.';\n",
              "        element.innerHTML = '';\n",
              "        dataTable['output_type'] = 'display_data';\n",
              "        await google.colab.output.renderOutput(dataTable, element);\n",
              "        const docLink = document.createElement('div');\n",
              "        docLink.innerHTML = docLinkHtml;\n",
              "        element.appendChild(docLink);\n",
              "      }\n",
              "    </script>\n",
              "  </div>\n",
              "\n",
              "\n",
              "<div id=\"df-44550a1d-ab49-4635-ac43-c3eda3f0580c\">\n",
              "  <button class=\"colab-df-quickchart\" onclick=\"quickchart('df-44550a1d-ab49-4635-ac43-c3eda3f0580c')\"\n",
              "            title=\"Suggest charts\"\n",
              "            style=\"display:none;\">\n",
              "\n",
              "<svg xmlns=\"http://www.w3.org/2000/svg\" height=\"24px\"viewBox=\"0 0 24 24\"\n",
              "     width=\"24px\">\n",
              "    <g>\n",
              "        <path d=\"M19 3H5c-1.1 0-2 .9-2 2v14c0 1.1.9 2 2 2h14c1.1 0 2-.9 2-2V5c0-1.1-.9-2-2-2zM9 17H7v-7h2v7zm4 0h-2V7h2v10zm4 0h-2v-4h2v4z\"/>\n",
              "    </g>\n",
              "</svg>\n",
              "  </button>\n",
              "\n",
              "<style>\n",
              "  .colab-df-quickchart {\n",
              "      --bg-color: #E8F0FE;\n",
              "      --fill-color: #1967D2;\n",
              "      --hover-bg-color: #E2EBFA;\n",
              "      --hover-fill-color: #174EA6;\n",
              "      --disabled-fill-color: #AAA;\n",
              "      --disabled-bg-color: #DDD;\n",
              "  }\n",
              "\n",
              "  [theme=dark] .colab-df-quickchart {\n",
              "      --bg-color: #3B4455;\n",
              "      --fill-color: #D2E3FC;\n",
              "      --hover-bg-color: #434B5C;\n",
              "      --hover-fill-color: #FFFFFF;\n",
              "      --disabled-bg-color: #3B4455;\n",
              "      --disabled-fill-color: #666;\n",
              "  }\n",
              "\n",
              "  .colab-df-quickchart {\n",
              "    background-color: var(--bg-color);\n",
              "    border: none;\n",
              "    border-radius: 50%;\n",
              "    cursor: pointer;\n",
              "    display: none;\n",
              "    fill: var(--fill-color);\n",
              "    height: 32px;\n",
              "    padding: 0;\n",
              "    width: 32px;\n",
              "  }\n",
              "\n",
              "  .colab-df-quickchart:hover {\n",
              "    background-color: var(--hover-bg-color);\n",
              "    box-shadow: 0 1px 2px rgba(60, 64, 67, 0.3), 0 1px 3px 1px rgba(60, 64, 67, 0.15);\n",
              "    fill: var(--button-hover-fill-color);\n",
              "  }\n",
              "\n",
              "  .colab-df-quickchart-complete:disabled,\n",
              "  .colab-df-quickchart-complete:disabled:hover {\n",
              "    background-color: var(--disabled-bg-color);\n",
              "    fill: var(--disabled-fill-color);\n",
              "    box-shadow: none;\n",
              "  }\n",
              "\n",
              "  .colab-df-spinner {\n",
              "    border: 2px solid var(--fill-color);\n",
              "    border-color: transparent;\n",
              "    border-bottom-color: var(--fill-color);\n",
              "    animation:\n",
              "      spin 1s steps(1) infinite;\n",
              "  }\n",
              "\n",
              "  @keyframes spin {\n",
              "    0% {\n",
              "      border-color: transparent;\n",
              "      border-bottom-color: var(--fill-color);\n",
              "      border-left-color: var(--fill-color);\n",
              "    }\n",
              "    20% {\n",
              "      border-color: transparent;\n",
              "      border-left-color: var(--fill-color);\n",
              "      border-top-color: var(--fill-color);\n",
              "    }\n",
              "    30% {\n",
              "      border-color: transparent;\n",
              "      border-left-color: var(--fill-color);\n",
              "      border-top-color: var(--fill-color);\n",
              "      border-right-color: var(--fill-color);\n",
              "    }\n",
              "    40% {\n",
              "      border-color: transparent;\n",
              "      border-right-color: var(--fill-color);\n",
              "      border-top-color: var(--fill-color);\n",
              "    }\n",
              "    60% {\n",
              "      border-color: transparent;\n",
              "      border-right-color: var(--fill-color);\n",
              "    }\n",
              "    80% {\n",
              "      border-color: transparent;\n",
              "      border-right-color: var(--fill-color);\n",
              "      border-bottom-color: var(--fill-color);\n",
              "    }\n",
              "    90% {\n",
              "      border-color: transparent;\n",
              "      border-bottom-color: var(--fill-color);\n",
              "    }\n",
              "  }\n",
              "</style>\n",
              "\n",
              "  <script>\n",
              "    async function quickchart(key) {\n",
              "      const quickchartButtonEl =\n",
              "        document.querySelector('#' + key + ' button');\n",
              "      quickchartButtonEl.disabled = true;  // To prevent multiple clicks.\n",
              "      quickchartButtonEl.classList.add('colab-df-spinner');\n",
              "      try {\n",
              "        const charts = await google.colab.kernel.invokeFunction(\n",
              "            'suggestCharts', [key], {});\n",
              "      } catch (error) {\n",
              "        console.error('Error during call to suggestCharts:', error);\n",
              "      }\n",
              "      quickchartButtonEl.classList.remove('colab-df-spinner');\n",
              "      quickchartButtonEl.classList.add('colab-df-quickchart-complete');\n",
              "    }\n",
              "    (() => {\n",
              "      let quickchartButtonEl =\n",
              "        document.querySelector('#df-44550a1d-ab49-4635-ac43-c3eda3f0580c button');\n",
              "      quickchartButtonEl.style.display =\n",
              "        google.colab.kernel.accessAllowed ? 'block' : 'none';\n",
              "    })();\n",
              "  </script>\n",
              "</div>\n",
              "\n",
              "    </div>\n",
              "  </div>\n"
            ],
            "application/vnd.google.colaboratory.intrinsic+json": {
              "type": "dataframe",
              "summary": "{\n  \"name\": \"pd\",\n  \"rows\": 5,\n  \"fields\": [\n    {\n      \"column\": \"fit_time\",\n      \"properties\": {\n        \"dtype\": \"number\",\n        \"std\": 0.0003943591910748162,\n        \"min\": 0.002053976058959961,\n        \"max\": 0.0029611587524414062,\n        \"num_unique_values\": 5,\n        \"samples\": [\n          0.002117156982421875,\n          0.0021209716796875,\n          0.00258636474609375\n        ],\n        \"semantic_type\": \"\",\n        \"description\": \"\"\n      }\n    },\n    {\n      \"column\": \"score_time\",\n      \"properties\": {\n        \"dtype\": \"number\",\n        \"std\": 0.020954545719263234,\n        \"min\": 0.005013227462768555,\n        \"max\": 0.0520172119140625,\n        \"num_unique_values\": 5,\n        \"samples\": [\n          0.005167484283447266,\n          0.005013227462768555,\n          0.005343914031982422\n        ],\n        \"semantic_type\": \"\",\n        \"description\": \"\"\n      }\n    },\n    {\n      \"column\": \"test_score\",\n      \"properties\": {\n        \"dtype\": \"number\",\n        \"std\": 0.005843412775659646,\n        \"min\": 0.5945945945945946,\n        \"max\": 0.6052631578947368,\n        \"num_unique_values\": 2,\n        \"samples\": [\n          0.5945945945945946,\n          0.6052631578947368\n        ],\n        \"semantic_type\": \"\",\n        \"description\": \"\"\n      }\n    },\n    {\n      \"column\": \"train_score\",\n      \"properties\": {\n        \"dtype\": \"number\",\n        \"std\": 0.0014509206821328856,\n        \"min\": 0.6,\n        \"max\": 0.6026490066225165,\n        \"num_unique_values\": 2,\n        \"samples\": [\n          0.6026490066225165,\n          0.6\n        ],\n        \"semantic_type\": \"\",\n        \"description\": \"\"\n      }\n    }\n  ]\n}"
            }
          },
          "metadata": {},
          "execution_count": 25
        }
      ],
      "source": [
        "k = 100\n",
        "knn100 = KNeighborsClassifier(n_neighbors=k)\n",
        "scores = cross_validate(knn100, X_train, y_train, return_train_score=True)\n",
        "pd.DataFrame(scores)"
      ]
    },
    {
      "cell_type": "code",
      "execution_count": 26,
      "id": "a3546912",
      "metadata": {
        "colab": {
          "base_uri": "https://localhost:8080/",
          "height": 85,
          "referenced_widgets": [
            "1e154c442289492a9802c654719073c1",
            "6611e5d71ed04de189cff8ac2130a7ae",
            "25b60b9c989a4e4db643e9a56f65c4f9",
            "8d75ffe7c8d24ac2a28181f86eda0910",
            "5c5cc66d65bf43c8bdfcca57abf54193",
            "bbf89711b9814ed799025b26b42c8830",
            "0e95742bb736478f8076aece4dc7f1ad"
          ]
        },
        "id": "a3546912",
        "outputId": "8f16ccdd-f01f-4972-e52b-a62c945a52d4"
      },
      "outputs": [
        {
          "output_type": "display_data",
          "data": {
            "text/plain": [
              "interactive(children=(IntSlider(value=1, description='n_neighbors', max=101, min=1, step=5), Output()), _dom_c…"
            ],
            "application/vnd.jupyter.widget-view+json": {
              "version_major": 2,
              "version_minor": 0,
              "model_id": "1e154c442289492a9802c654719073c1"
            }
          },
          "metadata": {}
        }
      ],
      "source": [
        "def f(n_neighbors=1):\n",
        "    results = {}\n",
        "    knn = KNeighborsClassifier(n_neighbors=n_neighbors)\n",
        "    scores = cross_validate(knn, X_train, y_train, return_train_score=True)\n",
        "    results[\"n_neighbours\"] = [n_neighbors]\n",
        "    results[\"mean_train_score\"] = [round(scores[\"train_score\"].mean(), 3)]\n",
        "    results[\"mean_valid_score\"] = [round(scores[\"test_score\"].mean(), 3)]\n",
        "    print(pd.DataFrame(results))\n",
        "\n",
        "\n",
        "interactive(\n",
        "    f,\n",
        "    n_neighbors=widgets.IntSlider(min=1, max=101, step=5, value=1),\n",
        ")"
      ]
    },
    {
      "cell_type": "code",
      "source": [
        "def plot_knn_decision_boundaries(X_train, y_train, k_values = [1,11,100]):\n",
        "    fig, axes = plt.subplots(1, len(k_values), figsize=(15, 4))\n",
        "\n",
        "    for n_neighbors, ax in zip(k_values, axes):\n",
        "        clf = KNeighborsClassifier(n_neighbors=n_neighbors)\n",
        "        scores = cross_validate(clf, X_train, y_train, return_train_score=True)\n",
        "        mean_valid_score = scores[\"test_score\"].mean()\n",
        "        mean_train_score = scores[\"train_score\"].mean()\n",
        "        clf.fit(X_train, y_train)\n",
        "        mglearn.plots.plot_2d_separator(\n",
        "            clf, X_train.to_numpy(), fill=True, eps=0.5, ax=ax, alpha=0.4\n",
        "        )\n",
        "        mglearn.discrete_scatter(X_train.iloc[:, 0], X_train.iloc[:, 1], y_train, ax=ax)\n",
        "        title = \"n_neighbors={}\\n train score={}\\n valid score={}\".format(\n",
        "            n_neighbors, round(mean_train_score, 2), round(mean_valid_score, 2)\n",
        "        )\n",
        "        ax.set_title(title)\n",
        "        ax.set_xlabel(\"longitude\")\n",
        "        ax.set_ylabel(\"latitude\")\n",
        "    axes[0].legend(loc=1);"
      ],
      "metadata": {
        "id": "1O16PsvJ88oV"
      },
      "id": "1O16PsvJ88oV",
      "execution_count": 27,
      "outputs": []
    },
    {
      "cell_type": "code",
      "execution_count": 28,
      "id": "5a28ecd6",
      "metadata": {
        "colab": {
          "base_uri": "https://localhost:8080/",
          "height": 428
        },
        "id": "5a28ecd6",
        "outputId": "1dd146da-1cd0-46d0-ed02-a4d0641def85"
      },
      "outputs": [
        {
          "output_type": "display_data",
          "data": {
            "text/plain": [
              "<Figure size 1500x400 with 3 Axes>"
            ],
            "image/png": "[encoded data removed]"
          },
          "metadata": {}
        }
      ],
      "source": [
        "plot_knn_decision_boundaries(X_train, y_train, k_values=[1, 11, 100])"
      ]
    },
    {
      "cell_type": "code",
      "execution_count": null,
      "id": "8f8b998f",
      "metadata": {
        "id": "8f8b998f"
      },
      "outputs": [],
      "source": []
    },
    {
      "cell_type": "markdown",
      "id": "01e96d39",
      "metadata": {
        "id": "01e96d39"
      },
      "source": [
        "### How to choose `n_neighbors`?\n",
        "\n",
        "- `n_neighbors` is a hyperparameter\n",
        "- We can use hyperparameter optimization to choose `n_neighbors`."
      ]
    },
    {
      "cell_type": "code",
      "execution_count": 29,
      "id": "5ec8cfab",
      "metadata": {
        "id": "5ec8cfab"
      },
      "outputs": [],
      "source": [
        "results_dict = {\n",
        "    \"n_neighbors\": [],\n",
        "    \"mean_train_score\": [],\n",
        "    \"mean_cv_score\": [],\n",
        "    \"std_cv_score\": [],\n",
        "    \"std_train_score\": [],\n",
        "}\n",
        "param_grid = {\"n_neighbors\": np.arange(1, 50, 5)}\n",
        "\n",
        "for k in param_grid[\"n_neighbors\"]:\n",
        "    knn = KNeighborsClassifier(n_neighbors=k)\n",
        "    scores = cross_validate(knn, X_train, y_train, return_train_score=True)\n",
        "    results_dict[\"n_neighbors\"].append(k)\n",
        "\n",
        "    results_dict[\"mean_cv_score\"].append(np.mean(scores[\"test_score\"]))\n",
        "    results_dict[\"mean_train_score\"].append(np.mean(scores[\"train_score\"]))\n",
        "    results_dict[\"std_cv_score\"].append(scores[\"test_score\"].std())\n",
        "    results_dict[\"std_train_score\"].append(scores[\"train_score\"].std())\n",
        "\n",
        "results_df = pd.DataFrame(results_dict)"
      ]
    },
    {
      "cell_type": "code",
      "execution_count": 30,
      "id": "28930284",
      "metadata": {
        "colab": {
          "base_uri": "https://localhost:8080/",
          "height": 394
        },
        "id": "28930284",
        "outputId": "b0cb2072-e9a2-453b-f55e-502d8e1a29d4"
      },
      "outputs": [
        {
          "output_type": "execute_result",
          "data": {
            "text/plain": [
              "             mean_train_score  mean_cv_score  std_cv_score  std_train_score\n",
              "n_neighbors                                                                \n",
              "1                    1.000000       0.755477      0.069530         0.000000\n",
              "6                    0.831135       0.792603      0.046020         0.013433\n",
              "11                   0.819152       0.802987      0.041129         0.011336\n",
              "16                   0.801863       0.782219      0.074141         0.008735\n",
              "21                   0.777934       0.766430      0.062792         0.016944\n",
              "26                   0.755364       0.723613      0.061937         0.025910\n",
              "31                   0.743391       0.707681      0.057646         0.030408\n",
              "36                   0.728777       0.707681      0.064452         0.021305\n",
              "41                   0.706128       0.681223      0.061241         0.018310\n",
              "46                   0.694155       0.660171      0.093390         0.018178"
            ],
            "text/html": [
              "\n",
              "  <div id=\"df-88954fcd-ee04-45cc-9eb1-be4b63e1911d\" class=\"colab-df-container\">\n",
              "    <div>\n",
              "<style scoped>\n",
              "    .dataframe tbody tr th:only-of-type {\n",
              "        vertical-align: middle;\n",
              "    }\n",
              "\n",
              "    .dataframe tbody tr th {\n",
              "        vertical-align: top;\n",
              "    }\n",
              "\n",
              "    .dataframe thead th {\n",
              "        text-align: right;\n",
              "    }\n",
              "</style>\n",
              "<table border=\"1\" class=\"dataframe\">\n",
              "  <thead>\n",
              "    <tr style=\"text-align: right;\">\n",
              "      <th></th>\n",
              "      <th>mean_train_score</th>\n",
              "      <th>mean_cv_score</th>\n",
              "      <th>std_cv_score</th>\n",
              "      <th>std_train_score</th>\n",
              "    </tr>\n",
              "    <tr>\n",
              "      <th>n_neighbors</th>\n",
              "      <th></th>\n",
              "      <th></th>\n",
              "      <th></th>\n",
              "      <th></th>\n",
              "    </tr>\n",
              "  </thead>\n",
              "  <tbody>\n",
              "    <tr>\n",
              "      <th>1</th>\n",
              "      <td>1.000000</td>\n",
              "      <td>0.755477</td>\n",
              "      <td>0.069530</td>\n",
              "      <td>0.000000</td>\n",
              "    </tr>\n",
              "    <tr>\n",
              "      <th>6</th>\n",
              "      <td>0.831135</td>\n",
              "      <td>0.792603</td>\n",
              "      <td>0.046020</td>\n",
              "      <td>0.013433</td>\n",
              "    </tr>\n",
              "    <tr>\n",
              "      <th>11</th>\n",
              "      <td>0.819152</td>\n",
              "      <td>0.802987</td>\n",
              "      <td>0.041129</td>\n",
              "      <td>0.011336</td>\n",
              "    </tr>\n",
              "    <tr>\n",
              "      <th>16</th>\n",
              "      <td>0.801863</td>\n",
              "      <td>0.782219</td>\n",
              "      <td>0.074141</td>\n",
              "      <td>0.008735</td>\n",
              "    </tr>\n",
              "    <tr>\n",
              "      <th>21</th>\n",
              "      <td>0.777934</td>\n",
              "      <td>0.766430</td>\n",
              "      <td>0.062792</td>\n",
              "      <td>0.016944</td>\n",
              "    </tr>\n",
              "    <tr>\n",
              "      <th>26</th>\n",
              "      <td>0.755364</td>\n",
              "      <td>0.723613</td>\n",
              "      <td>0.061937</td>\n",
              "      <td>0.025910</td>\n",
              "    </tr>\n",
              "    <tr>\n",
              "      <th>31</th>\n",
              "      <td>0.743391</td>\n",
              "      <td>0.707681</td>\n",
              "      <td>0.057646</td>\n",
              "      <td>0.030408</td>\n",
              "    </tr>\n",
              "    <tr>\n",
              "      <th>36</th>\n",
              "      <td>0.728777</td>\n",
              "      <td>0.707681</td>\n",
              "      <td>0.064452</td>\n",
              "      <td>0.021305</td>\n",
              "    </tr>\n",
              "    <tr>\n",
              "      <th>41</th>\n",
              "      <td>0.706128</td>\n",
              "      <td>0.681223</td>\n",
              "      <td>0.061241</td>\n",
              "      <td>0.018310</td>\n",
              "    </tr>\n",
              "    <tr>\n",
              "      <th>46</th>\n",
              "      <td>0.694155</td>\n",
              "      <td>0.660171</td>\n",
              "      <td>0.093390</td>\n",
              "      <td>0.018178</td>\n",
              "    </tr>\n",
              "  </tbody>\n",
              "</table>\n",
              "</div>\n",
              "    <div class=\"colab-df-buttons\">\n",
              "\n",
              "  <div class=\"colab-df-container\">\n",
              "    <button class=\"colab-df-convert\" onclick=\"convertToInteractive('df-88954fcd-ee04-45cc-9eb1-be4b63e1911d')\"\n",
              "            title=\"Convert this dataframe to an interactive table.\"\n",
              "            style=\"display:none;\">\n",
              "\n",
              "  <svg xmlns=\"http://www.w3.org/2000/svg\" height=\"24px\" viewBox=\"0 -960 960 960\">\n",
              "    <path d=\"M120-120v-720h720v720H120Zm60-500h600v-160H180v160Zm220 220h160v-160H400v160Zm0 220h160v-160H400v160ZM180-400h160v-160H180v160Zm440 0h160v-160H620v160ZM180-180h160v-160H180v160Zm440 0h160v-160H620v160Z\"/>\n",
              "  </svg>\n",
              "    </button>\n",
              "\n",
              "  <style>\n",
              "    .colab-df-container {\n",
              "      display:flex;\n",
              "      gap: 12px;\n",
              "    }\n",
              "\n",
              "    .colab-df-convert {\n",
              "      background-color: #E8F0FE;\n",
              "      border: none;\n",
              "      border-radius: 50%;\n",
              "      cursor: pointer;\n",
              "      display: none;\n",
              "      fill: #1967D2;\n",
              "      height: 32px;\n",
              "      padding: 0 0 0 0;\n",
              "      width: 32px;\n",
              "    }\n",
              "\n",
              "    .colab-df-convert:hover {\n",
              "      background-color: #E2EBFA;\n",
              "      box-shadow: 0px 1px 2px rgba(60, 64, 67, 0.3), 0px 1px 3px 1px rgba(60, 64, 67, 0.15);\n",
              "      fill: #174EA6;\n",
              "    }\n",
              "\n",
              "    .colab-df-buttons div {\n",
              "      margin-bottom: 4px;\n",
              "    }\n",
              "\n",
              "    [theme=dark] .colab-df-convert {\n",
              "      background-color: #3B4455;\n",
              "      fill: #D2E3FC;\n",
              "    }\n",
              "\n",
              "    [theme=dark] .colab-df-convert:hover {\n",
              "      background-color: #434B5C;\n",
              "      box-shadow: 0px 1px 3px 1px rgba(0, 0, 0, 0.15);\n",
              "      filter: drop-shadow(0px 1px 2px rgba(0, 0, 0, 0.3));\n",
              "      fill: #FFFFFF;\n",
              "    }\n",
              "  </style>\n",
              "\n",
              "    <script>\n",
              "      const buttonEl =\n",
              "        document.querySelector('#df-88954fcd-ee04-45cc-9eb1-be4b63e1911d button.colab-df-convert');\n",
              "      buttonEl.style.display =\n",
              "        google.colab.kernel.accessAllowed ? 'block' : 'none';\n",
              "\n",
              "      async function convertToInteractive(key) {\n",
              "        const element = document.querySelector('#df-88954fcd-ee04-45cc-9eb1-be4b63e1911d');\n",
              "        const dataTable =\n",
              "          await google.colab.kernel.invokeFunction('convertToInteractive',\n",
              "                                                    [key], {});\n",
              "        if (!dataTable) return;\n",
              "\n",
              "        const docLinkHtml = 'Like what you see? Visit the ' +\n",
              "          '<a target=\"_blank\" href=https://colab.research.google.com/notebooks/data_table.ipynb>data table notebook</a>'\n",
              "          + ' to learn more about interactive tables.';\n",
              "        element.innerHTML = '';\n",
              "        dataTable['output_type'] = 'display_data';\n",
              "        await google.colab.output.renderOutput(dataTable, element);\n",
              "        const docLink = document.createElement('div');\n",
              "        docLink.innerHTML = docLinkHtml;\n",
              "        element.appendChild(docLink);\n",
              "      }\n",
              "    </script>\n",
              "  </div>\n",
              "\n",
              "\n",
              "<div id=\"df-f1715320-8998-40dc-ad44-7248f4203e42\">\n",
              "  <button class=\"colab-df-quickchart\" onclick=\"quickchart('df-f1715320-8998-40dc-ad44-7248f4203e42')\"\n",
              "            title=\"Suggest charts\"\n",
              "            style=\"display:none;\">\n",
              "\n",
              "<svg xmlns=\"http://www.w3.org/2000/svg\" height=\"24px\"viewBox=\"0 0 24 24\"\n",
              "     width=\"24px\">\n",
              "    <g>\n",
              "        <path d=\"M19 3H5c-1.1 0-2 .9-2 2v14c0 1.1.9 2 2 2h14c1.1 0 2-.9 2-2V5c0-1.1-.9-2-2-2zM9 17H7v-7h2v7zm4 0h-2V7h2v10zm4 0h-2v-4h2v4z\"/>\n",
              "    </g>\n",
              "</svg>\n",
              "  </button>\n",
              "\n",
              "<style>\n",
              "  .colab-df-quickchart {\n",
              "      --bg-color: #E8F0FE;\n",
              "      --fill-color: #1967D2;\n",
              "      --hover-bg-color: #E2EBFA;\n",
              "      --hover-fill-color: #174EA6;\n",
              "      --disabled-fill-color: #AAA;\n",
              "      --disabled-bg-color: #DDD;\n",
              "  }\n",
              "\n",
              "  [theme=dark] .colab-df-quickchart {\n",
              "      --bg-color: #3B4455;\n",
              "      --fill-color: #D2E3FC;\n",
              "      --hover-bg-color: #434B5C;\n",
              "      --hover-fill-color: #FFFFFF;\n",
              "      --disabled-bg-color: #3B4455;\n",
              "      --disabled-fill-color: #666;\n",
              "  }\n",
              "\n",
              "  .colab-df-quickchart {\n",
              "    background-color: var(--bg-color);\n",
              "    border: none;\n",
              "    border-radius: 50%;\n",
              "    cursor: pointer;\n",
              "    display: none;\n",
              "    fill: var(--fill-color);\n",
              "    height: 32px;\n",
              "    padding: 0;\n",
              "    width: 32px;\n",
              "  }\n",
              "\n",
              "  .colab-df-quickchart:hover {\n",
              "    background-color: var(--hover-bg-color);\n",
              "    box-shadow: 0 1px 2px rgba(60, 64, 67, 0.3), 0 1px 3px 1px rgba(60, 64, 67, 0.15);\n",
              "    fill: var(--button-hover-fill-color);\n",
              "  }\n",
              "\n",
              "  .colab-df-quickchart-complete:disabled,\n",
              "  .colab-df-quickchart-complete:disabled:hover {\n",
              "    background-color: var(--disabled-bg-color);\n",
              "    fill: var(--disabled-fill-color);\n",
              "    box-shadow: none;\n",
              "  }\n",
              "\n",
              "  .colab-df-spinner {\n",
              "    border: 2px solid var(--fill-color);\n",
              "    border-color: transparent;\n",
              "    border-bottom-color: var(--fill-color);\n",
              "    animation:\n",
              "      spin 1s steps(1) infinite;\n",
              "  }\n",
              "\n",
              "  @keyframes spin {\n",
              "    0% {\n",
              "      border-color: transparent;\n",
              "      border-bottom-color: var(--fill-color);\n",
              "      border-left-color: var(--fill-color);\n",
              "    }\n",
              "    20% {\n",
              "      border-color: transparent;\n",
              "      border-left-color: var(--fill-color);\n",
              "      border-top-color: var(--fill-color);\n",
              "    }\n",
              "    30% {\n",
              "      border-color: transparent;\n",
              "      border-left-color: var(--fill-color);\n",
              "      border-top-color: var(--fill-color);\n",
              "      border-right-color: var(--fill-color);\n",
              "    }\n",
              "    40% {\n",
              "      border-color: transparent;\n",
              "      border-right-color: var(--fill-color);\n",
              "      border-top-color: var(--fill-color);\n",
              "    }\n",
              "    60% {\n",
              "      border-color: transparent;\n",
              "      border-right-color: var(--fill-color);\n",
              "    }\n",
              "    80% {\n",
              "      border-color: transparent;\n",
              "      border-right-color: var(--fill-color);\n",
              "      border-bottom-color: var(--fill-color);\n",
              "    }\n",
              "    90% {\n",
              "      border-color: transparent;\n",
              "      border-bottom-color: var(--fill-color);\n",
              "    }\n",
              "  }\n",
              "</style>\n",
              "\n",
              "  <script>\n",
              "    async function quickchart(key) {\n",
              "      const quickchartButtonEl =\n",
              "        document.querySelector('#' + key + ' button');\n",
              "      quickchartButtonEl.disabled = true;  // To prevent multiple clicks.\n",
              "      quickchartButtonEl.classList.add('colab-df-spinner');\n",
              "      try {\n",
              "        const charts = await google.colab.kernel.invokeFunction(\n",
              "            'suggestCharts', [key], {});\n",
              "      } catch (error) {\n",
              "        console.error('Error during call to suggestCharts:', error);\n",
              "      }\n",
              "      quickchartButtonEl.classList.remove('colab-df-spinner');\n",
              "      quickchartButtonEl.classList.add('colab-df-quickchart-complete');\n",
              "    }\n",
              "    (() => {\n",
              "      let quickchartButtonEl =\n",
              "        document.querySelector('#df-f1715320-8998-40dc-ad44-7248f4203e42 button');\n",
              "      quickchartButtonEl.style.display =\n",
              "        google.colab.kernel.accessAllowed ? 'block' : 'none';\n",
              "    })();\n",
              "  </script>\n",
              "</div>\n",
              "\n",
              "  <div id=\"id_681fd1f5-cab3-4d87-9342-b6ed07b98612\">\n",
              "    <style>\n",
              "      .colab-df-generate {\n",
              "        background-color: #E8F0FE;\n",
              "        border: none;\n",
              "        border-radius: 50%;\n",
              "        cursor: pointer;\n",
              "        display: none;\n",
              "        fill: #1967D2;\n",
              "        height: 32px;\n",
              "        padding: 0 0 0 0;\n",
              "        width: 32px;\n",
              "      }\n",
              "\n",
              "      .colab-df-generate:hover {\n",
              "        background-color: #E2EBFA;\n",
              "        box-shadow: 0px 1px 2px rgba(60, 64, 67, 0.3), 0px 1px 3px 1px rgba(60, 64, 67, 0.15);\n",
              "        fill: #174EA6;\n",
              "      }\n",
              "\n",
              "      [theme=dark] .colab-df-generate {\n",
              "        background-color: #3B4455;\n",
              "        fill: #D2E3FC;\n",
              "      }\n",
              "\n",
              "      [theme=dark] .colab-df-generate:hover {\n",
              "        background-color: #434B5C;\n",
              "        box-shadow: 0px 1px 3px 1px rgba(0, 0, 0, 0.15);\n",
              "        filter: drop-shadow(0px 1px 2px rgba(0, 0, 0, 0.3));\n",
              "        fill: #FFFFFF;\n",
              "      }\n",
              "    </style>\n",
              "    <button class=\"colab-df-generate\" onclick=\"generateWithVariable('results_df')\"\n",
              "            title=\"Generate code using this dataframe.\"\n",
              "            style=\"display:none;\">\n",
              "\n",
              "  <svg xmlns=\"http://www.w3.org/2000/svg\" height=\"24px\"viewBox=\"0 0 24 24\"\n",
              "       width=\"24px\">\n",
              "    <path d=\"M7,19H8.4L18.45,9,17,7.55,7,17.6ZM5,21V16.75L18.45,3.32a2,2,0,0,1,2.83,0l1.4,1.43a1.91,1.91,0,0,1,.58,1.4,1.91,1.91,0,0,1-.58,1.4L9.25,21ZM18.45,9,17,7.55Zm-12,3A5.31,5.31,0,0,0,4.9,8.1,5.31,5.31,0,0,0,1,6.5,5.31,5.31,0,0,0,4.9,4.9,5.31,5.31,0,0,0,6.5,1,5.31,5.31,0,0,0,8.1,4.9,5.31,5.31,0,0,0,12,6.5,5.46,5.46,0,0,0,6.5,12Z\"/>\n",
              "  </svg>\n",
              "    </button>\n",
              "    <script>\n",
              "      (() => {\n",
              "      const buttonEl =\n",
              "        document.querySelector('#id_681fd1f5-cab3-4d87-9342-b6ed07b98612 button.colab-df-generate');\n",
              "      buttonEl.style.display =\n",
              "        google.colab.kernel.accessAllowed ? 'block' : 'none';\n",
              "\n",
              "      buttonEl.onclick = () => {\n",
              "        google.colab.notebook.generateWithVariable('results_df');\n",
              "      }\n",
              "      })();\n",
              "    </script>\n",
              "  </div>\n",
              "\n",
              "    </div>\n",
              "  </div>\n"
            ],
            "application/vnd.google.colaboratory.intrinsic+json": {
              "type": "dataframe",
              "variable_name": "results_df",
              "summary": "{\n  \"name\": \"results_df\",\n  \"rows\": 10,\n  \"fields\": [\n    {\n      \"column\": \"n_neighbors\",\n      \"properties\": {\n        \"dtype\": \"number\",\n        \"std\": 15,\n        \"min\": 1,\n        \"max\": 46,\n        \"num_unique_values\": 10,\n        \"samples\": [\n          41,\n          6,\n          26\n        ],\n        \"semantic_type\": \"\",\n        \"description\": \"\"\n      }\n    },\n    {\n      \"column\": \"mean_train_score\",\n      \"properties\": {\n        \"dtype\": \"number\",\n        \"std\": 0.08824974893563825,\n        \"min\": 0.6941545253863135,\n        \"max\": 1.0,\n        \"num_unique_values\": 10,\n        \"samples\": [\n          0.7061280353200883,\n          0.8311346578366446,\n          0.755364238410596\n        ],\n        \"semantic_type\": \"\",\n        \"description\": \"\"\n      }\n    },\n    {\n      \"column\": \"mean_cv_score\",\n      \"properties\": {\n        \"dtype\": \"number\",\n        \"std\": 0.0489900738809497,\n        \"min\": 0.6601706970128023,\n        \"max\": 0.8029871977240399,\n        \"num_unique_values\": 10,\n        \"samples\": [\n          0.6812233285917497,\n          0.7926031294452348,\n          0.7236130867709816\n        ],\n        \"semantic_type\": \"\",\n        \"description\": \"\"\n      }\n    },\n    {\n      \"column\": \"std_cv_score\",\n      \"properties\": {\n        \"dtype\": \"number\",\n        \"std\": 0.014497156514904064,\n        \"min\": 0.04112896812176659,\n        \"max\": 0.09339001374687024,\n        \"num_unique_values\": 10,\n        \"samples\": [\n          0.06124147700152827,\n          0.046020092636412525,\n          0.06193666355794388\n        ],\n        \"semantic_type\": \"\",\n        \"description\": \"\"\n      }\n    },\n    {\n      \"column\": \"std_train_score\",\n      \"properties\": {\n        \"dtype\": \"number\",\n        \"std\": 0.008692015916385817,\n        \"min\": 0.0,\n        \"max\": 0.03040786280159167,\n        \"num_unique_values\": 10,\n        \"samples\": [\n          0.018309757139474497,\n          0.013432881310015863,\n          0.025909638130057807\n        ],\n        \"semantic_type\": \"\",\n        \"description\": \"\"\n      }\n    }\n  ]\n}"
            }
          },
          "metadata": {},
          "execution_count": 30
        }
      ],
      "source": [
        "results_df = results_df.set_index(\"n_neighbors\")\n",
        "results_df"
      ]
    },
    {
      "cell_type": "code",
      "execution_count": 31,
      "id": "90dc62c2",
      "metadata": {
        "colab": {
          "base_uri": "https://localhost:8080/",
          "height": 450
        },
        "id": "90dc62c2",
        "outputId": "1cd28da8-62a3-49de-c161-3d09db9aba50"
      },
      "outputs": [
        {
          "output_type": "display_data",
          "data": {
            "text/plain": [
              "<Figure size 640x480 with 1 Axes>"
            ],
            "image/png": "[encoded data removed]"
          },
          "metadata": {}
        }
      ],
      "source": [
        "results_df[[\"mean_train_score\", \"mean_cv_score\"]].plot();"
      ]
    },
    {
      "cell_type": "code",
      "execution_count": 32,
      "id": "c88364b6",
      "metadata": {
        "colab": {
          "base_uri": "https://localhost:8080/"
        },
        "id": "c88364b6",
        "outputId": "1c1896bf-ddac-4720-9bbb-fcf50df27f49"
      },
      "outputs": [
        {
          "output_type": "execute_result",
          "data": {
            "text/plain": [
              "11"
            ]
          },
          "metadata": {},
          "execution_count": 32
        }
      ],
      "source": [
        "best_n_neighbours = results_df.idxmax()[\"mean_cv_score\"]\n",
        "best_n_neighbours"
      ]
    },
    {
      "cell_type": "code",
      "execution_count": null,
      "id": "91c0ea13",
      "metadata": {
        "id": "91c0ea13"
      },
      "outputs": [],
      "source": []
    },
    {
      "cell_type": "markdown",
      "id": "136614ed",
      "metadata": {
        "id": "136614ed"
      },
      "source": [
        "Let's try our best model on test data."
      ]
    },
    {
      "cell_type": "code",
      "execution_count": 33,
      "id": "5d03618c",
      "metadata": {
        "colab": {
          "base_uri": "https://localhost:8080/"
        },
        "id": "5d03618c",
        "outputId": "d6d0e773-b01a-4460-e1d2-fa6fb27afc46"
      },
      "outputs": [
        {
          "output_type": "stream",
          "name": "stdout",
          "text": [
            "Test accuracy: 0.905\n"
          ]
        }
      ],
      "source": [
        "knn = KNeighborsClassifier(n_neighbors=best_n_neighbours)\n",
        "knn.fit(X_train, y_train)\n",
        "print(\"Test accuracy: %0.3f\" % (knn.score(X_test, y_test)))"
      ]
    },
    {
      "cell_type": "markdown",
      "id": "2bfd8151",
      "metadata": {
        "id": "2bfd8151"
      },
      "source": [
        "Looking good!"
      ]
    },
    {
      "cell_type": "code",
      "execution_count": null,
      "id": "004195ba",
      "metadata": {
        "id": "004195ba"
      },
      "outputs": [],
      "source": []
    },
    {
      "cell_type": "markdown",
      "id": "004d5586",
      "metadata": {
        "id": "004d5586"
      },
      "source": [
        "## Iris dataset"
      ]
    },
    {
      "cell_type": "code",
      "execution_count": 34,
      "id": "ad13f8bd",
      "metadata": {
        "id": "ad13f8bd"
      },
      "outputs": [],
      "source": [
        "# Import necessary modules\n",
        "from sklearn.neighbors import KNeighborsClassifier\n",
        "from sklearn.model_selection import train_test_split\n",
        "from sklearn.datasets import load_iris\n",
        "\n",
        "# Loading data\n",
        "irisData = load_iris()"
      ]
    },
    {
      "cell_type": "code",
      "execution_count": 35,
      "id": "961fd6dd",
      "metadata": {
        "colab": {
          "base_uri": "https://localhost:8080/"
        },
        "id": "961fd6dd",
        "outputId": "875ecd12-6fbd-4d63-ace8-956b00996a41"
      },
      "outputs": [
        {
          "output_type": "stream",
          "name": "stdout",
          "text": [
            "['sepal length (cm)', 'sepal width (cm)', 'petal length (cm)', 'petal width (cm)']\n"
          ]
        }
      ],
      "source": [
        "# Names of features/columns in iris dataset\n",
        "print(irisData.feature_names)\n",
        "\n",
        "\n",
        "\n"
      ]
    },
    {
      "cell_type": "code",
      "execution_count": 36,
      "id": "c17e02ed",
      "metadata": {
        "colab": {
          "base_uri": "https://localhost:8080/"
        },
        "id": "c17e02ed",
        "outputId": "0733c425-1b4d-45c6-c290-02f9ede89ce9"
      },
      "outputs": [
        {
          "output_type": "stream",
          "name": "stdout",
          "text": [
            "['setosa' 'versicolor' 'virginica']\n"
          ]
        }
      ],
      "source": [
        "# Names of target/output in iris dataset\n",
        "print(irisData.target_names)\n"
      ]
    },
    {
      "cell_type": "code",
      "execution_count": 37,
      "id": "f3278a6b",
      "metadata": {
        "colab": {
          "base_uri": "https://localhost:8080/"
        },
        "id": "f3278a6b",
        "outputId": "0b9d6c75-5dbd-40a1-8130-dc0896387d38"
      },
      "outputs": [
        {
          "output_type": "stream",
          "name": "stdout",
          "text": [
            "[[5.1 3.5 1.4 0.2]\n",
            " [4.9 3.  1.4 0.2]\n",
            " [4.7 3.2 1.3 0.2]\n",
            " [4.6 3.1 1.5 0.2]\n",
            " [5.  3.6 1.4 0.2]\n",
            " [5.4 3.9 1.7 0.4]\n",
            " [4.6 3.4 1.4 0.3]\n",
            " [5.  3.4 1.5 0.2]\n",
            " [4.4 2.9 1.4 0.2]\n",
            " [4.9 3.1 1.5 0.1]\n",
            " [5.4 3.7 1.5 0.2]\n",
            " [4.8 3.4 1.6 0.2]\n",
            " [4.8 3.  1.4 0.1]\n",
            " [4.3 3.  1.1 0.1]\n",
            " [5.8 4.  1.2 0.2]\n",
            " [5.7 4.4 1.5 0.4]\n",
            " [5.4 3.9 1.3 0.4]\n",
            " [5.1 3.5 1.4 0.3]\n",
            " [5.7 3.8 1.7 0.3]\n",
            " [5.1 3.8 1.5 0.3]\n",
            " [5.4 3.4 1.7 0.2]\n",
            " [5.1 3.7 1.5 0.4]\n",
            " [4.6 3.6 1.  0.2]\n",
            " [5.1 3.3 1.7 0.5]\n",
            " [4.8 3.4 1.9 0.2]\n",
            " [5.  3.  1.6 0.2]\n",
            " [5.  3.4 1.6 0.4]\n",
            " [5.2 3.5 1.5 0.2]\n",
            " [5.2 3.4 1.4 0.2]\n",
            " [4.7 3.2 1.6 0.2]\n",
            " [4.8 3.1 1.6 0.2]\n",
            " [5.4 3.4 1.5 0.4]\n",
            " [5.2 4.1 1.5 0.1]\n",
            " [5.5 4.2 1.4 0.2]\n",
            " [4.9 3.1 1.5 0.2]\n",
            " [5.  3.2 1.2 0.2]\n",
            " [5.5 3.5 1.3 0.2]\n",
            " [4.9 3.6 1.4 0.1]\n",
            " [4.4 3.  1.3 0.2]\n",
            " [5.1 3.4 1.5 0.2]\n",
            " [5.  3.5 1.3 0.3]\n",
            " [4.5 2.3 1.3 0.3]\n",
            " [4.4 3.2 1.3 0.2]\n",
            " [5.  3.5 1.6 0.6]\n",
            " [5.1 3.8 1.9 0.4]\n",
            " [4.8 3.  1.4 0.3]\n",
            " [5.1 3.8 1.6 0.2]\n",
            " [4.6 3.2 1.4 0.2]\n",
            " [5.3 3.7 1.5 0.2]\n",
            " [5.  3.3 1.4 0.2]\n",
            " [7.  3.2 4.7 1.4]\n",
            " [6.4 3.2 4.5 1.5]\n",
            " [6.9 3.1 4.9 1.5]\n",
            " [5.5 2.3 4.  1.3]\n",
            " [6.5 2.8 4.6 1.5]\n",
            " [5.7 2.8 4.5 1.3]\n",
            " [6.3 3.3 4.7 1.6]\n",
            " [4.9 2.4 3.3 1. ]\n",
            " [6.6 2.9 4.6 1.3]\n",
            " [5.2 2.7 3.9 1.4]\n",
            " [5.  2.  3.5 1. ]\n",
            " [5.9 3.  4.2 1.5]\n",
            " [6.  2.2 4.  1. ]\n",
            " [6.1 2.9 4.7 1.4]\n",
            " [5.6 2.9 3.6 1.3]\n",
            " [6.7 3.1 4.4 1.4]\n",
            " [5.6 3.  4.5 1.5]\n",
            " [5.8 2.7 4.1 1. ]\n",
            " [6.2 2.2 4.5 1.5]\n",
            " [5.6 2.5 3.9 1.1]\n",
            " [5.9 3.2 4.8 1.8]\n",
            " [6.1 2.8 4.  1.3]\n",
            " [6.3 2.5 4.9 1.5]\n",
            " [6.1 2.8 4.7 1.2]\n",
            " [6.4 2.9 4.3 1.3]\n",
            " [6.6 3.  4.4 1.4]\n",
            " [6.8 2.8 4.8 1.4]\n",
            " [6.7 3.  5.  1.7]\n",
            " [6.  2.9 4.5 1.5]\n",
            " [5.7 2.6 3.5 1. ]\n",
            " [5.5 2.4 3.8 1.1]\n",
            " [5.5 2.4 3.7 1. ]\n",
            " [5.8 2.7 3.9 1.2]\n",
            " [6.  2.7 5.1 1.6]\n",
            " [5.4 3.  4.5 1.5]\n",
            " [6.  3.4 4.5 1.6]\n",
            " [6.7 3.1 4.7 1.5]\n",
            " [6.3 2.3 4.4 1.3]\n",
            " [5.6 3.  4.1 1.3]\n",
            " [5.5 2.5 4.  1.3]\n",
            " [5.5 2.6 4.4 1.2]\n",
            " [6.1 3.  4.6 1.4]\n",
            " [5.8 2.6 4.  1.2]\n",
            " [5.  2.3 3.3 1. ]\n",
            " [5.6 2.7 4.2 1.3]\n",
            " [5.7 3.  4.2 1.2]\n",
            " [5.7 2.9 4.2 1.3]\n",
            " [6.2 2.9 4.3 1.3]\n",
            " [5.1 2.5 3.  1.1]\n",
            " [5.7 2.8 4.1 1.3]\n",
            " [6.3 3.3 6.  2.5]\n",
            " [5.8 2.7 5.1 1.9]\n",
            " [7.1 3.  5.9 2.1]\n",
            " [6.3 2.9 5.6 1.8]\n",
            " [6.5 3.  5.8 2.2]\n",
            " [7.6 3.  6.6 2.1]\n",
            " [4.9 2.5 4.5 1.7]\n",
            " [7.3 2.9 6.3 1.8]\n",
            " [6.7 2.5 5.8 1.8]\n",
            " [7.2 3.6 6.1 2.5]\n",
            " [6.5 3.2 5.1 2. ]\n",
            " [6.4 2.7 5.3 1.9]\n",
            " [6.8 3.  5.5 2.1]\n",
            " [5.7 2.5 5.  2. ]\n",
            " [5.8 2.8 5.1 2.4]\n",
            " [6.4 3.2 5.3 2.3]\n",
            " [6.5 3.  5.5 1.8]\n",
            " [7.7 3.8 6.7 2.2]\n",
            " [7.7 2.6 6.9 2.3]\n",
            " [6.  2.2 5.  1.5]\n",
            " [6.9 3.2 5.7 2.3]\n",
            " [5.6 2.8 4.9 2. ]\n",
            " [7.7 2.8 6.7 2. ]\n",
            " [6.3 2.7 4.9 1.8]\n",
            " [6.7 3.3 5.7 2.1]\n",
            " [7.2 3.2 6.  1.8]\n",
            " [6.2 2.8 4.8 1.8]\n",
            " [6.1 3.  4.9 1.8]\n",
            " [6.4 2.8 5.6 2.1]\n",
            " [7.2 3.  5.8 1.6]\n",
            " [7.4 2.8 6.1 1.9]\n",
            " [7.9 3.8 6.4 2. ]\n",
            " [6.4 2.8 5.6 2.2]\n",
            " [6.3 2.8 5.1 1.5]\n",
            " [6.1 2.6 5.6 1.4]\n",
            " [7.7 3.  6.1 2.3]\n",
            " [6.3 3.4 5.6 2.4]\n",
            " [6.4 3.1 5.5 1.8]\n",
            " [6.  3.  4.8 1.8]\n",
            " [6.9 3.1 5.4 2.1]\n",
            " [6.7 3.1 5.6 2.4]\n",
            " [6.9 3.1 5.1 2.3]\n",
            " [5.8 2.7 5.1 1.9]\n",
            " [6.8 3.2 5.9 2.3]\n",
            " [6.7 3.3 5.7 2.5]\n",
            " [6.7 3.  5.2 2.3]\n",
            " [6.3 2.5 5.  1.9]\n",
            " [6.5 3.  5.2 2. ]\n",
            " [6.2 3.4 5.4 2.3]\n",
            " [5.9 3.  5.1 1.8]]\n"
          ]
        }
      ],
      "source": [
        "# Store features matrix in X\n",
        "X= irisData.data\n",
        "#Store target vector in\n",
        "y= irisData.target\n",
        "\n",
        "#let's print features\n",
        "print(X)\n"
      ]
    },
    {
      "cell_type": "code",
      "execution_count": 38,
      "id": "9daca0c2",
      "metadata": {
        "colab": {
          "base_uri": "https://localhost:8080/"
        },
        "id": "9daca0c2",
        "outputId": "75d90cbd-2fec-41e4-afca-29d09a0bf128"
      },
      "outputs": [
        {
          "output_type": "stream",
          "name": "stdout",
          "text": [
            "[0 0 0 0 0 0 0 0 0 0 0 0 0 0 0 0 0 0 0 0 0 0 0 0 0 0 0 0 0 0 0 0 0 0 0 0 0\n",
            " 0 0 0 0 0 0 0 0 0 0 0 0 0 1 1 1 1 1 1 1 1 1 1 1 1 1 1 1 1 1 1 1 1 1 1 1 1\n",
            " 1 1 1 1 1 1 1 1 1 1 1 1 1 1 1 1 1 1 1 1 1 1 1 1 1 1 2 2 2 2 2 2 2 2 2 2 2\n",
            " 2 2 2 2 2 2 2 2 2 2 2 2 2 2 2 2 2 2 2 2 2 2 2 2 2 2 2 2 2 2 2 2 2 2 2 2 2\n",
            " 2 2]\n"
          ]
        }
      ],
      "source": [
        "# print target vector : # iris species: 0 = setosa, 1 = versicolor, 2 = virginica\n",
        "print(y)\n"
      ]
    },
    {
      "cell_type": "code",
      "execution_count": 39,
      "id": "555418f3",
      "metadata": {
        "colab": {
          "base_uri": "https://localhost:8080/",
          "height": 472
        },
        "id": "555418f3",
        "outputId": "528b7033-02b0-4153-e7f7-00ad9936f1c9"
      },
      "outputs": [
        {
          "output_type": "display_data",
          "data": {
            "text/plain": [
              "<Figure size 640x480 with 1 Axes>"
            ],
            "image/png": "[encoded data removed]"
          },
          "metadata": {}
        }
      ],
      "source": [
        "# Define markers for each species\n",
        "markers = ['o', '^', 's']\n",
        "\n",
        "# Define colors for each species\n",
        "colors = ['blue', 'orange', 'green']\n",
        "\n",
        "# Names of the species\n",
        "species = ['Setosa', 'Versicolor', 'Virginica']\n",
        "\n",
        "# Plot each species\n",
        "for i in range(len(species)):\n",
        "    # Extract the indices for which the target is equal to the species number (i)\n",
        "    xs = X[:, 2][y == i]  # Petal length is the third feature\n",
        "    ys = X[:, 3][y == i]  # Petal width is the fourth feature\n",
        "    plt.scatter(xs, ys, c=colors[i], marker=markers[i], label=f'class {i} ({species[i]})')\n",
        "\n",
        "# Customize the plot\n",
        "plt.xlabel('petal length [cm]')\n",
        "plt.ylabel('petal width [cm]')\n",
        "plt.title('Iris Species Classification by Petal Size')\n",
        "plt.legend(loc='upper left')\n",
        "\n",
        "# Display the plot\n",
        "plt.show()"
      ]
    },
    {
      "cell_type": "code",
      "execution_count": 40,
      "id": "7db4f91f",
      "metadata": {
        "id": "7db4f91f"
      },
      "outputs": [],
      "source": [
        "X_train, X_test, y_train, y_test = train_test_split(\n",
        "             X, y, test_size = 0.5, random_state=42)\n"
      ]
    },
    {
      "cell_type": "code",
      "execution_count": 41,
      "id": "c2a720ee",
      "metadata": {
        "colab": {
          "base_uri": "https://localhost:8080/"
        },
        "id": "c2a720ee",
        "outputId": "8ea9a4b9-f878-45e3-f2fa-f242d093a56b"
      },
      "outputs": [
        {
          "output_type": "stream",
          "name": "stdout",
          "text": [
            "[1 0 2 1 1 0 1 2 1 1 2 0 0 0 0 1 2 1 1 2 0 2 0 2 2 2 2 2 0 0 0 0 1 0 0 2 1\n",
            " 0 0 0 2 1 1 0 0 1 1 2 1 2 1 2 1 0 2 1 0 0 0 1 1 0 0 0 1 0 1 2 0 1 2 0 2 2\n",
            " 1]\n"
          ]
        }
      ],
      "source": [
        "from sklearn.neighbors import KNeighborsClassifier\n",
        "knn = KNeighborsClassifier(n_neighbors=3)\n",
        "knn.fit(X_train, y_train)\n",
        "\n",
        "# train accuracy\n",
        "print(knn.predict(X_test))"
      ]
    },
    {
      "cell_type": "code",
      "execution_count": 42,
      "id": "fb74b993",
      "metadata": {
        "colab": {
          "base_uri": "https://localhost:8080/"
        },
        "id": "fb74b993",
        "outputId": "431e9b76-6f7c-4d64-925f-605db24fecad"
      },
      "outputs": [
        {
          "output_type": "stream",
          "name": "stdout",
          "text": [
            "0.9733333333333334\n"
          ]
        }
      ],
      "source": [
        "print(knn.score(X_test, y_test))\n"
      ]
    },
    {
      "cell_type": "code",
      "execution_count": 43,
      "id": "bf5784ac",
      "metadata": {
        "colab": {
          "base_uri": "https://localhost:8080/",
          "height": 449
        },
        "id": "bf5784ac",
        "outputId": "ef83cc0f-f427-4805-c6f8-6903cca05bf9"
      },
      "outputs": [
        {
          "output_type": "display_data",
          "data": {
            "text/plain": [
              "<Figure size 640x480 with 2 Axes>"
            ],
            "image/png": "[encoded data removed]"
          },
          "metadata": {}
        }
      ],
      "source": [
        "from sklearn.metrics import confusion_matrix, ConfusionMatrixDisplay\n",
        "\n",
        "y_pred=knn.predict(X_test)\n",
        "cm=confusion_matrix(y_test,y_pred)\n",
        "disp=ConfusionMatrixDisplay(cm, display_labels=knn.classes_)\n",
        "disp.plot()\n",
        "plt.show()"
      ]
    },
    {
      "cell_type": "code",
      "execution_count": null,
      "id": "0dedf154",
      "metadata": {
        "id": "0dedf154"
      },
      "outputs": [],
      "source": [
        "#!pip install mlxtend"
      ]
    },
    {
      "cell_type": "code",
      "execution_count": 44,
      "id": "c89b7cfa",
      "metadata": {
        "colab": {
          "base_uri": "https://localhost:8080/",
          "height": 455
        },
        "id": "c89b7cfa",
        "outputId": "2efaad92-ad5b-4b67-fc03-873abb0fcbad"
      },
      "outputs": [
        {
          "output_type": "display_data",
          "data": {
            "text/plain": [
              "<Figure size 640x480 with 1 Axes>"
            ],
            "image/png": "[encoded data removed]"
          },
          "metadata": {}
        }
      ],
      "source": [
        "from mlxtend.plotting import plot_decision_regions\n",
        "\n",
        "X_train, X_test, y_train, y_test = train_test_split(\n",
        "             X[:,2:], y, test_size = 0.5, random_state=42)\n",
        "\n",
        "knn_=KNeighborsClassifier(n_neighbors=3)\n",
        "knn_.fit(X_train, y_train)\n",
        "\n",
        "plot_decision_regions(X_test, y_test, knn_)\n",
        "plt.xlabel('Petal length [cm]')\n",
        "plt.xlabel('Petal width [cm]')\n",
        "plt.legend(loc='upper left')\n",
        "plt.show()"
      ]
    },
    {
      "cell_type": "code",
      "execution_count": 45,
      "id": "37735cc3",
      "metadata": {
        "colab": {
          "base_uri": "https://localhost:8080/",
          "height": 450
        },
        "id": "37735cc3",
        "outputId": "b2522d09-64fc-4d07-e888-251fe902568c"
      },
      "outputs": [
        {
          "output_type": "display_data",
          "data": {
            "text/plain": [
              "<Figure size 640x480 with 1 Axes>"
            ],
            "image/png": "[encoded data removed]"
          },
          "metadata": {}
        }
      ],
      "source": [
        "## Trying different k values\n",
        "\n",
        "k_values=np.arange(1,20)\n",
        "tr_acc=np.empty(len(k_values))\n",
        "ts_acc=np.empty(len(k_values))\n",
        "\n",
        "for i, k in enumerate(k_values):\n",
        "    knn=KNeighborsClassifier(n_neighbors=k)\n",
        "    knn.fit(X_train, y_train)\n",
        "\n",
        "    tr_acc[i]=knn.score(X_train, y_train)\n",
        "    ts_acc[i]=knn.score(X_test, y_test)\n",
        "\n",
        "\n",
        "plt.plot(k_values, ts_acc, label='Testing dataset accuracy')\n",
        "plt.plot(k_values, tr_acc, label='Training dataset accuracy')\n",
        "\n",
        "plt.legend()\n",
        "plt.xlabel('n_neighbors')\n",
        "plt.ylabel('Accuracy')\n",
        "plt.show()\n"
      ]
    },
    {
      "cell_type": "code",
      "execution_count": null,
      "id": "36c8d5bc",
      "metadata": {
        "id": "36c8d5bc"
      },
      "outputs": [],
      "source": []
    },
    {
      "cell_type": "markdown",
      "source": [
        "### Using feature scaling"
      ],
      "metadata": {
        "id": "Ex56Rq3fqU-G"
      },
      "id": "Ex56Rq3fqU-G"
    },
    {
      "cell_type": "code",
      "execution_count": null,
      "id": "16042021",
      "metadata": {
        "colab": {
          "base_uri": "https://localhost:8080/"
        },
        "id": "16042021",
        "outputId": "f8b2c11a-426c-4688-c277-c34549fe6c98"
      },
      "outputs": [
        {
          "output_type": "stream",
          "name": "stdout",
          "text": [
            "0.9866666666666667\n"
          ]
        }
      ],
      "source": [
        "##Using feature scaling\n",
        "from sklearn import preprocessing\n",
        "min_max_scaler = preprocessing.MinMaxScaler()\n",
        "X = min_max_scaler.fit_transform(X)\n",
        "# Split into training and test set\n",
        "X_train, X_test, y_train, y_test = train_test_split(\n",
        "             X, y, test_size = 0.5, random_state=42)\n",
        "\n",
        "from sklearn.neighbors import KNeighborsClassifier\n",
        "knn = KNeighborsClassifier(n_neighbors=3)\n",
        "knn.fit(X_train, y_train)\n",
        "\n",
        "# test accuracy\n",
        "print(knn.score(X_test, y_test))\n"
      ]
    },
    {
      "cell_type": "code",
      "execution_count": null,
      "id": "f0a6f6b5",
      "metadata": {
        "id": "f0a6f6b5"
      },
      "outputs": [],
      "source": []
    },
    {
      "cell_type": "markdown",
      "id": "2f526efc",
      "metadata": {
        "id": "2f526efc"
      },
      "source": [
        "## Distance-Weighted KNN"
      ]
    },
    {
      "cell_type": "code",
      "execution_count": null,
      "id": "ce8dfe13",
      "metadata": {
        "id": "ce8dfe13"
      },
      "outputs": [],
      "source": []
    },
    {
      "cell_type": "markdown",
      "id": "62d458c4",
      "metadata": {
        "id": "62d458c4"
      },
      "source": [
        "### Other useful arguments of `KNeighborsClassifier`\n",
        "\n",
        "- `weights` $\\rightarrow$ When predicting label, you can assign higher weight to the examples which are closer to the query example.  \n",
        "- Exercise for you: Play around with this argument. Do you get a better validation score?"
      ]
    },
    {
      "cell_type": "markdown",
      "id": "45de7776",
      "metadata": {
        "id": "45de7776"
      },
      "source": [
        "### Regression with $k$-nearest neighbours ($k$-NNs)\n",
        "\n",
        "- Can we solve regression problems with $k$-nearest neighbours algorithm?\n",
        "- In $k$-NN regression we take the average of the $k$-nearest neighbours.\n",
        "- We can also have weighted regression.\n",
        "\n",
        "See an example of regression in the lecture notes."
      ]
    },
    {
      "cell_type": "code",
      "execution_count": null,
      "id": "ce3d72df",
      "metadata": {
        "colab": {
          "base_uri": "https://localhost:8080/",
          "height": 578
        },
        "id": "ce3d72df",
        "outputId": "840319e0-76bb-44f2-8204-85e348828476"
      },
      "outputs": [
        {
          "output_type": "display_data",
          "data": {
            "text/plain": [
              "<Figure size 1000x600 with 1 Axes>"
            ],
            "image/png": "[encoded data removed]"
          },
          "metadata": {}
        }
      ],
      "source": [
        "mglearn.plots.plot_knn_regression(n_neighbors=1)"
      ]
    },
    {
      "cell_type": "code",
      "execution_count": null,
      "id": "9d4111e1",
      "metadata": {
        "colab": {
          "base_uri": "https://localhost:8080/",
          "height": 578
        },
        "id": "9d4111e1",
        "outputId": "6218bf44-37dd-48ad-daac-914fe803d008"
      },
      "outputs": [
        {
          "output_type": "display_data",
          "data": {
            "text/plain": [
              "<Figure size 1000x600 with 1 Axes>"
            ],
            "image/png": "[encoded data removed]"
          },
          "metadata": {}
        }
      ],
      "source": [
        "mglearn.plots.plot_knn_regression(n_neighbors=3)"
      ]
    },
    {
      "cell_type": "code",
      "execution_count": null,
      "id": "69d9406a",
      "metadata": {
        "id": "69d9406a"
      },
      "outputs": [],
      "source": []
    },
    {
      "cell_type": "markdown",
      "id": "98452e0e",
      "metadata": {
        "id": "98452e0e"
      },
      "source": [
        "### Pros of $k$-NNs for supervised learning\n",
        "\n",
        "- Easy to understand, interpret.\n",
        "- Simple hyperparameter $k$ (`n_neighbors`) controlling the fundamental tradeoff.\n",
        "- Can learn very complex functions given enough data.\n",
        "- Lazy learning: Takes no time to `fit`"
      ]
    },
    {
      "cell_type": "markdown",
      "id": "5d0e75b4",
      "metadata": {
        "id": "5d0e75b4"
      },
      "source": [
        "### Cons of $k$-NNs for supervised learning\n",
        "\n",
        "- Can be potentially be VERY slow during prediction time, especially when the training set is very large.\n",
        "- Often not that great test accuracy compared to the modern approaches.\n",
        "- It does not work well on datasets with many features or where most feature values are 0 most of the time (sparse datasets).    "
      ]
    }
  ],
  "metadata": {
    "kernelspec": {
      "display_name": "Python 3 (ipykernel)",
      "language": "python",
      "name": "python3"
    },
    "language_info": {
      "codemirror_mode": {
        "name": "ipython",
        "version": 3
      },
      "file_extension": ".py",
      "mimetype": "text/x-python",
      "name": "python",
      "nbconvert_exporter": "python",
      "pygments_lexer": "ipython3",
      "version": "3.8.16"
    },
    "colab": {
      "provenance": [],
      "collapsed_sections": [
        "bbd3b1ec",
        "8ed9aa96",
        "37ba55d7",
        "01e96d39",
        "004d5586",
        "2f526efc"
      ]
    },
    "widgets": {
      "application/vnd.jupyter.widget-state+json": {
        "562989dccd1640adb8690bfdce268968": {
          "model_module": "@jupyter-widgets/controls",
          "model_name": "VBoxModel",
          "model_module_version": "1.5.0",
          "state": {
            "_dom_classes": [
              "widget-interact"
            ],
            "_model_module": "@jupyter-widgets/controls",
            "_model_module_version": "1.5.0",
            "_model_name": "VBoxModel",
            "_view_count": null,
            "_view_module": "@jupyter-widgets/controls",
            "_view_module_version": "1.5.0",
            "_view_name": "VBoxView",
            "box_style": "",
            "children": [
              "IPY_MODEL_5175b401f9c24a93be25aa1abdbe04ed",
              "IPY_MODEL_781e96d2063f407ea5742227dac35cf8"
            ],
            "layout": "IPY_MODEL_bc987a5a72e54c14a84541518dd9b09a"
          }
        },
        "5175b401f9c24a93be25aa1abdbe04ed": {
          "model_module": "@jupyter-widgets/controls",
          "model_name": "IntSliderModel",
          "model_module_version": "1.5.0",
          "state": {
            "_dom_classes": [],
            "_model_module": "@jupyter-widgets/controls",
            "_model_module_version": "1.5.0",
            "_model_name": "IntSliderModel",
            "_view_count": null,
            "_view_module": "@jupyter-widgets/controls",
            "_view_module_version": "1.5.0",
            "_view_name": "IntSliderView",
            "continuous_update": true,
            "description": "n_neighbors",
            "description_tooltip": null,
            "disabled": false,
            "layout": "IPY_MODEL_65883695a4874b0392e1e4c0bb8f353b",
            "max": 10,
            "min": 1,
            "orientation": "horizontal",
            "readout": true,
            "readout_format": "d",
            "step": 2,
            "style": "IPY_MODEL_02cb8701e189441a8d4d39572fd6e8e7",
            "value": 1
          }
        },
        "781e96d2063f407ea5742227dac35cf8": {
          "model_module": "@jupyter-widgets/output",
          "model_name": "OutputModel",
          "model_module_version": "1.0.0",
          "state": {
            "_dom_classes": [],
            "_model_module": "@jupyter-widgets/output",
            "_model_module_version": "1.0.0",
            "_model_name": "OutputModel",
            "_view_count": null,
            "_view_module": "@jupyter-widgets/output",
            "_view_module_version": "1.0.0",
            "_view_name": "OutputView",
            "layout": "IPY_MODEL_4c389321ce354bdaa49c036cb63a8230",
            "msg_id": "",
            "outputs": [
              {
                "output_type": "stream",
                "name": "stdout",
                "text": [
                  "n_neighbors 1\n"
                ]
              },
              {
                "output_type": "display_data",
                "data": {
                  "text/plain": "<Figure size 640x480 with 1 Axes>",
                  "image/png": "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\n"
                },
                "metadata": {}
              }
            ]
          }
        },
        "bc987a5a72e54c14a84541518dd9b09a": {
          "model_module": "@jupyter-widgets/base",
          "model_name": "LayoutModel",
          "model_module_version": "1.2.0",
          "state": {
            "_model_module": "@jupyter-widgets/base",
            "_model_module_version": "1.2.0",
            "_model_name": "LayoutModel",
            "_view_count": null,
            "_view_module": "@jupyter-widgets/base",
            "_view_module_version": "1.2.0",
            "_view_name": "LayoutView",
            "align_content": null,
            "align_items": null,
            "align_self": null,
            "border": null,
            "bottom": null,
            "display": null,
            "flex": null,
            "flex_flow": null,
            "grid_area": null,
            "grid_auto_columns": null,
            "grid_auto_flow": null,
            "grid_auto_rows": null,
            "grid_column": null,
            "grid_gap": null,
            "grid_row": null,
            "grid_template_areas": null,
            "grid_template_columns": null,
            "grid_template_rows": null,
            "height": null,
            "justify_content": null,
            "justify_items": null,
            "left": null,
            "margin": null,
            "max_height": null,
            "max_width": null,
            "min_height": null,
            "min_width": null,
            "object_fit": null,
            "object_position": null,
            "order": null,
            "overflow": null,
            "overflow_x": null,
            "overflow_y": null,
            "padding": null,
            "right": null,
            "top": null,
            "visibility": null,
            "width": null
          }
        },
        "65883695a4874b0392e1e4c0bb8f353b": {
          "model_module": "@jupyter-widgets/base",
          "model_name": "LayoutModel",
          "model_module_version": "1.2.0",
          "state": {
            "_model_module": "@jupyter-widgets/base",
            "_model_module_version": "1.2.0",
            "_model_name": "LayoutModel",
            "_view_count": null,
            "_view_module": "@jupyter-widgets/base",
            "_view_module_version": "1.2.0",
            "_view_name": "LayoutView",
            "align_content": null,
            "align_items": null,
            "align_self": null,
            "border": null,
            "bottom": null,
            "display": null,
            "flex": null,
            "flex_flow": null,
            "grid_area": null,
            "grid_auto_columns": null,
            "grid_auto_flow": null,
            "grid_auto_rows": null,
            "grid_column": null,
            "grid_gap": null,
            "grid_row": null,
            "grid_template_areas": null,
            "grid_template_columns": null,
            "grid_template_rows": null,
            "height": null,
            "justify_content": null,
            "justify_items": null,
            "left": null,
            "margin": null,
            "max_height": null,
            "max_width": null,
            "min_height": null,
            "min_width": null,
            "object_fit": null,
            "object_position": null,
            "order": null,
            "overflow": null,
            "overflow_x": null,
            "overflow_y": null,
            "padding": null,
            "right": null,
            "top": null,
            "visibility": null,
            "width": null
          }
        },
        "02cb8701e189441a8d4d39572fd6e8e7": {
          "model_module": "@jupyter-widgets/controls",
          "model_name": "SliderStyleModel",
          "model_module_version": "1.5.0",
          "state": {
            "_model_module": "@jupyter-widgets/controls",
            "_model_module_version": "1.5.0",
            "_model_name": "SliderStyleModel",
            "_view_count": null,
            "_view_module": "@jupyter-widgets/base",
            "_view_module_version": "1.2.0",
            "_view_name": "StyleView",
            "description_width": "",
            "handle_color": null
          }
        },
        "4c389321ce354bdaa49c036cb63a8230": {
          "model_module": "@jupyter-widgets/base",
          "model_name": "LayoutModel",
          "model_module_version": "1.2.0",
          "state": {
            "_model_module": "@jupyter-widgets/base",
            "_model_module_version": "1.2.0",
            "_model_name": "LayoutModel",
            "_view_count": null,
            "_view_module": "@jupyter-widgets/base",
            "_view_module_version": "1.2.0",
            "_view_name": "LayoutView",
            "align_content": null,
            "align_items": null,
            "align_self": null,
            "border": null,
            "bottom": null,
            "display": null,
            "flex": null,
            "flex_flow": null,
            "grid_area": null,
            "grid_auto_columns": null,
            "grid_auto_flow": null,
            "grid_auto_rows": null,
            "grid_column": null,
            "grid_gap": null,
            "grid_row": null,
            "grid_template_areas": null,
            "grid_template_columns": null,
            "grid_template_rows": null,
            "height": null,
            "justify_content": null,
            "justify_items": null,
            "left": null,
            "margin": null,
            "max_height": null,
            "max_width": null,
            "min_height": null,
            "min_width": null,
            "object_fit": null,
            "object_position": null,
            "order": null,
            "overflow": null,
            "overflow_x": null,
            "overflow_y": null,
            "padding": null,
            "right": null,
            "top": null,
            "visibility": null,
            "width": null
          }
        },
        "1e154c442289492a9802c654719073c1": {
          "model_module": "@jupyter-widgets/controls",
          "model_name": "VBoxModel",
          "model_module_version": "1.5.0",
          "state": {
            "_dom_classes": [
              "widget-interact"
            ],
            "_model_module": "@jupyter-widgets/controls",
            "_model_module_version": "1.5.0",
            "_model_name": "VBoxModel",
            "_view_count": null,
            "_view_module": "@jupyter-widgets/controls",
            "_view_module_version": "1.5.0",
            "_view_name": "VBoxView",
            "box_style": "",
            "children": [
              "IPY_MODEL_6611e5d71ed04de189cff8ac2130a7ae",
              "IPY_MODEL_25b60b9c989a4e4db643e9a56f65c4f9"
            ],
            "layout": "IPY_MODEL_8d75ffe7c8d24ac2a28181f86eda0910"
          }
        },
        "6611e5d71ed04de189cff8ac2130a7ae": {
          "model_module": "@jupyter-widgets/controls",
          "model_name": "IntSliderModel",
          "model_module_version": "1.5.0",
          "state": {
            "_dom_classes": [],
            "_model_module": "@jupyter-widgets/controls",
            "_model_module_version": "1.5.0",
            "_model_name": "IntSliderModel",
            "_view_count": null,
            "_view_module": "@jupyter-widgets/controls",
            "_view_module_version": "1.5.0",
            "_view_name": "IntSliderView",
            "continuous_update": true,
            "description": "n_neighbors",
            "description_tooltip": null,
            "disabled": false,
            "layout": "IPY_MODEL_5c5cc66d65bf43c8bdfcca57abf54193",
            "max": 101,
            "min": 1,
            "orientation": "horizontal",
            "readout": true,
            "readout_format": "d",
            "step": 5,
            "style": "IPY_MODEL_bbf89711b9814ed799025b26b42c8830",
            "value": 11
          }
        },
        "25b60b9c989a4e4db643e9a56f65c4f9": {
          "model_module": "@jupyter-widgets/output",
          "model_name": "OutputModel",
          "model_module_version": "1.0.0",
          "state": {
            "_dom_classes": [],
            "_model_module": "@jupyter-widgets/output",
            "_model_module_version": "1.0.0",
            "_model_name": "OutputModel",
            "_view_count": null,
            "_view_module": "@jupyter-widgets/output",
            "_view_module_version": "1.0.0",
            "_view_name": "OutputView",
            "layout": "IPY_MODEL_0e95742bb736478f8076aece4dc7f1ad",
            "msg_id": "",
            "outputs": [
              {
                "output_type": "stream",
                "name": "stdout",
                "text": [
                  "   n_neighbours  mean_train_score  mean_valid_score\n",
                  "0            11             0.819             0.803\n"
                ]
              }
            ]
          }
        },
        "8d75ffe7c8d24ac2a28181f86eda0910": {
          "model_module": "@jupyter-widgets/base",
          "model_name": "LayoutModel",
          "model_module_version": "1.2.0",
          "state": {
            "_model_module": "@jupyter-widgets/base",
            "_model_module_version": "1.2.0",
            "_model_name": "LayoutModel",
            "_view_count": null,
            "_view_module": "@jupyter-widgets/base",
            "_view_module_version": "1.2.0",
            "_view_name": "LayoutView",
            "align_content": null,
            "align_items": null,
            "align_self": null,
            "border": null,
            "bottom": null,
            "display": null,
            "flex": null,
            "flex_flow": null,
            "grid_area": null,
            "grid_auto_columns": null,
            "grid_auto_flow": null,
            "grid_auto_rows": null,
            "grid_column": null,
            "grid_gap": null,
            "grid_row": null,
            "grid_template_areas": null,
            "grid_template_columns": null,
            "grid_template_rows": null,
            "height": null,
            "justify_content": null,
            "justify_items": null,
            "left": null,
            "margin": null,
            "max_height": null,
            "max_width": null,
            "min_height": null,
            "min_width": null,
            "object_fit": null,
            "object_position": null,
            "order": null,
            "overflow": null,
            "overflow_x": null,
            "overflow_y": null,
            "padding": null,
            "right": null,
            "top": null,
            "visibility": null,
            "width": null
          }
        },
        "5c5cc66d65bf43c8bdfcca57abf54193": {
          "model_module": "@jupyter-widgets/base",
          "model_name": "LayoutModel",
          "model_module_version": "1.2.0",
          "state": {
            "_model_module": "@jupyter-widgets/base",
            "_model_module_version": "1.2.0",
            "_model_name": "LayoutModel",
            "_view_count": null,
            "_view_module": "@jupyter-widgets/base",
            "_view_module_version": "1.2.0",
            "_view_name": "LayoutView",
            "align_content": null,
            "align_items": null,
            "align_self": null,
            "border": null,
            "bottom": null,
            "display": null,
            "flex": null,
            "flex_flow": null,
            "grid_area": null,
            "grid_auto_columns": null,
            "grid_auto_flow": null,
            "grid_auto_rows": null,
            "grid_column": null,
            "grid_gap": null,
            "grid_row": null,
            "grid_template_areas": null,
            "grid_template_columns": null,
            "grid_template_rows": null,
            "height": null,
            "justify_content": null,
            "justify_items": null,
            "left": null,
            "margin": null,
            "max_height": null,
            "max_width": null,
            "min_height": null,
            "min_width": null,
            "object_fit": null,
            "object_position": null,
            "order": null,
            "overflow": null,
            "overflow_x": null,
            "overflow_y": null,
            "padding": null,
            "right": null,
            "top": null,
            "visibility": null,
            "width": null
          }
        },
        "bbf89711b9814ed799025b26b42c8830": {
          "model_module": "@jupyter-widgets/controls",
          "model_name": "SliderStyleModel",
          "model_module_version": "1.5.0",
          "state": {
            "_model_module": "@jupyter-widgets/controls",
            "_model_module_version": "1.5.0",
            "_model_name": "SliderStyleModel",
            "_view_count": null,
            "_view_module": "@jupyter-widgets/base",
            "_view_module_version": "1.2.0",
            "_view_name": "StyleView",
            "description_width": "",
            "handle_color": null
          }
        },
        "0e95742bb736478f8076aece4dc7f1ad": {
          "model_module": "@jupyter-widgets/base",
          "model_name": "LayoutModel",
          "model_module_version": "1.2.0",
          "state": {
            "_model_module": "@jupyter-widgets/base",
            "_model_module_version": "1.2.0",
            "_model_name": "LayoutModel",
            "_view_count": null,
            "_view_module": "@jupyter-widgets/base",
            "_view_module_version": "1.2.0",
            "_view_name": "LayoutView",
            "align_content": null,
            "align_items": null,
            "align_self": null,
            "border": null,
            "bottom": null,
            "display": null,
            "flex": null,
            "flex_flow": null,
            "grid_area": null,
            "grid_auto_columns": null,
            "grid_auto_flow": null,
            "grid_auto_rows": null,
            "grid_column": null,
            "grid_gap": null,
            "grid_row": null,
            "grid_template_areas": null,
            "grid_template_columns": null,
            "grid_template_rows": null,
            "height": null,
            "justify_content": null,
            "justify_items": null,
            "left": null,
            "margin": null,
            "max_height": null,
            "max_width": null,
            "min_height": null,
            "min_width": null,
            "object_fit": null,
            "object_position": null,
            "order": null,
            "overflow": null,
            "overflow_x": null,
            "overflow_y": null,
            "padding": null,
            "right": null,
            "top": null,
            "visibility": null,
            "width": null
          }
        }
      }
    }
  },
  "nbformat": 4,
  "nbformat_minor": 5
}